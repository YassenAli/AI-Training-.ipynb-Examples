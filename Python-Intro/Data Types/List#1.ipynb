{
 "cells": [
  {
   "cell_type": "code",
   "execution_count": 1,
   "id": "21af3885-c82f-49a2-8cca-b9ff8d60ff63",
   "metadata": {},
   "outputs": [
    {
     "name": "stdout",
     "output_type": "stream",
     "text": [
      "[1, 2, 3, 4, 5]\n",
      "[1, 2, 3, 4, 5, 7]\n"
     ]
    }
   ],
   "source": [
    "aList = [1,2,3,4,5]\n",
    "\n",
    "print(aList)\n",
    "aList.append(7)\n",
    "print(aList)"
   ]
  },
  {
   "cell_type": "code",
   "execution_count": 2,
   "id": "21aef918-2c27-4806-a527-2058303531e6",
   "metadata": {},
   "outputs": [
    {
     "name": "stdout",
     "output_type": "stream",
     "text": [
      "[1, 9, 2, 3, 4, 5, 7]\n"
     ]
    }
   ],
   "source": [
    "aList.insert(1, 9)\n",
    "print(aList)"
   ]
  },
  {
   "cell_type": "code",
   "execution_count": 3,
   "id": "7eab1b31-8bad-4035-94da-4bb69ba8d77a",
   "metadata": {},
   "outputs": [
    {
     "name": "stdout",
     "output_type": "stream",
     "text": [
      "['Terry', 1, 9, 2, 3, 4, 5, 7]\n"
     ]
    }
   ],
   "source": [
    "aList.insert(0, 'Terry')\n",
    "print(aList)"
   ]
  },
  {
   "cell_type": "code",
   "execution_count": 5,
   "id": "fd0a2741-4493-4304-be88-d094a757e9ff",
   "metadata": {},
   "outputs": [
    {
     "ename": "ValueError",
     "evalue": "list.remove(x): x not in list",
     "output_type": "error",
     "traceback": [
      "\u001b[1;31m---------------------------------------------------------------------------\u001b[0m",
      "\u001b[1;31mValueError\u001b[0m                                Traceback (most recent call last)",
      "\u001b[1;32m<ipython-input-5-52764813b126>\u001b[0m in \u001b[0;36m<module>\u001b[1;34m\u001b[0m\n\u001b[1;32m----> 1\u001b[1;33m \u001b[0maList\u001b[0m\u001b[1;33m.\u001b[0m\u001b[0mremove\u001b[0m\u001b[1;33m(\u001b[0m\u001b[1;36m1\u001b[0m\u001b[1;33m)\u001b[0m \u001b[1;31m#Shift + Tab\u001b[0m\u001b[1;33m\u001b[0m\u001b[1;33m\u001b[0m\u001b[0m\n\u001b[0m\u001b[0;32m      2\u001b[0m \u001b[0maList\u001b[0m\u001b[1;33m\u001b[0m\u001b[1;33m\u001b[0m\u001b[0m\n",
      "\u001b[1;31mValueError\u001b[0m: list.remove(x): x not in list"
     ]
    }
   ],
   "source": [
    "aList.remove(1) #Shift + Tab\n",
    "aList"
   ]
  },
  {
   "cell_type": "code",
   "execution_count": 10,
   "id": "3486f90f-0105-4e5a-a368-82276ee9d4f3",
   "metadata": {},
   "outputs": [
    {
     "ename": "ValueError",
     "evalue": "list.remove(x): x not in list",
     "output_type": "error",
     "traceback": [
      "\u001b[1;31m---------------------------------------------------------------------------\u001b[0m",
      "\u001b[1;31mValueError\u001b[0m                                Traceback (most recent call last)",
      "\u001b[1;32m<ipython-input-10-c5034dd23bba>\u001b[0m in \u001b[0;36m<module>\u001b[1;34m\u001b[0m\n\u001b[1;32m----> 1\u001b[1;33m \u001b[0maList\u001b[0m\u001b[1;33m.\u001b[0m\u001b[0mremove\u001b[0m\u001b[1;33m(\u001b[0m\u001b[1;36m90\u001b[0m\u001b[1;33m)\u001b[0m\u001b[1;33m\u001b[0m\u001b[1;33m\u001b[0m\u001b[0m\n\u001b[0m",
      "\u001b[1;31mValueError\u001b[0m: list.remove(x): x not in list"
     ]
    }
   ],
   "source": [
    "aList.remove(90)"
   ]
  },
  {
   "cell_type": "code",
   "execution_count": 6,
   "id": "2da40839-3edb-4577-8bfa-026278174624",
   "metadata": {},
   "outputs": [
    {
     "data": {
      "text/plain": [
       "['Terry', 9, 2, 3, 4, 5, 7]"
      ]
     },
     "execution_count": 6,
     "metadata": {},
     "output_type": "execute_result"
    }
   ],
   "source": [
    "aList"
   ]
  },
  {
   "cell_type": "code",
   "execution_count": 8,
   "id": "e74c88f2-a9e4-47c8-825d-becb68cac505",
   "metadata": {},
   "outputs": [],
   "source": [
    "aList.remove('Terry')"
   ]
  },
  {
   "cell_type": "code",
   "execution_count": 9,
   "id": "9cd38f7c-b584-4b6d-b8f6-dccbfd1b448f",
   "metadata": {},
   "outputs": [
    {
     "data": {
      "text/plain": [
       "[2, 3, 4, 5, 7, 9]"
      ]
     },
     "execution_count": 9,
     "metadata": {},
     "output_type": "execute_result"
    }
   ],
   "source": [
    "aList.sort()\n",
    "aList # !!"
   ]
  },
  {
   "cell_type": "markdown",
   "id": "1ac6f197-024a-4847-8608-b62a0f7fbc28",
   "metadata": {},
   "source": [
    "## Exercise \n",
    "- Remove string 'qtyui' from aList.\n",
    "- Sort 'Decending' the list numerically with the remaining numbers.\n",
    "\n",
    "\n",
    "\n"
   ]
  },
  {
   "cell_type": "code",
   "execution_count": 17,
   "id": "ee9d9b64-b9cf-41fc-8301-2e1fda9b9b4e",
   "metadata": {},
   "outputs": [],
   "source": [
    "aList.sort()"
   ]
  },
  {
   "cell_type": "code",
   "execution_count": 16,
   "id": "b792d582-f3f3-4107-9416-651d02aae8da",
   "metadata": {},
   "outputs": [
    {
     "data": {
      "text/plain": [
       "[2, 3, 4, 5, 7, 9]"
      ]
     },
     "execution_count": 16,
     "metadata": {},
     "output_type": "execute_result"
    }
   ],
   "source": [
    "aList"
   ]
  },
  {
   "cell_type": "code",
   "execution_count": null,
   "id": "2adb3bf7-16f0-4eb0-aa70-2786cf5482d8",
   "metadata": {},
   "outputs": [],
   "source": []
  }
 ],
 "metadata": {
  "kernelspec": {
   "display_name": "Python 3",
   "language": "python",
   "name": "python3"
  },
  "language_info": {
   "codemirror_mode": {
    "name": "ipython",
    "version": 3
   },
   "file_extension": ".py",
   "mimetype": "text/x-python",
   "name": "python",
   "nbconvert_exporter": "python",
   "pygments_lexer": "ipython3",
   "version": "3.8.8"
  }
 },
 "nbformat": 4,
 "nbformat_minor": 5
}
