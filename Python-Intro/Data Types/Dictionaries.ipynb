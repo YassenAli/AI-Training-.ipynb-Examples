{
 "cells": [
  {
   "cell_type": "code",
   "execution_count": 1,
   "id": "d27a39a8-8751-4f0d-bb0c-eb6bfbc2bc12",
   "metadata": {},
   "outputs": [
    {
     "data": {
      "text/plain": [
       "{}"
      ]
     },
     "execution_count": 1,
     "metadata": {},
     "output_type": "execute_result"
    }
   ],
   "source": [
    "#Key/Value pairs\n",
    "dDict = dict()\n",
    "dDict # -> curly brackets"
   ]
  },
  {
   "cell_type": "code",
   "execution_count": 2,
   "id": "62ebe06b-bf77-47c1-8e5c-534cdd26785a",
   "metadata": {},
   "outputs": [
    {
     "data": {
      "text/plain": [
       "{'Name': 'Seif'}"
      ]
     },
     "execution_count": 2,
     "metadata": {},
     "output_type": "execute_result"
    }
   ],
   "source": [
    "dDict['Name'] = 'Seif'\n",
    "dDict"
   ]
  },
  {
   "cell_type": "code",
   "execution_count": 3,
   "id": "2f0db6fc-3aa0-44ff-8e39-1037d6cc1757",
   "metadata": {},
   "outputs": [
    {
     "data": {
      "text/plain": [
       "{'Name': 'Seif', 'Major': 'AI', 'Programming Langs': ['Python', 'C++', 'Java']}"
      ]
     },
     "execution_count": 3,
     "metadata": {},
     "output_type": "execute_result"
    }
   ],
   "source": [
    "dDict['Major'] = 'AI'\n",
    "dDict['Programming Langs'] = ['Python', 'C++', 'Java']\n",
    "dDict"
   ]
  },
  {
   "cell_type": "code",
   "execution_count": 4,
   "id": "0d3f1c8f-4b7c-4c5f-89b9-ea5108924422",
   "metadata": {},
   "outputs": [
    {
     "data": {
      "text/plain": [
       "{'Name': 'Heba', 'Major': 'CS', 'Programming Langs': ['Pascal']}"
      ]
     },
     "execution_count": 4,
     "metadata": {},
     "output_type": "execute_result"
    }
   ],
   "source": [
    "seifD = {\n",
    "    'Name': 'Heba', 'Major': 'CS', 'Programming Langs': ['Pascal']\n",
    "}\n",
    "seifD"
   ]
  },
  {
   "cell_type": "code",
   "execution_count": 6,
   "id": "ac3b2f01-e2c8-45da-b43f-5687e5711fc3",
   "metadata": {},
   "outputs": [
    {
     "data": {
      "text/plain": [
       "'CS'"
      ]
     },
     "execution_count": 6,
     "metadata": {},
     "output_type": "execute_result"
    }
   ],
   "source": [
    "seifD['Major']"
   ]
  },
  {
   "cell_type": "code",
   "execution_count": 7,
   "id": "a4d9d1f0-8869-426b-9432-579a71fff274",
   "metadata": {},
   "outputs": [
    {
     "data": {
      "text/plain": [
       "dict_keys(['Name', 'Major', 'Programming Langs'])"
      ]
     },
     "execution_count": 7,
     "metadata": {},
     "output_type": "execute_result"
    }
   ],
   "source": [
    "seifD.keys()"
   ]
  },
  {
   "cell_type": "code",
   "execution_count": 8,
   "id": "af9fa520-ef1d-48f6-a366-ce367146e021",
   "metadata": {},
   "outputs": [
    {
     "data": {
      "text/plain": [
       "dict_values(['Heba', 'CS', ['Pascal']])"
      ]
     },
     "execution_count": 8,
     "metadata": {},
     "output_type": "execute_result"
    }
   ],
   "source": [
    "seifD.values()"
   ]
  },
  {
   "cell_type": "code",
   "execution_count": 9,
   "id": "17c8e6ca-d276-46fd-94e4-f8c30cf572a5",
   "metadata": {},
   "outputs": [
    {
     "data": {
      "text/plain": [
       "dict_items([('Name', 'Heba'), ('Major', 'CS'), ('Programming Langs', ['Pascal'])])"
      ]
     },
     "execution_count": 9,
     "metadata": {},
     "output_type": "execute_result"
    }
   ],
   "source": [
    "seifD.items()"
   ]
  },
  {
   "cell_type": "code",
   "execution_count": 11,
   "id": "f6980d1a-1d4c-4003-aa4c-5279430a57bd",
   "metadata": {},
   "outputs": [
    {
     "data": {
      "text/plain": [
       "False"
      ]
     },
     "execution_count": 11,
     "metadata": {},
     "output_type": "execute_result"
    }
   ],
   "source": [
    "'name' in seifD.keys()"
   ]
  },
  {
   "cell_type": "code",
   "execution_count": null,
   "id": "aff1b1b1-f169-4c51-a959-f2d0e015e15f",
   "metadata": {},
   "outputs": [],
   "source": [
    "seifD. # Press tab!"
   ]
  },
  {
   "cell_type": "markdown",
   "id": "f0ca1bf7-c71a-4562-a48f-6b12b9f7f6eb",
   "metadata": {},
   "source": [
    "## Exercise!"
   ]
  },
  {
   "cell_type": "code",
   "execution_count": null,
   "id": "27b0ab06-be05-43ec-9102-f198adba0db2",
   "metadata": {},
   "outputs": [],
   "source": [
    "# 1) input two numbers from the user\n",
    "# 2) create a dictionary with 3 keys: 'fristNum', 'secondNum', 'Product'\n",
    "\n"
   ]
  }
 ],
 "metadata": {
  "kernelspec": {
   "display_name": "Python 3",
   "language": "python",
   "name": "python3"
  },
  "language_info": {
   "codemirror_mode": {
    "name": "ipython",
    "version": 3
   },
   "file_extension": ".py",
   "mimetype": "text/x-python",
   "name": "python",
   "nbconvert_exporter": "python",
   "pygments_lexer": "ipython3",
   "version": "3.8.8"
  }
 },
 "nbformat": 4,
 "nbformat_minor": 5
}
