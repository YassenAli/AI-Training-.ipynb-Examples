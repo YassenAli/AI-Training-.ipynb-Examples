{
 "cells": [
  {
   "cell_type": "code",
   "execution_count": 1,
   "id": "4b002ba8-8f71-4ac4-b56e-6a6fd99e23ed",
   "metadata": {},
   "outputs": [],
   "source": [
    "x = 7\n",
    "y = 4.3\n",
    "z = 0"
   ]
  },
  {
   "cell_type": "markdown",
   "id": "a5536734-e221-4507-b6d3-14739c5c29f0",
   "metadata": {},
   "source": [
    "## Floating-Point algebra"
   ]
  },
  {
   "cell_type": "code",
   "execution_count": 2,
   "id": "4e5c6c5a-b850-46d3-b74c-a5504c669d77",
   "metadata": {},
   "outputs": [
    {
     "data": {
      "text/plain": [
       "4.300000000000001"
      ]
     },
     "execution_count": 2,
     "metadata": {},
     "output_type": "execute_result"
    }
   ],
   "source": [
    "y + x - 7"
   ]
  },
  {
   "cell_type": "code",
   "execution_count": 3,
   "id": "d16dace3-5340-4033-b731-33b591adfa84",
   "metadata": {},
   "outputs": [
    {
     "data": {
      "text/plain": [
       "21.8"
      ]
     },
     "execution_count": 3,
     "metadata": {},
     "output_type": "execute_result"
    }
   ],
   "source": [
    "c = y + 3.5*x - 7\n",
    "\n",
    "c"
   ]
  },
  {
   "cell_type": "code",
   "execution_count": 4,
   "id": "622bbde7-5459-48d9-b649-41070f9cc66f",
   "metadata": {},
   "outputs": [
    {
     "data": {
      "text/plain": [
       "7"
      ]
     },
     "execution_count": 4,
     "metadata": {},
     "output_type": "execute_result"
    }
   ],
   "source": [
    "4/9\n",
    "4 \\\n",
    "    + 3"
   ]
  },
  {
   "cell_type": "code",
   "execution_count": 6,
   "id": "2738b28b-4fde-4314-a859-74cabbe0403c",
   "metadata": {},
   "outputs": [
    {
     "data": {
      "text/plain": [
       "3.0"
      ]
     },
     "execution_count": 6,
     "metadata": {},
     "output_type": "execute_result"
    }
   ],
   "source": [
    "9**(1/2) #???"
   ]
  },
  {
   "cell_type": "code",
   "execution_count": 9,
   "id": "e179c5bb-b537-4f00-99d0-2284728c2fb5",
   "metadata": {},
   "outputs": [
    {
     "data": {
      "text/plain": [
       "'Seif M Gad'"
      ]
     },
     "execution_count": 9,
     "metadata": {},
     "output_type": "execute_result"
    }
   ],
   "source": [
    "firstName = 'Seif '\n",
    "lastName  = 'M Gad'\n",
    "fullName  = firstName + lastName #Overloading\n",
    "\n",
    "fullName"
   ]
  },
  {
   "cell_type": "code",
   "execution_count": 13,
   "id": "03420ca4-890a-4242-b73a-5c4705487b11",
   "metadata": {},
   "outputs": [
    {
     "name": "stdout",
     "output_type": "stream",
     "text": [
      "********************************************************************************\n"
     ]
    }
   ],
   "source": [
    "print('*' * 80)"
   ]
  },
  {
   "cell_type": "markdown",
   "id": "b44889e2-6e04-4680-998e-95734b9c1321",
   "metadata": {},
   "source": [
    "## Printing"
   ]
  },
  {
   "cell_type": "code",
   "execution_count": 15,
   "id": "06331e00-586b-4973-a4d4-ce3041d21087",
   "metadata": {},
   "outputs": [
    {
     "data": {
      "text/plain": [
       "(7, 4.3)"
      ]
     },
     "execution_count": 15,
     "metadata": {},
     "output_type": "execute_result"
    }
   ],
   "source": [
    "x,y"
   ]
  },
  {
   "cell_type": "code",
   "execution_count": null,
   "id": "f4d2283f-c991-481c-8104-cc66cd174c31",
   "metadata": {},
   "outputs": [],
   "source": [
    "str()"
   ]
  },
  {
   "cell_type": "code",
   "execution_count": 4,
   "id": "9cc89b20-87e9-4489-923b-4ace55e086b0",
   "metadata": {},
   "outputs": [
    {
     "name": "stdout",
     "output_type": "stream",
     "text": [
      "7*3 = 21\n",
      "11.3\n",
      "7 + 4.3 = 11.3\n",
      "Summation of 7 + 4.3 = 11.3\n"
     ]
    }
   ],
   "source": [
    "print('7*3 = 21')\n",
    "print(x + y)\n",
    "print(str(x) + ' + ' + str(y) + ' = ' + str(x+y))\n",
    "print(f'Summation of {x} + {y} = {x+y}')"
   ]
  },
  {
   "cell_type": "code",
   "execution_count": null,
   "id": "02db2058-5f2c-484c-a0d9-59f894767804",
   "metadata": {},
   "outputs": [],
   "source": [
    "float()"
   ]
  },
  {
   "cell_type": "code",
   "execution_count": 8,
   "id": "a25ee74e-421a-45c1-8067-4fd005293ec2",
   "metadata": {},
   "outputs": [
    {
     "name": "stdin",
     "output_type": "stream",
     "text": [
      "Give me a number:  25\n"
     ]
    }
   ],
   "source": [
    "ans  = int(input('Give me a number: '))"
   ]
  },
  {
   "cell_type": "code",
   "execution_count": 9,
   "id": "9d69cd15-dda4-48cc-bdff-0beb19b94699",
   "metadata": {},
   "outputs": [
    {
     "data": {
      "text/plain": [
       "int"
      ]
     },
     "execution_count": 9,
     "metadata": {},
     "output_type": "execute_result"
    }
   ],
   "source": [
    "type(ans)"
   ]
  },
  {
   "cell_type": "code",
   "execution_count": 10,
   "id": "31a5cdca-6608-4a00-aa4f-344621c5bd20",
   "metadata": {},
   "outputs": [
    {
     "data": {
      "text/plain": [
       "33"
      ]
     },
     "execution_count": 10,
     "metadata": {},
     "output_type": "execute_result"
    }
   ],
   "source": [
    "ans + 8"
   ]
  },
  {
   "cell_type": "code",
   "execution_count": null,
   "id": "f92cbc80-d3cd-4f9f-8fc5-df7396eb4753",
   "metadata": {},
   "outputs": [],
   "source": []
  },
  {
   "cell_type": "markdown",
   "id": "a4e927fc-3e71-4633-bb7a-caea21818221",
   "metadata": {},
   "source": [
    "## Exercise!"
   ]
  },
  {
   "cell_type": "code",
   "execution_count": 29,
   "id": "0295b6e6-ee15-4146-918d-c9cbf2bd667e",
   "metadata": {},
   "outputs": [
    {
     "name": "stdin",
     "output_type": "stream",
     "text": [
      "Enter the first number:  3\n",
      "Enter the second number:  4\n"
     ]
    },
    {
     "data": {
      "text/plain": [
       "5.0"
      ]
     },
     "execution_count": 29,
     "metadata": {},
     "output_type": "execute_result"
    }
   ],
   "source": [
    "# Pythagorean thereom\n",
    "# c**2 = a**2 + b**2\n",
    "\n",
    "# Get two inputs from the user\n",
    "#    side 'a'\n",
    "#    side 'b'\n",
    "# - Compute and print out the length of side c!\n",
    "\n",
    "a = float(input('Please enter the first number: '))\n",
    "b = float(input('Please enter the second number: '))\n",
    "\n",
    "c = "
   ]
  },
  {
   "cell_type": "code",
   "execution_count": null,
   "id": "5af82720-8457-4f03-93f4-39a534a7b373",
   "metadata": {},
   "outputs": [],
   "source": []
  }
 ],
 "metadata": {
  "kernelspec": {
   "display_name": "Python 3",
   "language": "python",
   "name": "python3"
  },
  "language_info": {
   "codemirror_mode": {
    "name": "ipython",
    "version": 3
   },
   "file_extension": ".py",
   "mimetype": "text/x-python",
   "name": "python",
   "nbconvert_exporter": "python",
   "pygments_lexer": "ipython3",
   "version": "3.8.8"
  }
 },
 "nbformat": 4,
 "nbformat_minor": 5
}
