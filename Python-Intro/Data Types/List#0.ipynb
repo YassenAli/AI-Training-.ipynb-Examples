{
 "cells": [
  {
   "cell_type": "code",
   "execution_count": 1,
   "id": "d34b5097-a742-4a56-a83e-462211e617ef",
   "metadata": {},
   "outputs": [
    {
     "data": {
      "text/plain": [
       "[4, 5, 6, 7, 8, 2, 0, 3]"
      ]
     },
     "execution_count": 1,
     "metadata": {},
     "output_type": "execute_result"
    }
   ],
   "source": [
    "aList = [ 4,5,6,7,8,2,0,3 ] # ->Square brackets\n",
    "strList = [ 'hi', \"I'm\", 'Seif']\n",
    "mixList = [ 8,5.01,'test',50.1 ]\n",
    "listLists = [ 1,2,3,'hi','bye', [0.6, 1/9, 'i'], 5,6,3]\n",
    "\n",
    "aList"
   ]
  },
  {
   "cell_type": "code",
   "execution_count": 3,
   "id": "ef96bd5b-776f-4923-9593-9f878a096ecf",
   "metadata": {},
   "outputs": [
    {
     "data": {
      "text/plain": [
       "True"
      ]
     },
     "execution_count": 3,
     "metadata": {},
     "output_type": "execute_result"
    }
   ],
   "source": [
    "5 in aList"
   ]
  },
  {
   "cell_type": "code",
   "execution_count": 4,
   "id": "a8850727-97bf-489f-8c7c-20a7da2f9fd0",
   "metadata": {},
   "outputs": [
    {
     "data": {
      "text/plain": [
       "([4, 5, 6, 7, 8, 2, 0, 3], ['hi', \"I'm\", 'Seif'])"
      ]
     },
     "execution_count": 4,
     "metadata": {},
     "output_type": "execute_result"
    }
   ],
   "source": [
    "aList, strList"
   ]
  },
  {
   "cell_type": "code",
   "execution_count": 4,
   "id": "6d3d42a4-1bc6-46c6-a4e4-e852d8df0d93",
   "metadata": {},
   "outputs": [
    {
     "data": {
      "text/plain": [
       "[4, 5, 6, 7, 8, 2, 0, 3, 'hi', \"I'm\", 'Seif']"
      ]
     },
     "execution_count": 4,
     "metadata": {},
     "output_type": "execute_result"
    }
   ],
   "source": [
    "aList + strList"
   ]
  },
  {
   "cell_type": "code",
   "execution_count": 9,
   "id": "0252720c-ed41-4f61-ba03-84d342d82705",
   "metadata": {},
   "outputs": [
    {
     "data": {
      "text/plain": [
       "['hi', \"I'm\", 'Seif', 'hi', \"I'm\", 'Seif', 'hi', \"I'm\", 'Seif']"
      ]
     },
     "execution_count": 9,
     "metadata": {},
     "output_type": "execute_result"
    }
   ],
   "source": [
    "strList*3 "
   ]
  },
  {
   "cell_type": "markdown",
   "id": "712b0348-b342-4f4c-ae3d-8b7a57af1b62",
   "metadata": {},
   "source": [
    "## Method"
   ]
  },
  {
   "cell_type": "code",
   "execution_count": 5,
   "id": "66839ac2-ecb6-4d15-b2ef-2d4d2266af95",
   "metadata": {},
   "outputs": [
    {
     "name": "stdout",
     "output_type": "stream",
     "text": [
      "[4, 5, 6, 7, 8, 2, 0, 3]\n",
      "[4, 5, 6, 7, 8, 2, 0, 3, -100]\n"
     ]
    }
   ],
   "source": [
    "print(aList)\n",
    "aList.append(-100)\n",
    "print(aList)"
   ]
  },
  {
   "cell_type": "code",
   "execution_count": 6,
   "id": "134a2633-c59c-4b02-ad30-4aa5e772365f",
   "metadata": {},
   "outputs": [
    {
     "name": "stdout",
     "output_type": "stream",
     "text": [
      "[4, 5, 6, 7, 8, 2, 0, 3, -100]\n",
      "[4, 5, 6, 7, 8, 2, 0, 3, -100, -100]\n"
     ]
    }
   ],
   "source": [
    "print(aList)\n",
    "aList.append(-100)\n",
    "print(aList)"
   ]
  },
  {
   "cell_type": "code",
   "execution_count": 7,
   "id": "557eecb7-1689-4749-8cc7-75c0beabdde3",
   "metadata": {},
   "outputs": [
    {
     "name": "stdout",
     "output_type": "stream",
     "text": [
      "[4, 5, 6, 7, 8, 2, 0, 3, -100, -100]\n",
      "[4, 5, 6, 7, 8, 2, 0, 3, -100, -100, 'qwert']\n"
     ]
    }
   ],
   "source": [
    "print(aList)\n",
    "aList.append('qwert')\n",
    "print(aList)"
   ]
  },
  {
   "cell_type": "code",
   "execution_count": 11,
   "id": "b460955b-abef-416c-b052-6fcb968928c3",
   "metadata": {},
   "outputs": [],
   "source": [
    "aList = [4, 5, 6, 7, 8, 2, 0, 3, -100, 2.1]"
   ]
  },
  {
   "cell_type": "code",
   "execution_count": 12,
   "id": "84aa83b0-fdc0-4de5-8154-b7b3bee054a4",
   "metadata": {},
   "outputs": [
    {
     "name": "stdout",
     "output_type": "stream",
     "text": [
      "[4, 5, 6, 7, 8, 2, 0, 3, -100, 2.1]\n",
      "[-100, 0, 2, 2.1, 3, 4, 5, 6, 7, 8]\n"
     ]
    }
   ],
   "source": [
    "print(aList)\n",
    "aList.sort()\n",
    "print(aList)"
   ]
  },
  {
   "cell_type": "markdown",
   "id": "486c96f0-2f52-4055-8050-db660bd546a9",
   "metadata": {},
   "source": [
    "## Exercise"
   ]
  },
  {
   "cell_type": "code",
   "execution_count": 14,
   "id": "774bb81b-e4eb-4532-bc1a-ad2aa32718c9",
   "metadata": {},
   "outputs": [
    {
     "data": {
      "text/plain": [
       "1"
      ]
     },
     "execution_count": 14,
     "metadata": {},
     "output_type": "execute_result"
    }
   ],
   "source": [
    "# Use a list method to find the number of \"-100\"s in aList\n",
    "aList.count(-100)"
   ]
  },
  {
   "cell_type": "code",
   "execution_count": null,
   "id": "0999a42e-15eb-4ab6-b386-fa08c034c61c",
   "metadata": {},
   "outputs": [],
   "source": []
  }
 ],
 "metadata": {
  "kernelspec": {
   "display_name": "Python 3",
   "language": "python",
   "name": "python3"
  },
  "language_info": {
   "codemirror_mode": {
    "name": "ipython",
    "version": 3
   },
   "file_extension": ".py",
   "mimetype": "text/x-python",
   "name": "python",
   "nbconvert_exporter": "python",
   "pygments_lexer": "ipython3",
   "version": "3.8.8"
  }
 },
 "nbformat": 4,
 "nbformat_minor": 5
}
