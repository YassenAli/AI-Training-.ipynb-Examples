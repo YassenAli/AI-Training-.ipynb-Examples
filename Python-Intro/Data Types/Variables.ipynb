{
 "cells": [
  {
   "cell_type": "code",
   "execution_count": 8,
   "id": "68cf5324-e367-4f3e-88fa-1002a58b2ef8",
   "metadata": {},
   "outputs": [],
   "source": [
    "a = 4"
   ]
  },
  {
   "cell_type": "code",
   "execution_count": 9,
   "id": "be1fc755-7faf-4af6-8f11-63ab289a2eb8",
   "metadata": {},
   "outputs": [],
   "source": [
    "b = 'String'"
   ]
  },
  {
   "cell_type": "code",
   "execution_count": 10,
   "id": "7eb33776-525c-4a19-b10d-c244c3bd56fb",
   "metadata": {},
   "outputs": [
    {
     "name": "stdout",
     "output_type": "stream",
     "text": [
      "4\n",
      "String\n"
     ]
    }
   ],
   "source": [
    "# This code cell to inspect the values of the variables\n",
    "print(a)\n",
    "print(b)"
   ]
  },
  {
   "cell_type": "markdown",
   "id": "9d086123-9d60-424b-815a-bb3f731f833f",
   "metadata": {},
   "source": [
    "## Variable types\n",
    "- Intergers -> `a = 4`\n",
    "- Floats -> `b = 8.4`"
   ]
  },
  {
   "cell_type": "code",
   "execution_count": 11,
   "id": "bc55f480-97ca-4844-a887-500745bad109",
   "metadata": {},
   "outputs": [
    {
     "data": {
      "text/plain": [
       "(int, float, str)"
      ]
     },
     "execution_count": 11,
     "metadata": {},
     "output_type": "execute_result"
    }
   ],
   "source": [
    "c = 7\n",
    "d = 7.0\n",
    "f = 'Seif'\n",
    "\n",
    "type(c), type(d), type(f)"
   ]
  },
  {
   "cell_type": "code",
   "execution_count": 13,
   "id": "190c46b9-2486-4083-aaf1-1a249dc75dcc",
   "metadata": {},
   "outputs": [
    {
     "data": {
      "text/plain": [
       "str"
      ]
     },
     "execution_count": 13,
     "metadata": {},
     "output_type": "execute_result"
    }
   ],
   "source": [
    "s = 'Hello i don\\'t know'\n",
    "f = \"My name is I don't.\"\n",
    "\n",
    "type(f)"
   ]
  },
  {
   "cell_type": "markdown",
   "id": "969835d3-09c7-4fe5-8b07-caab1c791962",
   "metadata": {},
   "source": [
    "## Valid variables names"
   ]
  },
  {
   "cell_type": "code",
   "execution_count": 15,
   "id": "ef7ae215-71e0-4973-914d-1e432945d9a4",
   "metadata": {},
   "outputs": [],
   "source": [
    "aVariableName = 10\n",
    "filterOrder = 18\n",
    "user_name = 'seif'\n",
    "param4modelA = 43.58745 \n",
    "\n",
    "#Not allowed\n",
    "# not!allowed = 394\n",
    "# 3asd = 36"
   ]
  },
  {
   "cell_type": "code",
   "execution_count": 16,
   "id": "6997cc3f-7795-4a1f-a428-6ce493ba19ec",
   "metadata": {
    "tags": []
   },
   "outputs": [
    {
     "name": "stdout",
     "output_type": "stream",
     "text": [
      "Variable        Type     Data/Info\n",
      "----------------------------------\n",
      "a               int      4\n",
      "aVariableName   int      10\n",
      "b               str      String\n",
      "c               int      7\n",
      "d               float    7.0\n",
      "f               str      My name is I don't.\n",
      "filterOrder     int      18\n",
      "param4modelA    float    43.58745\n",
      "s               str      Hello i don't know\n",
      "user_name       str      seif\n"
     ]
    }
   ],
   "source": [
    "%whos"
   ]
  },
  {
   "cell_type": "markdown",
   "id": "f63742dd-992d-4041-904a-3dc8999fbcff",
   "metadata": {},
   "source": [
    "## Multiple assignment"
   ]
  },
  {
   "cell_type": "code",
   "execution_count": 18,
   "id": "1f00d81e-0bb7-4e74-b09c-e8851f9d6a05",
   "metadata": {},
   "outputs": [
    {
     "name": "stdout",
     "output_type": "stream",
     "text": [
      "3\n",
      "Seif\n"
     ]
    }
   ],
   "source": [
    "varA = 3\n",
    "varB = 'test'\n",
    "\n",
    "print(varA)\n",
    "print(varB)"
   ]
  },
  {
   "cell_type": "code",
   "execution_count": 19,
   "id": "a5ec1c14-6f22-48b9-8572-6e9cbcc8b30a",
   "metadata": {},
   "outputs": [
    {
     "name": "stdout",
     "output_type": "stream",
     "text": [
      "3\n",
      "9\n"
     ]
    }
   ],
   "source": [
    "a = 3\n",
    "print(a)\n",
    "a = 9\n",
    "print(a)"
   ]
  },
  {
   "cell_type": "markdown",
   "id": "3433c007-e37c-440f-be1c-99e523ef847a",
   "metadata": {},
   "source": [
    "## Exercise!"
   ]
  },
  {
   "cell_type": "code",
   "execution_count": null,
   "id": "1e616a3a-d4da-40e1-9b89-a755b40d1a21",
   "metadata": {},
   "outputs": [],
   "source": [
    "# Can you overwrite existing variables ?\n",
    "#    - using the same variable type\n",
    "#    - using different variable type"
   ]
  }
 ],
 "metadata": {
  "kernelspec": {
   "display_name": "Python 3",
   "language": "python",
   "name": "python3"
  },
  "language_info": {
   "codemirror_mode": {
    "name": "ipython",
    "version": 3
   },
   "file_extension": ".py",
   "mimetype": "text/x-python",
   "name": "python",
   "nbconvert_exporter": "python",
   "pygments_lexer": "ipython3",
   "version": "3.8.8"
  }
 },
 "nbformat": 4,
 "nbformat_minor": 5
}
