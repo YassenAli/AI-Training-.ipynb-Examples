{
 "cells": [
  {
   "cell_type": "code",
   "execution_count": 2,
   "outputs": [
    {
     "name": "stdout",
     "output_type": "stream",
     "text": [
      "Collecting pandas\n",
      "  Downloading pandas-2.1.0-cp39-cp39-win_amd64.whl (11.2 MB)\n",
      "     ---------------------------------------- 11.2/11.2 MB 3.4 MB/s eta 0:00:00\n",
      "Collecting pytz>=2020.1\n",
      "  Downloading pytz-2023.3.post1-py2.py3-none-any.whl (502 kB)\n",
      "     -------------------------------------- 502.5/502.5 KB 3.5 MB/s eta 0:00:00\n",
      "Collecting tzdata>=2022.1\n",
      "  Downloading tzdata-2023.3-py2.py3-none-any.whl (341 kB)\n",
      "     -------------------------------------- 341.8/341.8 KB 3.6 MB/s eta 0:00:00\n",
      "Requirement already satisfied: numpy>=1.22.4 in c:\\users\\user\\appdata\\local\\programs\\python\\python39\\lib\\site-packages (from pandas) (1.25.2)\n",
      "Requirement already satisfied: python-dateutil>=2.8.2 in c:\\users\\user\\appdata\\local\\programs\\python\\python39\\lib\\site-packages (from pandas) (2.8.2)\n",
      "Requirement already satisfied: six>=1.5 in c:\\users\\user\\appdata\\local\\programs\\python\\python39\\lib\\site-packages (from python-dateutil>=2.8.2->pandas) (1.16.0)\n",
      "Installing collected packages: pytz, tzdata, pandas\n",
      "Successfully installed pandas-2.1.0 pytz-2023.3.post1 tzdata-2023.3\n",
      "Note: you may need to restart the kernel to use updated packages.\n"
     ]
    },
    {
     "name": "stderr",
     "output_type": "stream",
     "text": [
      "WARNING: You are using pip version 22.0.4; however, version 23.2.1 is available.\n",
      "You should consider upgrading via the 'C:\\Users\\user\\AppData\\Local\\Programs\\Python\\Python39\\python.exe -m pip install --upgrade pip' command.\n"
     ]
    }
   ],
   "source": [
    "pip install pandas"
   ],
   "metadata": {
    "collapsed": false,
    "ExecuteTime": {
     "start_time": "2023-09-14T14:40:17.389760Z"
    }
   },
   "id": "481029cb07f001ae"
  },
  {
   "cell_type": "code",
   "execution_count": 3,
   "outputs": [],
   "source": [
    "import numpy as np\n",
    "import pandas as pd"
   ],
   "metadata": {
    "collapsed": false,
    "ExecuteTime": {
     "end_time": "2023-09-18T20:16:19.314329900Z",
     "start_time": "2023-09-18T20:16:17.928952700Z"
    }
   },
   "id": "1a7f195f-6537-4e32-8b71-fff99c9c3bef"
  },
  {
   "cell_type": "code",
   "execution_count": 10,
   "outputs": [
    {
     "data": {
      "text/plain": "array([[ 0.09489632, -0.02672917,  0.26259571,  1.48723439,  1.39742484,\n         0.0350837 ,  0.13178548,  1.0299806 ],\n       [ 0.34238822,  0.86800948, -1.38624475,  2.14087656,  1.10266911,\n         0.61180395,  1.53314954, -0.072266  ],\n       [ 0.3358115 , -1.49852246,  0.22170445, -0.43882771, -0.7202308 ,\n        -1.38734542,  1.29919831,  2.58314715],\n       [ 1.04040328,  1.89720882,  1.19681424, -0.62526541, -0.87072214,\n         0.09238854, -0.24106503, -0.04678451],\n       [ 0.40866187,  0.20832593,  0.10119481,  0.90324063,  0.98657266,\n        -1.47005511, -0.69390305, -0.51259717],\n       [ 1.49683339,  0.87295263,  0.24443815, -0.36125972, -0.01886832,\n         0.98128187, -1.97111681,  1.14470006],\n       [ 0.91182622, -0.47218006,  1.36208856,  0.60883849,  1.63823441,\n        -0.20169054, -0.62248152,  1.40096477],\n       [-0.99400883,  0.78013997, -0.87878265,  0.19063694, -0.29346901,\n         0.81668358, -0.02983332, -1.51377656]])"
     },
     "execution_count": 10,
     "metadata": {},
     "output_type": "execute_result"
    }
   ],
   "source": [
    "np.random.randn(8,8)"
   ],
   "metadata": {
    "collapsed": false,
    "ExecuteTime": {
     "end_time": "2023-09-18T20:30:56.892313900Z",
     "start_time": "2023-09-18T20:30:56.871413Z"
    }
   },
   "id": "602ea949-93e0-4fce-afde-4482f7e62b0c"
  },
  {
   "cell_type": "code",
   "execution_count": 11,
   "id": "ca88132a-22ac-47dd-b61a-07dc122ac21d",
   "metadata": {
    "tags": [],
    "ExecuteTime": {
     "end_time": "2023-09-18T20:31:00.518102100Z",
     "start_time": "2023-09-18T20:31:00.500637800Z"
    }
   },
   "outputs": [],
   "source": [
    "var1 = np.random.randn(100)*5 + 20\n",
    "var2 = np.random.randn(100) > 0\n",
    "\n",
    "\n",
    "labels = ['Temp (C)', 'Ice cream']\n",
    "\n",
    "D = {\n",
    "    labels[0]: var1,\n",
    "    labels[1]: var2,\n",
    "}"
   ]
  },
  {
   "cell_type": "code",
   "execution_count": 12,
   "id": "8dc83432-940e-49ca-ad3d-f02c3ce069cb",
   "metadata": {
    "tags": [],
    "ExecuteTime": {
     "end_time": "2023-09-18T20:31:02.667176900Z",
     "start_time": "2023-09-18T20:31:02.656175700Z"
    }
   },
   "outputs": [
    {
     "data": {
      "text/plain": "{'Temp (C)': array([21.22117086, 25.25656586, 16.02614388, 18.41297491, 18.6013235 ,\n        26.19155883, 11.63574226, 18.64652654, 24.63713448, 22.08244865,\n        17.07706991, 29.54740411, 19.91459522, 20.46838017, 13.41484497,\n        24.10920958, 19.76274238, 24.17821834, 15.46875003, 27.24497526,\n        14.15034721, 17.43544732, 10.04028015, 14.42128257, 23.99396263,\n        23.24229006, 20.69292082, 14.66837402, 23.07282873, 30.22253035,\n        16.73991175, 27.2731613 , 18.39104341, 21.77647433, 22.13927004,\n        18.18269186, 25.2533496 , 13.75979573, 13.77357024, 22.5743375 ,\n        28.36753797, 25.90552406, 15.43433916, 16.41500612, 22.34238227,\n        27.20498701, 14.63911482, 27.06294719, 16.11840246, 21.15382411,\n        14.54634398, 22.95057124, 26.58396558, 19.73382951, 21.98210083,\n        19.87397951, 24.47221141, 16.68505203, 23.00350798, 26.94320306,\n        19.28133734, 24.73853826,  9.66504529, 26.22093223, 19.39894975,\n        18.19560527, 17.88474202, 22.63837619, 14.54818707,  9.75324333,\n        22.73197422, 24.73495927, 21.50731395, 12.04425541, 14.91478247,\n        22.83194988, 22.54984309, 25.53335487, 18.69913488, 23.71230007,\n        11.70649422, 21.46464002, 14.74125783, 14.83092821, 20.99984144,\n        22.15907698, 20.94810546, 24.87000397, 21.85337261, 13.24525169,\n        17.41666616, 29.73730343, 14.35329412, 14.65620484, 18.69599261,\n        16.04606044, 16.1293222 , 28.44229185, 18.83594379, 28.14622514]),\n 'Ice cream': array([False,  True,  True,  True,  True,  True,  True, False,  True,\n        False,  True,  True, False,  True,  True,  True, False,  True,\n        False,  True, False, False, False,  True,  True, False, False,\n         True, False,  True,  True, False, False, False,  True,  True,\n         True,  True,  True, False,  True, False,  True, False,  True,\n        False, False, False,  True, False,  True, False, False, False,\n         True,  True, False,  True, False,  True,  True, False, False,\n        False,  True,  True,  True,  True, False,  True, False, False,\n         True,  True, False, False,  True,  True, False,  True,  True,\n         True, False, False,  True,  True, False,  True, False,  True,\n        False,  True,  True, False,  True,  True,  True,  True, False,\n        False])}"
     },
     "execution_count": 12,
     "metadata": {},
     "output_type": "execute_result"
    }
   ],
   "source": [
    "D"
   ]
  },
  {
   "cell_type": "code",
   "execution_count": 13,
   "id": "4eaa73fe-d153-45de-ae05-1a5e416c8431",
   "metadata": {
    "tags": [],
    "ExecuteTime": {
     "end_time": "2023-09-18T20:31:05.161637400Z",
     "start_time": "2023-09-18T20:31:05.133622200Z"
    }
   },
   "outputs": [],
   "source": [
    "df = pd.DataFrame(data=D)"
   ]
  },
  {
   "cell_type": "code",
   "execution_count": 14,
   "id": "36cae968-12ca-401c-98d8-0207d439219c",
   "metadata": {
    "tags": [],
    "ExecuteTime": {
     "end_time": "2023-09-18T20:31:07.282756600Z",
     "start_time": "2023-09-18T20:31:07.264748300Z"
    }
   },
   "outputs": [
    {
     "data": {
      "text/plain": "pandas.core.frame.DataFrame"
     },
     "execution_count": 14,
     "metadata": {},
     "output_type": "execute_result"
    }
   ],
   "source": [
    "type(df)"
   ]
  },
  {
   "cell_type": "code",
   "execution_count": 15,
   "id": "6c126158-e611-42ef-af69-e9f18976a154",
   "metadata": {
    "tags": [],
    "ExecuteTime": {
     "end_time": "2023-09-18T20:31:10.194420300Z",
     "start_time": "2023-09-18T20:31:10.177418700Z"
    }
   },
   "outputs": [
    {
     "data": {
      "text/plain": "     Temp (C)  Ice cream\n0   21.221171      False\n1   25.256566       True\n2   16.026144       True\n3   18.412975       True\n4   18.601324       True\n..        ...        ...\n95  16.046060       True\n96  16.129322       True\n97  28.442292       True\n98  18.835944      False\n99  28.146225      False\n\n[100 rows x 2 columns]",
      "text/html": "<div>\n<style scoped>\n    .dataframe tbody tr th:only-of-type {\n        vertical-align: middle;\n    }\n\n    .dataframe tbody tr th {\n        vertical-align: top;\n    }\n\n    .dataframe thead th {\n        text-align: right;\n    }\n</style>\n<table border=\"1\" class=\"dataframe\">\n  <thead>\n    <tr style=\"text-align: right;\">\n      <th></th>\n      <th>Temp (C)</th>\n      <th>Ice cream</th>\n    </tr>\n  </thead>\n  <tbody>\n    <tr>\n      <th>0</th>\n      <td>21.221171</td>\n      <td>False</td>\n    </tr>\n    <tr>\n      <th>1</th>\n      <td>25.256566</td>\n      <td>True</td>\n    </tr>\n    <tr>\n      <th>2</th>\n      <td>16.026144</td>\n      <td>True</td>\n    </tr>\n    <tr>\n      <th>3</th>\n      <td>18.412975</td>\n      <td>True</td>\n    </tr>\n    <tr>\n      <th>4</th>\n      <td>18.601324</td>\n      <td>True</td>\n    </tr>\n    <tr>\n      <th>...</th>\n      <td>...</td>\n      <td>...</td>\n    </tr>\n    <tr>\n      <th>95</th>\n      <td>16.046060</td>\n      <td>True</td>\n    </tr>\n    <tr>\n      <th>96</th>\n      <td>16.129322</td>\n      <td>True</td>\n    </tr>\n    <tr>\n      <th>97</th>\n      <td>28.442292</td>\n      <td>True</td>\n    </tr>\n    <tr>\n      <th>98</th>\n      <td>18.835944</td>\n      <td>False</td>\n    </tr>\n    <tr>\n      <th>99</th>\n      <td>28.146225</td>\n      <td>False</td>\n    </tr>\n  </tbody>\n</table>\n<p>100 rows × 2 columns</p>\n</div>"
     },
     "execution_count": 15,
     "metadata": {},
     "output_type": "execute_result"
    }
   ],
   "source": [
    "df"
   ]
  },
  {
   "cell_type": "code",
   "execution_count": 16,
   "id": "7eb0c9af-5c1d-4e32-895b-d3509b2a8dc5",
   "metadata": {
    "ExecuteTime": {
     "end_time": "2023-09-18T20:31:17.105356700Z",
     "start_time": "2023-09-18T20:31:17.092354100Z"
    }
   },
   "outputs": [
    {
     "name": "stdout",
     "output_type": "stream",
     "text": [
      "<class 'pandas.core.frame.DataFrame'>\n",
      "RangeIndex: 100 entries, 0 to 99\n",
      "Data columns (total 2 columns):\n",
      " #   Column     Non-Null Count  Dtype  \n",
      "---  ------     --------------  -----  \n",
      " 0   Temp (C)   100 non-null    float64\n",
      " 1   Ice cream  100 non-null    bool   \n",
      "dtypes: bool(1), float64(1)\n",
      "memory usage: 1.0 KB\n"
     ]
    }
   ],
   "source": [
    "df.info()"
   ]
  },
  {
   "cell_type": "code",
   "execution_count": 17,
   "id": "d7c79215-d8fc-4573-afac-45de21711c5f",
   "metadata": {
    "ExecuteTime": {
     "end_time": "2023-09-18T20:31:19.509055400Z",
     "start_time": "2023-09-18T20:31:19.491052900Z"
    }
   },
   "outputs": [
    {
     "data": {
      "text/plain": "         Temp (C)\ncount  100.000000\nmean    20.179836\nstd      4.990325\nmin      9.665045\n25%     16.100317\n50%     20.580650\n75%     24.022774\nmax     30.222530",
      "text/html": "<div>\n<style scoped>\n    .dataframe tbody tr th:only-of-type {\n        vertical-align: middle;\n    }\n\n    .dataframe tbody tr th {\n        vertical-align: top;\n    }\n\n    .dataframe thead th {\n        text-align: right;\n    }\n</style>\n<table border=\"1\" class=\"dataframe\">\n  <thead>\n    <tr style=\"text-align: right;\">\n      <th></th>\n      <th>Temp (C)</th>\n    </tr>\n  </thead>\n  <tbody>\n    <tr>\n      <th>count</th>\n      <td>100.000000</td>\n    </tr>\n    <tr>\n      <th>mean</th>\n      <td>20.179836</td>\n    </tr>\n    <tr>\n      <th>std</th>\n      <td>4.990325</td>\n    </tr>\n    <tr>\n      <th>min</th>\n      <td>9.665045</td>\n    </tr>\n    <tr>\n      <th>25%</th>\n      <td>16.100317</td>\n    </tr>\n    <tr>\n      <th>50%</th>\n      <td>20.580650</td>\n    </tr>\n    <tr>\n      <th>75%</th>\n      <td>24.022774</td>\n    </tr>\n    <tr>\n      <th>max</th>\n      <td>30.222530</td>\n    </tr>\n  </tbody>\n</table>\n</div>"
     },
     "execution_count": 17,
     "metadata": {},
     "output_type": "execute_result"
    }
   ],
   "source": [
    "df.describe()"
   ]
  },
  {
   "cell_type": "code",
   "execution_count": 28,
   "id": "3d81a642-9d3e-447a-8a1b-e9ea59c84a1f",
   "metadata": {
    "tags": []
   },
   "outputs": [
    {
     "data": {
      "text/plain": [
       "Temp (C)     100\n",
       "Ice cream    100\n",
       "dtype: int64"
      ]
     },
     "execution_count": 28,
     "metadata": {},
     "output_type": "execute_result"
    }
   ],
   "source": [
    "df.count()"
   ]
  },
  {
   "cell_type": "code",
   "execution_count": 19,
   "id": "c859d547-7f72-4892-a87d-e077073955f6",
   "metadata": {
    "tags": []
   },
   "outputs": [
    {
     "data": {
      "text/plain": [
       "Temp (C)     20.614764\n",
       "Ice cream     0.530000\n",
       "dtype: float64"
      ]
     },
     "execution_count": 19,
     "metadata": {},
     "output_type": "execute_result"
    }
   ],
   "source": [
    "df.mean()"
   ]
  },
  {
   "cell_type": "markdown",
   "id": "68cc3753-6b42-4d89-9638-956c83f5296c",
   "metadata": {},
   "source": [
    "## Exercise"
   ]
  },
  {
   "cell_type": "code",
   "execution_count": 9,
   "id": "33551ba9-e386-4558-a543-df4d8b8be166",
   "metadata": {
    "collapsed": true,
    "jupyter": {
     "outputs_hidden": true
    },
    "tags": []
   },
   "outputs": [],
   "source": [
    "# Create a pandas dataframe with:\n",
    "#  integers ranging from 0 to 10, their square, and their log\n"
   ]
  }
 ],
 "metadata": {
  "kernelspec": {
   "display_name": "Python 3",
   "language": "python",
   "name": "python3"
  },
  "language_info": {
   "codemirror_mode": {
    "name": "ipython",
    "version": 3
   },
   "file_extension": ".py",
   "mimetype": "text/x-python",
   "name": "python",
   "nbconvert_exporter": "python",
   "pygments_lexer": "ipython3",
   "version": "3.8.8"
  }
 },
 "nbformat": 4,
 "nbformat_minor": 5
}
