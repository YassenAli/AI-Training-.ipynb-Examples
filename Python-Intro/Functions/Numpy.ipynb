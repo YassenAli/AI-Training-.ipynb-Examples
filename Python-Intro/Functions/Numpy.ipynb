{
 "cells": [
  {
   "cell_type": "code",
   "execution_count": 1,
   "id": "525b0a13-c259-4147-9429-1ac59d2dc9ea",
   "metadata": {
    "ExecuteTime": {
     "end_time": "2023-09-14T12:36:50.156953700Z",
     "start_time": "2023-09-14T12:36:50.056400500Z"
    }
   },
   "outputs": [],
   "source": [
    "import numpy as np"
   ]
  },
  {
   "cell_type": "code",
   "execution_count": 2,
   "id": "1ddcd73b-c367-487e-a127-a819a54e1a9d",
   "metadata": {
    "ExecuteTime": {
     "end_time": "2023-09-14T12:39:28.477788100Z",
     "start_time": "2023-09-14T12:39:28.471789600Z"
    }
   },
   "outputs": [
    {
     "data": {
      "text/plain": "3.0"
     },
     "execution_count": 2,
     "metadata": {},
     "output_type": "execute_result"
    }
   ],
   "source": [
    "numbers = [1,2,3,4,5]\n",
    "\n",
    "np.mean(numbers)"
   ]
  },
  {
   "cell_type": "code",
   "execution_count": 4,
   "id": "e81ac3a6-2cb1-4ee4-a274-31304ce73a3e",
   "metadata": {},
   "outputs": [
    {
     "data": {
      "text/plain": [
       "array([-3.        , -2.93939394, -2.87878788, -2.81818182, -2.75757576,\n",
       "       -2.6969697 , -2.63636364, -2.57575758, -2.51515152, -2.45454545,\n",
       "       -2.39393939, -2.33333333, -2.27272727, -2.21212121, -2.15151515,\n",
       "       -2.09090909, -2.03030303, -1.96969697, -1.90909091, -1.84848485,\n",
       "       -1.78787879, -1.72727273, -1.66666667, -1.60606061, -1.54545455,\n",
       "       -1.48484848, -1.42424242, -1.36363636, -1.3030303 , -1.24242424,\n",
       "       -1.18181818, -1.12121212, -1.06060606, -1.        , -0.93939394,\n",
       "       -0.87878788, -0.81818182, -0.75757576, -0.6969697 , -0.63636364,\n",
       "       -0.57575758, -0.51515152, -0.45454545, -0.39393939, -0.33333333,\n",
       "       -0.27272727, -0.21212121, -0.15151515, -0.09090909, -0.03030303,\n",
       "        0.03030303,  0.09090909,  0.15151515,  0.21212121,  0.27272727,\n",
       "        0.33333333,  0.39393939,  0.45454545,  0.51515152,  0.57575758,\n",
       "        0.63636364,  0.6969697 ,  0.75757576,  0.81818182,  0.87878788,\n",
       "        0.93939394,  1.        ,  1.06060606,  1.12121212,  1.18181818,\n",
       "        1.24242424,  1.3030303 ,  1.36363636,  1.42424242,  1.48484848,\n",
       "        1.54545455,  1.60606061,  1.66666667,  1.72727273,  1.78787879,\n",
       "        1.84848485,  1.90909091,  1.96969697,  2.03030303,  2.09090909,\n",
       "        2.15151515,  2.21212121,  2.27272727,  2.33333333,  2.39393939,\n",
       "        2.45454545,  2.51515152,  2.57575758,  2.63636364,  2.6969697 ,\n",
       "        2.75757576,  2.81818182,  2.87878788,  2.93939394,  3.        ])"
      ]
     },
     "execution_count": 4,
     "metadata": {},
     "output_type": "execute_result"
    }
   ],
   "source": [
    "np.linspace(-3,3,100)"
   ]
  },
  {
   "cell_type": "code",
   "execution_count": 5,
   "id": "f4069a2e-13ab-4efd-90a4-9559228ffa36",
   "metadata": {},
   "outputs": [
    {
     "name": "stdout",
     "output_type": "stream",
     "text": [
      "<class 'list'>\n",
      "<class 'numpy.ndarray'>\n"
     ]
    }
   ],
   "source": [
    "numbers_np = np.array(numbers)\n",
    "\n",
    "print(type(numbers))\n",
    "print(type(numbers_np))"
   ]
  },
  {
   "cell_type": "code",
   "execution_count": 6,
   "id": "7265bb76-10a3-46e3-86d1-ab254d7290f9",
   "metadata": {},
   "outputs": [
    {
     "data": {
      "text/plain": [
       "[1, 2, 3, 4, 5]"
      ]
     },
     "execution_count": 6,
     "metadata": {},
     "output_type": "execute_result"
    }
   ],
   "source": [
    "numbers"
   ]
  },
  {
   "cell_type": "code",
   "execution_count": 6,
   "id": "0053ce02-9d6a-4132-9306-f93f0251197f",
   "metadata": {},
   "outputs": [
    {
     "data": {
      "text/plain": [
       "3.0"
      ]
     },
     "execution_count": 6,
     "metadata": {},
     "output_type": "execute_result"
    }
   ],
   "source": [
    "numbers_np.mean()"
   ]
  },
  {
   "cell_type": "code",
   "execution_count": 7,
   "id": "8a16c64d-ae21-49ef-be48-4eaef94d174f",
   "metadata": {},
   "outputs": [
    {
     "data": {
      "text/plain": [
       "1"
      ]
     },
     "execution_count": 7,
     "metadata": {},
     "output_type": "execute_result"
    }
   ],
   "source": [
    "numbers_np.min()"
   ]
  },
  {
   "cell_type": "code",
   "execution_count": 8,
   "id": "d3d1c2c7-61aa-415c-a5be-d1923f8f6e56",
   "metadata": {},
   "outputs": [
    {
     "data": {
      "text/plain": [
       "5"
      ]
     },
     "execution_count": 8,
     "metadata": {},
     "output_type": "execute_result"
    }
   ],
   "source": [
    "numbers_np.max()"
   ]
  },
  {
   "cell_type": "markdown",
   "id": "452a2378-105d-4f14-bb71-a3c3a217e90d",
   "metadata": {},
   "source": [
    "## Inplace/Out-of-place operations"
   ]
  },
  {
   "cell_type": "code",
   "execution_count": 9,
   "id": "628f6eed-5626-4565-8f47-8336464eb539",
   "metadata": {},
   "outputs": [
    {
     "name": "stdout",
     "output_type": "stream",
     "text": [
      "[4, 5, 9, 0, 11, 5, 6, 7]\n",
      "[0, 4, 5, 5, 6, 7, 9, 11]\n"
     ]
    }
   ],
   "source": [
    "n = [4,5,9,0,11,5,6,7]\n",
    "nn = np.array(n)\n",
    "\n",
    "print(n)\n",
    "n.sort()\n",
    "print(n)"
   ]
  },
  {
   "cell_type": "code",
   "execution_count": 11,
   "id": "6552f823-db85-48dc-8d2f-c917fad1d854",
   "metadata": {},
   "outputs": [
    {
     "name": "stdout",
     "output_type": "stream",
     "text": [
      "[ 4  5  9  0 11  5  6  7]\n",
      "[ 0  4  5  5  6  7  9 11]\n"
     ]
    }
   ],
   "source": [
    "n = [4,5,9,0,11,5,6,7]\n",
    "nn = np.array(n)\n",
    "\n",
    "print(nn)\n",
    "nn = np.sort(nn)\n",
    "print(nn)"
   ]
  },
  {
   "cell_type": "code",
   "execution_count": 12,
   "id": "30e7c389-b37b-4f64-b2a6-2e785b5edf2f",
   "metadata": {},
   "outputs": [
    {
     "data": {
      "text/plain": [
       "\u001B[1;31mSignature:\u001B[0m \u001B[0mnp\u001B[0m\u001B[1;33m.\u001B[0m\u001B[0msort\u001B[0m\u001B[1;33m(\u001B[0m\u001B[0ma\u001B[0m\u001B[1;33m,\u001B[0m \u001B[0maxis\u001B[0m\u001B[1;33m=\u001B[0m\u001B[1;33m-\u001B[0m\u001B[1;36m1\u001B[0m\u001B[1;33m,\u001B[0m \u001B[0mkind\u001B[0m\u001B[1;33m=\u001B[0m\u001B[1;32mNone\u001B[0m\u001B[1;33m,\u001B[0m \u001B[0morder\u001B[0m\u001B[1;33m=\u001B[0m\u001B[1;32mNone\u001B[0m\u001B[1;33m)\u001B[0m\u001B[1;33m\u001B[0m\u001B[1;33m\u001B[0m\u001B[0m\n",
       "\u001B[1;31mSource:\u001B[0m   \n",
       "\u001B[1;33m@\u001B[0m\u001B[0marray_function_dispatch\u001B[0m\u001B[1;33m(\u001B[0m\u001B[0m_sort_dispatcher\u001B[0m\u001B[1;33m)\u001B[0m\u001B[1;33m\n",
       "\u001B[0m\u001B[1;32mdef\u001B[0m \u001B[0msort\u001B[0m\u001B[1;33m(\u001B[0m\u001B[0ma\u001B[0m\u001B[1;33m,\u001B[0m \u001B[0maxis\u001B[0m\u001B[1;33m=\u001B[0m\u001B[1;33m-\u001B[0m\u001B[1;36m1\u001B[0m\u001B[1;33m,\u001B[0m \u001B[0mkind\u001B[0m\u001B[1;33m=\u001B[0m\u001B[1;32mNone\u001B[0m\u001B[1;33m,\u001B[0m \u001B[0morder\u001B[0m\u001B[1;33m=\u001B[0m\u001B[1;32mNone\u001B[0m\u001B[1;33m)\u001B[0m\u001B[1;33m:\u001B[0m\u001B[1;33m\n",
       "\u001B[0m    \u001B[1;34m\"\"\"\n",
       "    Return a sorted copy of an array.\n",
       "\n",
       "    Parameters\n",
       "    ----------\n",
       "    a : array_like\n",
       "        Array to be sorted.\n",
       "    axis : int or None, optional\n",
       "        Axis along which to sort. If None, the array is flattened before\n",
       "        sorting. The default is -1, which sorts along the last axis.\n",
       "    kind : {'quicksort', 'mergesort', 'heapsort', 'stable'}, optional\n",
       "        Sorting algorithm. The default is 'quicksort'. Note that both 'stable'\n",
       "        and 'mergesort' use timsort or radix sort under the covers and, in general,\n",
       "        the actual implementation will vary with data type. The 'mergesort' option\n",
       "        is retained for backwards compatibility.\n",
       "\n",
       "        .. versionchanged:: 1.15.0.\n",
       "           The 'stable' option was added.\n",
       "\n",
       "    order : str or list of str, optional\n",
       "        When `a` is an array with fields defined, this argument specifies\n",
       "        which fields to compare first, second, etc.  A single field can\n",
       "        be specified as a string, and not all fields need be specified,\n",
       "        but unspecified fields will still be used, in the order in which\n",
       "        they come up in the dtype, to break ties.\n",
       "\n",
       "    Returns\n",
       "    -------\n",
       "    sorted_array : ndarray\n",
       "        Array of the same type and shape as `a`.\n",
       "\n",
       "    See Also\n",
       "    --------\n",
       "    ndarray.sort : Method to sort an array in-place.\n",
       "    argsort : Indirect sort.\n",
       "    lexsort : Indirect stable sort on multiple keys.\n",
       "    searchsorted : Find elements in a sorted array.\n",
       "    partition : Partial sort.\n",
       "\n",
       "    Notes\n",
       "    -----\n",
       "    The various sorting algorithms are characterized by their average speed,\n",
       "    worst case performance, work space size, and whether they are stable. A\n",
       "    stable sort keeps items with the same key in the same relative\n",
       "    order. The four algorithms implemented in NumPy have the following\n",
       "    properties:\n",
       "\n",
       "    =========== ======= ============= ============ ========\n",
       "       kind      speed   worst case    work space   stable\n",
       "    =========== ======= ============= ============ ========\n",
       "    'quicksort'    1     O(n^2)            0          no\n",
       "    'heapsort'     3     O(n*log(n))       0          no\n",
       "    'mergesort'    2     O(n*log(n))      ~n/2        yes\n",
       "    'timsort'      2     O(n*log(n))      ~n/2        yes\n",
       "    =========== ======= ============= ============ ========\n",
       "\n",
       "    .. note:: The datatype determines which of 'mergesort' or 'timsort'\n",
       "       is actually used, even if 'mergesort' is specified. User selection\n",
       "       at a finer scale is not currently available.\n",
       "\n",
       "    All the sort algorithms make temporary copies of the data when\n",
       "    sorting along any but the last axis.  Consequently, sorting along\n",
       "    the last axis is faster and uses less space than sorting along\n",
       "    any other axis.\n",
       "\n",
       "    The sort order for complex numbers is lexicographic. If both the real\n",
       "    and imaginary parts are non-nan then the order is determined by the\n",
       "    real parts except when they are equal, in which case the order is\n",
       "    determined by the imaginary parts.\n",
       "\n",
       "    Previous to numpy 1.4.0 sorting real and complex arrays containing nan\n",
       "    values led to undefined behaviour. In numpy versions >= 1.4.0 nan\n",
       "    values are sorted to the end. The extended sort order is:\n",
       "\n",
       "      * Real: [R, nan]\n",
       "      * Complex: [R + Rj, R + nanj, nan + Rj, nan + nanj]\n",
       "\n",
       "    where R is a non-nan real value. Complex values with the same nan\n",
       "    placements are sorted according to the non-nan part if it exists.\n",
       "    Non-nan values are sorted as before.\n",
       "\n",
       "    .. versionadded:: 1.12.0\n",
       "\n",
       "    quicksort has been changed to `introsort <https://en.wikipedia.org/wiki/Introsort>`_.\n",
       "    When sorting does not make enough progress it switches to\n",
       "    `heapsort <https://en.wikipedia.org/wiki/Heapsort>`_.\n",
       "    This implementation makes quicksort O(n*log(n)) in the worst case.\n",
       "\n",
       "    'stable' automatically chooses the best stable sorting algorithm\n",
       "    for the data type being sorted.\n",
       "    It, along with 'mergesort' is currently mapped to\n",
       "    `timsort <https://en.wikipedia.org/wiki/Timsort>`_\n",
       "    or `radix sort <https://en.wikipedia.org/wiki/Radix_sort>`_\n",
       "    depending on the data type.\n",
       "    API forward compatibility currently limits the\n",
       "    ability to select the implementation and it is hardwired for the different\n",
       "    data types.\n",
       "\n",
       "    .. versionadded:: 1.17.0\n",
       "\n",
       "    Timsort is added for better performance on already or nearly\n",
       "    sorted data. On random data timsort is almost identical to\n",
       "    mergesort. It is now used for stable sort while quicksort is still the\n",
       "    default sort if none is chosen. For timsort details, refer to\n",
       "    `CPython listsort.txt <https://github.com/python/cpython/blob/3.7/Objects/listsort.txt>`_.\n",
       "    'mergesort' and 'stable' are mapped to radix sort for integer data types. Radix sort is an\n",
       "    O(n) sort instead of O(n log n).\n",
       "\n",
       "    .. versionchanged:: 1.18.0\n",
       "\n",
       "    NaT now sorts to the end of arrays for consistency with NaN.\n",
       "\n",
       "    Examples\n",
       "    --------\n",
       "    >>> a = np.array([[1,4],[3,1]])\n",
       "    >>> np.sort(a)                # sort along the last axis\n",
       "    array([[1, 4],\n",
       "           [1, 3]])\n",
       "    >>> np.sort(a, axis=None)     # sort the flattened array\n",
       "    array([1, 1, 3, 4])\n",
       "    >>> np.sort(a, axis=0)        # sort along the first axis\n",
       "    array([[1, 1],\n",
       "           [3, 4]])\n",
       "\n",
       "    Use the `order` keyword to specify a field to use when sorting a\n",
       "    structured array:\n",
       "\n",
       "    >>> dtype = [('name', 'S10'), ('height', float), ('age', int)]\n",
       "    >>> values = [('Arthur', 1.8, 41), ('Lancelot', 1.9, 38),\n",
       "    ...           ('Galahad', 1.7, 38)]\n",
       "    >>> a = np.array(values, dtype=dtype)       # create a structured array\n",
       "    >>> np.sort(a, order='height')                        # doctest: +SKIP\n",
       "    array([('Galahad', 1.7, 38), ('Arthur', 1.8, 41),\n",
       "           ('Lancelot', 1.8999999999999999, 38)],\n",
       "          dtype=[('name', '|S10'), ('height', '<f8'), ('age', '<i4')])\n",
       "\n",
       "    Sort by age, then height if ages are equal:\n",
       "\n",
       "    >>> np.sort(a, order=['age', 'height'])               # doctest: +SKIP\n",
       "    array([('Galahad', 1.7, 38), ('Lancelot', 1.8999999999999999, 38),\n",
       "           ('Arthur', 1.8, 41)],\n",
       "          dtype=[('name', '|S10'), ('height', '<f8'), ('age', '<i4')])\n",
       "\n",
       "    \"\"\"\u001B[0m\u001B[1;33m\n",
       "\u001B[0m    \u001B[1;32mif\u001B[0m \u001B[0maxis\u001B[0m \u001B[1;32mis\u001B[0m \u001B[1;32mNone\u001B[0m\u001B[1;33m:\u001B[0m\u001B[1;33m\n",
       "\u001B[0m        \u001B[1;31m# flatten returns (1, N) for np.matrix, so always use the last axis\u001B[0m\u001B[1;33m\n",
       "\u001B[0m        \u001B[0ma\u001B[0m \u001B[1;33m=\u001B[0m \u001B[0masanyarray\u001B[0m\u001B[1;33m(\u001B[0m\u001B[0ma\u001B[0m\u001B[1;33m)\u001B[0m\u001B[1;33m.\u001B[0m\u001B[0mflatten\u001B[0m\u001B[1;33m(\u001B[0m\u001B[1;33m)\u001B[0m\u001B[1;33m\n",
       "\u001B[0m        \u001B[0maxis\u001B[0m \u001B[1;33m=\u001B[0m \u001B[1;33m-\u001B[0m\u001B[1;36m1\u001B[0m\u001B[1;33m\n",
       "\u001B[0m    \u001B[1;32melse\u001B[0m\u001B[1;33m:\u001B[0m\u001B[1;33m\n",
       "\u001B[0m        \u001B[0ma\u001B[0m \u001B[1;33m=\u001B[0m \u001B[0masanyarray\u001B[0m\u001B[1;33m(\u001B[0m\u001B[0ma\u001B[0m\u001B[1;33m)\u001B[0m\u001B[1;33m.\u001B[0m\u001B[0mcopy\u001B[0m\u001B[1;33m(\u001B[0m\u001B[0morder\u001B[0m\u001B[1;33m=\u001B[0m\u001B[1;34m\"K\"\u001B[0m\u001B[1;33m)\u001B[0m\u001B[1;33m\n",
       "\u001B[0m    \u001B[0ma\u001B[0m\u001B[1;33m.\u001B[0m\u001B[0msort\u001B[0m\u001B[1;33m(\u001B[0m\u001B[0maxis\u001B[0m\u001B[1;33m=\u001B[0m\u001B[0maxis\u001B[0m\u001B[1;33m,\u001B[0m \u001B[0mkind\u001B[0m\u001B[1;33m=\u001B[0m\u001B[0mkind\u001B[0m\u001B[1;33m,\u001B[0m \u001B[0morder\u001B[0m\u001B[1;33m=\u001B[0m\u001B[0morder\u001B[0m\u001B[1;33m)\u001B[0m\u001B[1;33m\n",
       "\u001B[0m    \u001B[1;32mreturn\u001B[0m \u001B[0ma\u001B[0m\u001B[1;33m\u001B[0m\u001B[1;33m\u001B[0m\u001B[0m\n",
       "\u001B[1;31mFile:\u001B[0m      c:\\users\\engse\\anaconda3\\lib\\site-packages\\numpy\\core\\fromnumeric.py\n",
       "\u001B[1;31mType:\u001B[0m      function\n"
      ]
     },
     "metadata": {},
     "output_type": "display_data"
    }
   ],
   "source": [
    "np.sort??"
   ]
  },
  {
   "cell_type": "code",
   "execution_count": null,
   "id": "8b778929-678e-45b6-a9bf-ae548b35742f",
   "metadata": {},
   "outputs": [],
   "source": []
  }
 ],
 "metadata": {
  "kernelspec": {
   "display_name": "Python 3",
   "language": "python",
   "name": "python3"
  },
  "language_info": {
   "codemirror_mode": {
    "name": "ipython",
    "version": 3
   },
   "file_extension": ".py",
   "mimetype": "text/x-python",
   "name": "python",
   "nbconvert_exporter": "python",
   "pygments_lexer": "ipython3",
   "version": "3.8.8"
  }
 },
 "nbformat": 4,
 "nbformat_minor": 5
}
