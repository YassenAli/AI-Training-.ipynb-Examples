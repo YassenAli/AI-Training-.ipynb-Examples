{
 "cells": [
  {
   "cell_type": "code",
   "execution_count": 7,
   "id": "11e613f6-33b3-4391-a703-48303800a954",
   "metadata": {},
   "outputs": [
    {
     "data": {
      "text/plain": [
       "9"
      ]
     },
     "execution_count": 7,
     "metadata": {},
     "output_type": "execute_result"
    }
   ],
   "source": [
    "aList = [5,6,7,8,-9,'qwerty',9.02,9]\n",
    "\n",
    "aList[-1]"
   ]
  },
  {
   "cell_type": "code",
   "execution_count": 10,
   "id": "044ebea3-c174-4768-94ac-de304e230a00",
   "metadata": {},
   "outputs": [
    {
     "data": {
      "text/plain": [
       "4"
      ]
     },
     "execution_count": 10,
     "metadata": {},
     "output_type": "execute_result"
    }
   ],
   "source": [
    "aList = [5,6,7,8,-9,[1,2,3,4],9.02]\n",
    "aList[-2][3]"
   ]
  },
  {
   "cell_type": "markdown",
   "id": "b8d00637-eddc-4fee-a8d8-176c5e94c0a2",
   "metadata": {},
   "source": [
    "## Exercise"
   ]
  },
  {
   "cell_type": "code",
   "execution_count": 11,
   "id": "0315054f-eb71-4467-8a7d-c668b305801b",
   "metadata": {},
   "outputs": [
    {
     "data": {
      "text/plain": [
       "{'Chocolate': 'Yummy!', 'Caramel': \"I don't know!\"}"
      ]
     },
     "execution_count": 11,
     "metadata": {},
     "output_type": "execute_result"
    }
   ],
   "source": [
    "listLists = [7, 'seif', [5,9,6],'there!', {'Chocolate': 'Yummy!', 'Caramel': \"I don't know!\"} ]\n",
    "\n",
    "#Get the attribute of 'Caramel' from this list\n",
    "listLists[-1]\n"
   ]
  },
  {
   "cell_type": "code",
   "execution_count": null,
   "id": "0e31833d-4a5f-43db-bee0-4d71b4569f88",
   "metadata": {},
   "outputs": [],
   "source": []
  }
 ],
 "metadata": {
  "kernelspec": {
   "display_name": "Python 3",
   "language": "python",
   "name": "python3"
  },
  "language_info": {
   "codemirror_mode": {
    "name": "ipython",
    "version": 3
   },
   "file_extension": ".py",
   "mimetype": "text/x-python",
   "name": "python",
   "nbconvert_exporter": "python",
   "pygments_lexer": "ipython3",
   "version": "3.8.8"
  }
 },
 "nbformat": 4,
 "nbformat_minor": 5
}
