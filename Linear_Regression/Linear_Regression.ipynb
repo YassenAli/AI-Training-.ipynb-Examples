{
 "cells": [
  {
   "cell_type": "code",
   "execution_count": null,
   "outputs": [],
   "source": [],
   "metadata": {
    "collapsed": false
   },
   "id": "e66719c8f814227e"
  },
  {
   "cell_type": "code",
   "execution_count": 8,
   "outputs": [
    {
     "name": "stdout",
     "output_type": "stream",
     "text": [
      "Note: you may need to restart the kernel to use updated packages.\n"
     ]
    },
    {
     "name": "stderr",
     "output_type": "stream",
     "text": [
      "WARNING: You are using pip version 22.0.4; however, version 23.2.1 is available.\n",
      "You should consider upgrading via the 'C:\\Users\\user\\AppData\\Local\\Programs\\Python\\Python39\\python.exe -m pip install --upgrade pip' command.\n"
     ]
    },
    {
     "name": "stdout",
     "output_type": "stream",
     "text": [
      "Collecting torch\n",
      "  Using cached torch-2.0.1-cp39-cp39-win_amd64.whl (172.4 MB)\n",
      "Requirement already satisfied: jinja2 in c:\\users\\user\\appdata\\local\\programs\\python\\python39\\lib\\site-packages (from torch) (3.1.2)\n",
      "Requirement already satisfied: typing-extensions in c:\\users\\user\\appdata\\local\\programs\\python\\python39\\lib\\site-packages (from torch) (4.7.1)\n",
      "Collecting sympy\n",
      "  Downloading sympy-1.12-py3-none-any.whl (5.7 MB)\n",
      "     ---------------------------------------- 5.7/5.7 MB 839.5 kB/s eta 0:00:00\n",
      "Collecting filelock\n",
      "  Downloading filelock-3.12.4-py3-none-any.whl (11 kB)\n",
      "Collecting networkx\n",
      "  Downloading networkx-3.1-py3-none-any.whl (2.1 MB)\n",
      "     ---------------------------------------- 2.1/2.1 MB 251.4 kB/s eta 0:00:00\n",
      "Requirement already satisfied: MarkupSafe>=2.0 in c:\\users\\user\\appdata\\local\\programs\\python\\python39\\lib\\site-packages (from jinja2->torch) (2.1.3)\n",
      "Collecting mpmath>=0.19\n",
      "  Downloading mpmath-1.3.0-py3-none-any.whl (536 kB)\n",
      "     ------------------------------------ 536.2/536.2 KB 534.0 kB/s eta 0:00:00\n",
      "Installing collected packages: mpmath, sympy, networkx, filelock, torch\n",
      "Successfully installed filelock-3.12.4 mpmath-1.3.0 networkx-3.1 sympy-1.12 torch-2.0.1\n"
     ]
    }
   ],
   "source": [
    "%pip install torch"
   ],
   "metadata": {
    "collapsed": false,
    "ExecuteTime": {
     "end_time": "2023-09-18T22:55:47.287487600Z",
     "start_time": "2023-09-18T22:54:43.766964600Z"
    }
   },
   "id": "866ebae3eb5663d1"
  },
  {
   "cell_type": "code",
   "execution_count": 21,
   "outputs": [
    {
     "name": "stderr",
     "output_type": "stream",
     "text": [
      "C:\\Users\\user\\AppData\\Local\\Temp\\ipykernel_8172\\297999661.py:5: DeprecationWarning: `set_matplotlib_formats` is deprecated since IPython 7.23, directly use `matplotlib_inline.backend_inline.set_matplotlib_formats()`\n",
      "  display.set_matplotlib_formats('svg')\n"
     ]
    }
   ],
   "source": [
    "import numpy as np\n",
    "import torch\n",
    "import matplotlib.pyplot as plt\n",
    "from IPython import display\n",
    "display.set_matplotlib_formats('svg')"
   ],
   "metadata": {
    "collapsed": false,
    "ExecuteTime": {
     "end_time": "2023-09-22T14:53:47.023904100Z",
     "start_time": "2023-09-22T14:53:47.003896500Z"
    }
   },
   "id": "06e95934-e225-4be3-b998-03d673f2babc"
  },
  {
   "cell_type": "code",
   "execution_count": 22,
   "outputs": [
    {
     "data": {
      "text/plain": "'2.0.1+cpu'"
     },
     "execution_count": 22,
     "metadata": {},
     "output_type": "execute_result"
    }
   ],
   "source": [
    "torch.__version__"
   ],
   "metadata": {
    "collapsed": false,
    "ExecuteTime": {
     "end_time": "2023-09-22T14:53:47.676498800Z",
     "start_time": "2023-09-22T14:53:47.661495200Z"
    }
   },
   "id": "0cc5466c-6178-47a7-ba36-b2250aab144c"
  },
  {
   "cell_type": "markdown",
   "source": [
    "Data (preparing and loading)"
   ],
   "metadata": {
    "collapsed": false
   },
   "id": "f9380f68fcac237d"
  },
  {
   "cell_type": "code",
   "execution_count": 26,
   "id": "ff1a3340-a1f3-49d4-b97d-45dad1fd8ab7",
   "metadata": {
    "ExecuteTime": {
     "end_time": "2023-09-22T14:54:06.750298300Z",
     "start_time": "2023-09-22T14:54:06.731292Z"
    }
   },
   "outputs": [
    {
     "data": {
      "text/plain": "(tensor([[0.0000],\n         [0.0200],\n         [0.0400],\n         [0.0600],\n         [0.0800],\n         [0.1000],\n         [0.1200],\n         [0.1400],\n         [0.1600],\n         [0.1800]]),\n tensor([[0.3000],\n         [0.3140],\n         [0.3280],\n         [0.3420],\n         [0.3560],\n         [0.3700],\n         [0.3840],\n         [0.3980],\n         [0.4120],\n         [0.4260]]))"
     },
     "execution_count": 26,
     "metadata": {},
     "output_type": "execute_result"
    }
   ],
   "source": [
    "#Create *known* parameters\n",
    "weight = 0.7\n",
    "bias   = 0.3\n",
    "\n",
    "# Create data\n",
    "start = 0\n",
    "end   = 1\n",
    "step  = 0.02\n",
    "X = torch.arange(start, end, step).unsqueeze(dim=1)\n",
    "y = weight * X + bias\n",
    "\n",
    "X[:10], y[:10]"
   ]
  },
  {
   "cell_type": "code",
   "execution_count": 27,
   "id": "b0b8ca8a-6d6b-49f8-a15e-434b32fb0c62",
   "metadata": {
    "ExecuteTime": {
     "end_time": "2023-09-22T14:54:07.477324Z",
     "start_time": "2023-09-22T14:54:07.461319900Z"
    }
   },
   "outputs": [
    {
     "data": {
      "text/plain": "(50, 50)"
     },
     "execution_count": 27,
     "metadata": {},
     "output_type": "execute_result"
    }
   ],
   "source": [
    "len(X), len(y)"
   ]
  },
  {
   "cell_type": "markdown",
   "id": "c460bcdd-1455-4e2b-ae1f-962a144303a7",
   "metadata": {},
   "source": [
    "## Splitting data into training and test sets"
   ]
  },
  {
   "cell_type": "code",
   "execution_count": 28,
   "id": "bcb2d646-61b0-42e2-a34f-4db991b5ea14",
   "metadata": {
    "ExecuteTime": {
     "end_time": "2023-09-22T14:54:09.158079600Z",
     "start_time": "2023-09-22T14:54:09.149086Z"
    }
   },
   "outputs": [],
   "source": [
    "train_split = int(0.8 * len(X))\n",
    "\n",
    "X_train, X_test, y_train, y_test = X[:train_split], X[train_split:], y[:train_split], y[train_split:]"
   ]
  },
  {
   "cell_type": "code",
   "execution_count": 29,
   "id": "52213cc6-9ace-420b-9f88-be3c87b28263",
   "metadata": {
    "ExecuteTime": {
     "end_time": "2023-09-22T14:54:09.749248200Z",
     "start_time": "2023-09-22T14:54:09.721167Z"
    }
   },
   "outputs": [
    {
     "data": {
      "text/plain": "(40, 10, 40, 10)"
     },
     "execution_count": 29,
     "metadata": {},
     "output_type": "execute_result"
    }
   ],
   "source": [
    "len(X_train), len(X_test), len(y_train), len(y_test)"
   ]
  },
  {
   "cell_type": "markdown",
   "id": "01ef842f-4f28-4230-9f3f-3846fc8593bd",
   "metadata": {},
   "source": [
    "## Data visualization"
   ]
  },
  {
   "cell_type": "code",
   "execution_count": 30,
   "id": "ba2579f6-d607-4337-aa12-0c7bf7f3aa24",
   "metadata": {
    "ExecuteTime": {
     "end_time": "2023-09-22T14:54:16.778530700Z",
     "start_time": "2023-09-22T14:54:16.758527700Z"
    }
   },
   "outputs": [],
   "source": [
    "def plot_model_predictions(train_data   = X_train,\n",
    "                           train_labels = y_train,\n",
    "                           test_data    = X_test,\n",
    "                           test_labels  = y_test,\n",
    "                           predictions  = None):\n",
    "    \n",
    "    plt.figure(figsize=(5,3))\n",
    "    \n",
    "    plt.scatter(train_data, train_labels, c = 'b', s = 4, label='Training data')\n",
    "    plt.scatter(test_data, test_labels, c = 'g', s = 4, label='Testing data')\n",
    "    if predictions is not None:\n",
    "        plt.scatter(test_data, predictions, c = 'r', s = 4, label='Models predictions')\n",
    "    \n",
    "    plt.legend(prop={\"size\": 14})"
   ]
  },
  {
   "cell_type": "code",
   "execution_count": 31,
   "id": "ffda96a3-7d7c-4d73-bac0-4cd5b02e9e5a",
   "metadata": {
    "ExecuteTime": {
     "end_time": "2023-09-22T14:54:17.703654300Z",
     "start_time": "2023-09-22T14:54:17.561703700Z"
    }
   },
   "outputs": [
    {
     "data": {
      "text/plain": "<Figure size 500x300 with 1 Axes>",
      "image/svg+xml": "<?xml version=\"1.0\" encoding=\"utf-8\" standalone=\"no\"?>\n<!DOCTYPE svg PUBLIC \"-//W3C//DTD SVG 1.1//EN\"\n  \"http://www.w3.org/Graphics/SVG/1.1/DTD/svg11.dtd\">\n<svg xmlns:xlink=\"http://www.w3.org/1999/xlink\" width=\"316.749117pt\" height=\"197.398125pt\" viewBox=\"0 0 316.749117 197.398125\" xmlns=\"http://www.w3.org/2000/svg\" version=\"1.1\">\n <metadata>\n  <rdf:RDF xmlns:dc=\"http://purl.org/dc/elements/1.1/\" xmlns:cc=\"http://creativecommons.org/ns#\" xmlns:rdf=\"http://www.w3.org/1999/02/22-rdf-syntax-ns#\">\n   <cc:Work>\n    <dc:type rdf:resource=\"http://purl.org/dc/dcmitype/StillImage\"/>\n    <dc:date>2023-09-22T17:54:17.654725</dc:date>\n    <dc:format>image/svg+xml</dc:format>\n    <dc:creator>\n     <cc:Agent>\n      <dc:title>Matplotlib v3.8.0, https://matplotlib.org/</dc:title>\n     </cc:Agent>\n    </dc:creator>\n   </cc:Work>\n  </rdf:RDF>\n </metadata>\n <defs>\n  <style type=\"text/css\">*{stroke-linejoin: round; stroke-linecap: butt}</style>\n </defs>\n <g id=\"figure_1\">\n  <g id=\"patch_1\">\n   <path d=\"M 0 197.398125 \nL 316.749117 197.398125 \nL 316.749117 0 \nL 0 0 \nz\n\" style=\"fill: #ffffff\"/>\n  </g>\n  <g id=\"axes_1\">\n   <g id=\"patch_2\">\n    <path d=\"M 30.103125 173.52 \nL 309.103125 173.52 \nL 309.103125 7.2 \nL 30.103125 7.2 \nz\n\" style=\"fill: #ffffff\"/>\n   </g>\n   <g id=\"PathCollection_1\">\n    <defs>\n     <path id=\"m183f421879\" d=\"M 0 1 \nC 0.265203 1 0.51958 0.894634 0.707107 0.707107 \nC 0.894634 0.51958 1 0.265203 1 0 \nC 1 -0.265203 0.894634 -0.51958 0.707107 -0.707107 \nC 0.51958 -0.894634 0.265203 -1 0 -1 \nC -0.265203 -1 -0.51958 -0.894634 -0.707107 -0.707107 \nC -0.894634 -0.51958 -1 -0.265203 -1 0 \nC -1 0.265203 -0.894634 0.51958 -0.707107 0.707107 \nC -0.51958 0.894634 -0.265203 1 0 1 \nz\n\" style=\"stroke: #0000ff\"/>\n    </defs>\n    <g clip-path=\"url(#p32dd1496aa)\">\n     <use xlink:href=\"#m183f421879\" x=\"42.784943\" y=\"165.96\" style=\"fill: #0000ff; stroke: #0000ff\"/>\n     <use xlink:href=\"#m183f421879\" x=\"47.961195\" y=\"162.874286\" style=\"fill: #0000ff; stroke: #0000ff\"/>\n     <use xlink:href=\"#m183f421879\" x=\"53.137447\" y=\"159.788572\" style=\"fill: #0000ff; stroke: #0000ff\"/>\n     <use xlink:href=\"#m183f421879\" x=\"58.313699\" y=\"156.702858\" style=\"fill: #0000ff; stroke: #0000ff\"/>\n     <use xlink:href=\"#m183f421879\" x=\"63.489952\" y=\"153.617144\" style=\"fill: #0000ff; stroke: #0000ff\"/>\n     <use xlink:href=\"#m183f421879\" x=\"68.666205\" y=\"150.53143\" style=\"fill: #0000ff; stroke: #0000ff\"/>\n     <use xlink:href=\"#m183f421879\" x=\"73.842456\" y=\"147.445716\" style=\"fill: #0000ff; stroke: #0000ff\"/>\n     <use xlink:href=\"#m183f421879\" x=\"79.018709\" y=\"144.360002\" style=\"fill: #0000ff; stroke: #0000ff\"/>\n     <use xlink:href=\"#m183f421879\" x=\"84.19496\" y=\"141.274288\" style=\"fill: #0000ff; stroke: #0000ff\"/>\n     <use xlink:href=\"#m183f421879\" x=\"89.371211\" y=\"138.188574\" style=\"fill: #0000ff; stroke: #0000ff\"/>\n     <use xlink:href=\"#m183f421879\" x=\"94.547466\" y=\"135.10286\" style=\"fill: #0000ff; stroke: #0000ff\"/>\n     <use xlink:href=\"#m183f421879\" x=\"99.723717\" y=\"132.017146\" style=\"fill: #0000ff; stroke: #0000ff\"/>\n     <use xlink:href=\"#m183f421879\" x=\"104.899968\" y=\"128.931432\" style=\"fill: #0000ff; stroke: #0000ff\"/>\n     <use xlink:href=\"#m183f421879\" x=\"110.07622\" y=\"125.845718\" style=\"fill: #0000ff; stroke: #0000ff\"/>\n     <use xlink:href=\"#m183f421879\" x=\"115.252475\" y=\"122.760004\" style=\"fill: #0000ff; stroke: #0000ff\"/>\n     <use xlink:href=\"#m183f421879\" x=\"120.428722\" y=\"119.67429\" style=\"fill: #0000ff; stroke: #0000ff\"/>\n     <use xlink:href=\"#m183f421879\" x=\"125.604977\" y=\"116.588576\" style=\"fill: #0000ff; stroke: #0000ff\"/>\n     <use xlink:href=\"#m183f421879\" x=\"130.781232\" y=\"113.502862\" style=\"fill: #0000ff; stroke: #0000ff\"/>\n     <use xlink:href=\"#m183f421879\" x=\"135.957479\" y=\"110.417148\" style=\"fill: #0000ff; stroke: #0000ff\"/>\n     <use xlink:href=\"#m183f421879\" x=\"141.133734\" y=\"107.331434\" style=\"fill: #0000ff; stroke: #0000ff\"/>\n     <use xlink:href=\"#m183f421879\" x=\"146.309989\" y=\"104.245707\" style=\"fill: #0000ff; stroke: #0000ff\"/>\n     <use xlink:href=\"#m183f421879\" x=\"151.486236\" y=\"101.160006\" style=\"fill: #0000ff; stroke: #0000ff\"/>\n     <use xlink:href=\"#m183f421879\" x=\"156.662491\" y=\"98.074278\" style=\"fill: #0000ff; stroke: #0000ff\"/>\n     <use xlink:href=\"#m183f421879\" x=\"161.838739\" y=\"94.988578\" style=\"fill: #0000ff; stroke: #0000ff\"/>\n     <use xlink:href=\"#m183f421879\" x=\"167.014994\" y=\"91.90285\" style=\"fill: #0000ff; stroke: #0000ff\"/>\n     <use xlink:href=\"#m183f421879\" x=\"172.191249\" y=\"88.81715\" style=\"fill: #0000ff; stroke: #0000ff\"/>\n     <use xlink:href=\"#m183f421879\" x=\"177.367496\" y=\"85.731422\" style=\"fill: #0000ff; stroke: #0000ff\"/>\n     <use xlink:href=\"#m183f421879\" x=\"182.543743\" y=\"82.645722\" style=\"fill: #0000ff; stroke: #0000ff\"/>\n     <use xlink:href=\"#m183f421879\" x=\"187.720006\" y=\"79.559994\" style=\"fill: #0000ff; stroke: #0000ff\"/>\n     <use xlink:href=\"#m183f421879\" x=\"192.896253\" y=\"76.474293\" style=\"fill: #0000ff; stroke: #0000ff\"/>\n     <use xlink:href=\"#m183f421879\" x=\"198.0725\" y=\"73.388579\" style=\"fill: #0000ff; stroke: #0000ff\"/>\n     <use xlink:href=\"#m183f421879\" x=\"203.248763\" y=\"70.302865\" style=\"fill: #0000ff; stroke: #0000ff\"/>\n     <use xlink:href=\"#m183f421879\" x=\"208.42501\" y=\"67.217138\" style=\"fill: #0000ff; stroke: #0000ff\"/>\n     <use xlink:href=\"#m183f421879\" x=\"213.601258\" y=\"64.131437\" style=\"fill: #0000ff; stroke: #0000ff\"/>\n     <use xlink:href=\"#m183f421879\" x=\"218.77752\" y=\"61.04571\" style=\"fill: #0000ff; stroke: #0000ff\"/>\n     <use xlink:href=\"#m183f421879\" x=\"223.953768\" y=\"57.960009\" style=\"fill: #0000ff; stroke: #0000ff\"/>\n     <use xlink:href=\"#m183f421879\" x=\"229.130015\" y=\"54.874295\" style=\"fill: #0000ff; stroke: #0000ff\"/>\n     <use xlink:href=\"#m183f421879\" x=\"234.306278\" y=\"51.788568\" style=\"fill: #0000ff; stroke: #0000ff\"/>\n     <use xlink:href=\"#m183f421879\" x=\"239.482525\" y=\"48.702854\" style=\"fill: #0000ff; stroke: #0000ff\"/>\n     <use xlink:href=\"#m183f421879\" x=\"244.658772\" y=\"45.617153\" style=\"fill: #0000ff; stroke: #0000ff\"/>\n    </g>\n   </g>\n   <g id=\"PathCollection_2\">\n    <defs>\n     <path id=\"m3058cfc862\" d=\"M 0 1 \nC 0.265203 1 0.51958 0.894634 0.707107 0.707107 \nC 0.894634 0.51958 1 0.265203 1 0 \nC 1 -0.265203 0.894634 -0.51958 0.707107 -0.707107 \nC 0.51958 -0.894634 0.265203 -1 0 -1 \nC -0.265203 -1 -0.51958 -0.894634 -0.707107 -0.707107 \nC -0.894634 -0.51958 -1 -0.265203 -1 0 \nC -1 0.265203 -0.894634 0.51958 -0.707107 0.707107 \nC -0.51958 0.894634 -0.265203 1 0 1 \nz\n\" style=\"stroke: #008000\"/>\n    </defs>\n    <g clip-path=\"url(#p32dd1496aa)\">\n     <use xlink:href=\"#m3058cfc862\" x=\"249.835035\" y=\"42.531426\" style=\"fill: #008000; stroke: #008000\"/>\n     <use xlink:href=\"#m3058cfc862\" x=\"255.011282\" y=\"39.445712\" style=\"fill: #008000; stroke: #008000\"/>\n     <use xlink:href=\"#m3058cfc862\" x=\"260.187545\" y=\"36.359998\" style=\"fill: #008000; stroke: #008000\"/>\n     <use xlink:href=\"#m3058cfc862\" x=\"265.363792\" y=\"33.274284\" style=\"fill: #008000; stroke: #008000\"/>\n     <use xlink:href=\"#m3058cfc862\" x=\"270.54004\" y=\"30.18857\" style=\"fill: #008000; stroke: #008000\"/>\n     <use xlink:href=\"#m3058cfc862\" x=\"275.716302\" y=\"27.102856\" style=\"fill: #008000; stroke: #008000\"/>\n     <use xlink:href=\"#m3058cfc862\" x=\"280.89255\" y=\"24.017142\" style=\"fill: #008000; stroke: #008000\"/>\n     <use xlink:href=\"#m3058cfc862\" x=\"286.068797\" y=\"20.931428\" style=\"fill: #008000; stroke: #008000\"/>\n     <use xlink:href=\"#m3058cfc862\" x=\"291.245044\" y=\"17.845714\" style=\"fill: #008000; stroke: #008000\"/>\n     <use xlink:href=\"#m3058cfc862\" x=\"296.421307\" y=\"14.76\" style=\"fill: #008000; stroke: #008000\"/>\n    </g>\n   </g>\n   <g id=\"matplotlib.axis_1\">\n    <g id=\"xtick_1\">\n     <g id=\"line2d_1\">\n      <defs>\n       <path id=\"m4468b43048\" d=\"M 0 0 \nL 0 3.5 \n\" style=\"stroke: #000000; stroke-width: 0.8\"/>\n      </defs>\n      <g>\n       <use xlink:href=\"#m4468b43048\" x=\"42.784943\" y=\"173.52\" style=\"stroke: #000000; stroke-width: 0.8\"/>\n      </g>\n     </g>\n     <g id=\"text_1\">\n      <!-- 0.0 -->\n      <g transform=\"translate(34.833381 188.118438) scale(0.1 -0.1)\">\n       <defs>\n        <path id=\"DejaVuSans-30\" d=\"M 2034 4250 \nQ 1547 4250 1301 3770 \nQ 1056 3291 1056 2328 \nQ 1056 1369 1301 889 \nQ 1547 409 2034 409 \nQ 2525 409 2770 889 \nQ 3016 1369 3016 2328 \nQ 3016 3291 2770 3770 \nQ 2525 4250 2034 4250 \nz\nM 2034 4750 \nQ 2819 4750 3233 4129 \nQ 3647 3509 3647 2328 \nQ 3647 1150 3233 529 \nQ 2819 -91 2034 -91 \nQ 1250 -91 836 529 \nQ 422 1150 422 2328 \nQ 422 3509 836 4129 \nQ 1250 4750 2034 4750 \nz\n\" transform=\"scale(0.015625)\"/>\n        <path id=\"DejaVuSans-2e\" d=\"M 684 794 \nL 1344 794 \nL 1344 0 \nL 684 0 \nL 684 794 \nz\n\" transform=\"scale(0.015625)\"/>\n       </defs>\n       <use xlink:href=\"#DejaVuSans-30\"/>\n       <use xlink:href=\"#DejaVuSans-2e\" x=\"63.623047\"/>\n       <use xlink:href=\"#DejaVuSans-30\" x=\"95.410156\"/>\n      </g>\n     </g>\n    </g>\n    <g id=\"xtick_2\">\n     <g id=\"line2d_2\">\n      <g>\n       <use xlink:href=\"#m4468b43048\" x=\"94.547465\" y=\"173.52\" style=\"stroke: #000000; stroke-width: 0.8\"/>\n      </g>\n     </g>\n     <g id=\"text_2\">\n      <!-- 0.2 -->\n      <g transform=\"translate(86.595903 188.118438) scale(0.1 -0.1)\">\n       <defs>\n        <path id=\"DejaVuSans-32\" d=\"M 1228 531 \nL 3431 531 \nL 3431 0 \nL 469 0 \nL 469 531 \nQ 828 903 1448 1529 \nQ 2069 2156 2228 2338 \nQ 2531 2678 2651 2914 \nQ 2772 3150 2772 3378 \nQ 2772 3750 2511 3984 \nQ 2250 4219 1831 4219 \nQ 1534 4219 1204 4116 \nQ 875 4013 500 3803 \nL 500 4441 \nQ 881 4594 1212 4672 \nQ 1544 4750 1819 4750 \nQ 2544 4750 2975 4387 \nQ 3406 4025 3406 3419 \nQ 3406 3131 3298 2873 \nQ 3191 2616 2906 2266 \nQ 2828 2175 2409 1742 \nQ 1991 1309 1228 531 \nz\n\" transform=\"scale(0.015625)\"/>\n       </defs>\n       <use xlink:href=\"#DejaVuSans-30\"/>\n       <use xlink:href=\"#DejaVuSans-2e\" x=\"63.623047\"/>\n       <use xlink:href=\"#DejaVuSans-32\" x=\"95.410156\"/>\n      </g>\n     </g>\n    </g>\n    <g id=\"xtick_3\">\n     <g id=\"line2d_3\">\n      <g>\n       <use xlink:href=\"#m4468b43048\" x=\"146.309988\" y=\"173.52\" style=\"stroke: #000000; stroke-width: 0.8\"/>\n      </g>\n     </g>\n     <g id=\"text_3\">\n      <!-- 0.4 -->\n      <g transform=\"translate(138.358425 188.118438) scale(0.1 -0.1)\">\n       <defs>\n        <path id=\"DejaVuSans-34\" d=\"M 2419 4116 \nL 825 1625 \nL 2419 1625 \nL 2419 4116 \nz\nM 2253 4666 \nL 3047 4666 \nL 3047 1625 \nL 3713 1625 \nL 3713 1100 \nL 3047 1100 \nL 3047 0 \nL 2419 0 \nL 2419 1100 \nL 313 1100 \nL 313 1709 \nL 2253 4666 \nz\n\" transform=\"scale(0.015625)\"/>\n       </defs>\n       <use xlink:href=\"#DejaVuSans-30\"/>\n       <use xlink:href=\"#DejaVuSans-2e\" x=\"63.623047\"/>\n       <use xlink:href=\"#DejaVuSans-34\" x=\"95.410156\"/>\n      </g>\n     </g>\n    </g>\n    <g id=\"xtick_4\">\n     <g id=\"line2d_4\">\n      <g>\n       <use xlink:href=\"#m4468b43048\" x=\"198.07251\" y=\"173.52\" style=\"stroke: #000000; stroke-width: 0.8\"/>\n      </g>\n     </g>\n     <g id=\"text_4\">\n      <!-- 0.6 -->\n      <g transform=\"translate(190.120947 188.118438) scale(0.1 -0.1)\">\n       <defs>\n        <path id=\"DejaVuSans-36\" d=\"M 2113 2584 \nQ 1688 2584 1439 2293 \nQ 1191 2003 1191 1497 \nQ 1191 994 1439 701 \nQ 1688 409 2113 409 \nQ 2538 409 2786 701 \nQ 3034 994 3034 1497 \nQ 3034 2003 2786 2293 \nQ 2538 2584 2113 2584 \nz\nM 3366 4563 \nL 3366 3988 \nQ 3128 4100 2886 4159 \nQ 2644 4219 2406 4219 \nQ 1781 4219 1451 3797 \nQ 1122 3375 1075 2522 \nQ 1259 2794 1537 2939 \nQ 1816 3084 2150 3084 \nQ 2853 3084 3261 2657 \nQ 3669 2231 3669 1497 \nQ 3669 778 3244 343 \nQ 2819 -91 2113 -91 \nQ 1303 -91 875 529 \nQ 447 1150 447 2328 \nQ 447 3434 972 4092 \nQ 1497 4750 2381 4750 \nQ 2619 4750 2861 4703 \nQ 3103 4656 3366 4563 \nz\n\" transform=\"scale(0.015625)\"/>\n       </defs>\n       <use xlink:href=\"#DejaVuSans-30\"/>\n       <use xlink:href=\"#DejaVuSans-2e\" x=\"63.623047\"/>\n       <use xlink:href=\"#DejaVuSans-36\" x=\"95.410156\"/>\n      </g>\n     </g>\n    </g>\n    <g id=\"xtick_5\">\n     <g id=\"line2d_5\">\n      <g>\n       <use xlink:href=\"#m4468b43048\" x=\"249.835032\" y=\"173.52\" style=\"stroke: #000000; stroke-width: 0.8\"/>\n      </g>\n     </g>\n     <g id=\"text_5\">\n      <!-- 0.8 -->\n      <g transform=\"translate(241.883469 188.118438) scale(0.1 -0.1)\">\n       <defs>\n        <path id=\"DejaVuSans-38\" d=\"M 2034 2216 \nQ 1584 2216 1326 1975 \nQ 1069 1734 1069 1313 \nQ 1069 891 1326 650 \nQ 1584 409 2034 409 \nQ 2484 409 2743 651 \nQ 3003 894 3003 1313 \nQ 3003 1734 2745 1975 \nQ 2488 2216 2034 2216 \nz\nM 1403 2484 \nQ 997 2584 770 2862 \nQ 544 3141 544 3541 \nQ 544 4100 942 4425 \nQ 1341 4750 2034 4750 \nQ 2731 4750 3128 4425 \nQ 3525 4100 3525 3541 \nQ 3525 3141 3298 2862 \nQ 3072 2584 2669 2484 \nQ 3125 2378 3379 2068 \nQ 3634 1759 3634 1313 \nQ 3634 634 3220 271 \nQ 2806 -91 2034 -91 \nQ 1263 -91 848 271 \nQ 434 634 434 1313 \nQ 434 1759 690 2068 \nQ 947 2378 1403 2484 \nz\nM 1172 3481 \nQ 1172 3119 1398 2916 \nQ 1625 2713 2034 2713 \nQ 2441 2713 2670 2916 \nQ 2900 3119 2900 3481 \nQ 2900 3844 2670 4047 \nQ 2441 4250 2034 4250 \nQ 1625 4250 1398 4047 \nQ 1172 3844 1172 3481 \nz\n\" transform=\"scale(0.015625)\"/>\n       </defs>\n       <use xlink:href=\"#DejaVuSans-30\"/>\n       <use xlink:href=\"#DejaVuSans-2e\" x=\"63.623047\"/>\n       <use xlink:href=\"#DejaVuSans-38\" x=\"95.410156\"/>\n      </g>\n     </g>\n    </g>\n    <g id=\"xtick_6\">\n     <g id=\"line2d_6\">\n      <g>\n       <use xlink:href=\"#m4468b43048\" x=\"301.597554\" y=\"173.52\" style=\"stroke: #000000; stroke-width: 0.8\"/>\n      </g>\n     </g>\n     <g id=\"text_6\">\n      <!-- 1.0 -->\n      <g transform=\"translate(293.645992 188.118438) scale(0.1 -0.1)\">\n       <defs>\n        <path id=\"DejaVuSans-31\" d=\"M 794 531 \nL 1825 531 \nL 1825 4091 \nL 703 3866 \nL 703 4441 \nL 1819 4666 \nL 2450 4666 \nL 2450 531 \nL 3481 531 \nL 3481 0 \nL 794 0 \nL 794 531 \nz\n\" transform=\"scale(0.015625)\"/>\n       </defs>\n       <use xlink:href=\"#DejaVuSans-31\"/>\n       <use xlink:href=\"#DejaVuSans-2e\" x=\"63.623047\"/>\n       <use xlink:href=\"#DejaVuSans-30\" x=\"95.410156\"/>\n      </g>\n     </g>\n    </g>\n   </g>\n   <g id=\"matplotlib.axis_2\">\n    <g id=\"ytick_1\">\n     <g id=\"line2d_7\">\n      <defs>\n       <path id=\"ma37b5aa3d2\" d=\"M 0 0 \nL -3.5 0 \n\" style=\"stroke: #000000; stroke-width: 0.8\"/>\n      </defs>\n      <g>\n       <use xlink:href=\"#ma37b5aa3d2\" x=\"30.103125\" y=\"165.960003\" style=\"stroke: #000000; stroke-width: 0.8\"/>\n      </g>\n     </g>\n     <g id=\"text_7\">\n      <!-- 0.3 -->\n      <g transform=\"translate(7.2 169.759221) scale(0.1 -0.1)\">\n       <defs>\n        <path id=\"DejaVuSans-33\" d=\"M 2597 2516 \nQ 3050 2419 3304 2112 \nQ 3559 1806 3559 1356 \nQ 3559 666 3084 287 \nQ 2609 -91 1734 -91 \nQ 1441 -91 1130 -33 \nQ 819 25 488 141 \nL 488 750 \nQ 750 597 1062 519 \nQ 1375 441 1716 441 \nQ 2309 441 2620 675 \nQ 2931 909 2931 1356 \nQ 2931 1769 2642 2001 \nQ 2353 2234 1838 2234 \nL 1294 2234 \nL 1294 2753 \nL 1863 2753 \nQ 2328 2753 2575 2939 \nQ 2822 3125 2822 3475 \nQ 2822 3834 2567 4026 \nQ 2313 4219 1838 4219 \nQ 1578 4219 1281 4162 \nQ 984 4106 628 3988 \nL 628 4550 \nQ 988 4650 1302 4700 \nQ 1616 4750 1894 4750 \nQ 2613 4750 3031 4423 \nQ 3450 4097 3450 3541 \nQ 3450 3153 3228 2886 \nQ 3006 2619 2597 2516 \nz\n\" transform=\"scale(0.015625)\"/>\n       </defs>\n       <use xlink:href=\"#DejaVuSans-30\"/>\n       <use xlink:href=\"#DejaVuSans-2e\" x=\"63.623047\"/>\n       <use xlink:href=\"#DejaVuSans-33\" x=\"95.410156\"/>\n      </g>\n     </g>\n    </g>\n    <g id=\"ytick_2\">\n     <g id=\"line2d_8\">\n      <g>\n       <use xlink:href=\"#ma37b5aa3d2\" x=\"30.103125\" y=\"143.919186\" style=\"stroke: #000000; stroke-width: 0.8\"/>\n      </g>\n     </g>\n     <g id=\"text_8\">\n      <!-- 0.4 -->\n      <g transform=\"translate(7.2 147.718405) scale(0.1 -0.1)\">\n       <use xlink:href=\"#DejaVuSans-30\"/>\n       <use xlink:href=\"#DejaVuSans-2e\" x=\"63.623047\"/>\n       <use xlink:href=\"#DejaVuSans-34\" x=\"95.410156\"/>\n      </g>\n     </g>\n    </g>\n    <g id=\"ytick_3\">\n     <g id=\"line2d_9\">\n      <g>\n       <use xlink:href=\"#ma37b5aa3d2\" x=\"30.103125\" y=\"121.878369\" style=\"stroke: #000000; stroke-width: 0.8\"/>\n      </g>\n     </g>\n     <g id=\"text_9\">\n      <!-- 0.5 -->\n      <g transform=\"translate(7.2 125.677588) scale(0.1 -0.1)\">\n       <defs>\n        <path id=\"DejaVuSans-35\" d=\"M 691 4666 \nL 3169 4666 \nL 3169 4134 \nL 1269 4134 \nL 1269 2991 \nQ 1406 3038 1543 3061 \nQ 1681 3084 1819 3084 \nQ 2600 3084 3056 2656 \nQ 3513 2228 3513 1497 \nQ 3513 744 3044 326 \nQ 2575 -91 1722 -91 \nQ 1428 -91 1123 -41 \nQ 819 9 494 109 \nL 494 744 \nQ 775 591 1075 516 \nQ 1375 441 1709 441 \nQ 2250 441 2565 725 \nQ 2881 1009 2881 1497 \nQ 2881 1984 2565 2268 \nQ 2250 2553 1709 2553 \nQ 1456 2553 1204 2497 \nQ 953 2441 691 2322 \nL 691 4666 \nz\n\" transform=\"scale(0.015625)\"/>\n       </defs>\n       <use xlink:href=\"#DejaVuSans-30\"/>\n       <use xlink:href=\"#DejaVuSans-2e\" x=\"63.623047\"/>\n       <use xlink:href=\"#DejaVuSans-35\" x=\"95.410156\"/>\n      </g>\n     </g>\n    </g>\n    <g id=\"ytick_4\">\n     <g id=\"line2d_10\">\n      <g>\n       <use xlink:href=\"#ma37b5aa3d2\" x=\"30.103125\" y=\"99.837553\" style=\"stroke: #000000; stroke-width: 0.8\"/>\n      </g>\n     </g>\n     <g id=\"text_10\">\n      <!-- 0.6 -->\n      <g transform=\"translate(7.2 103.636771) scale(0.1 -0.1)\">\n       <use xlink:href=\"#DejaVuSans-30\"/>\n       <use xlink:href=\"#DejaVuSans-2e\" x=\"63.623047\"/>\n       <use xlink:href=\"#DejaVuSans-36\" x=\"95.410156\"/>\n      </g>\n     </g>\n    </g>\n    <g id=\"ytick_5\">\n     <g id=\"line2d_11\">\n      <g>\n       <use xlink:href=\"#ma37b5aa3d2\" x=\"30.103125\" y=\"77.796736\" style=\"stroke: #000000; stroke-width: 0.8\"/>\n      </g>\n     </g>\n     <g id=\"text_11\">\n      <!-- 0.7 -->\n      <g transform=\"translate(7.2 81.595955) scale(0.1 -0.1)\">\n       <defs>\n        <path id=\"DejaVuSans-37\" d=\"M 525 4666 \nL 3525 4666 \nL 3525 4397 \nL 1831 0 \nL 1172 0 \nL 2766 4134 \nL 525 4134 \nL 525 4666 \nz\n\" transform=\"scale(0.015625)\"/>\n       </defs>\n       <use xlink:href=\"#DejaVuSans-30\"/>\n       <use xlink:href=\"#DejaVuSans-2e\" x=\"63.623047\"/>\n       <use xlink:href=\"#DejaVuSans-37\" x=\"95.410156\"/>\n      </g>\n     </g>\n    </g>\n    <g id=\"ytick_6\">\n     <g id=\"line2d_12\">\n      <g>\n       <use xlink:href=\"#ma37b5aa3d2\" x=\"30.103125\" y=\"55.755919\" style=\"stroke: #000000; stroke-width: 0.8\"/>\n      </g>\n     </g>\n     <g id=\"text_12\">\n      <!-- 0.8 -->\n      <g transform=\"translate(7.2 59.555138) scale(0.1 -0.1)\">\n       <use xlink:href=\"#DejaVuSans-30\"/>\n       <use xlink:href=\"#DejaVuSans-2e\" x=\"63.623047\"/>\n       <use xlink:href=\"#DejaVuSans-38\" x=\"95.410156\"/>\n      </g>\n     </g>\n    </g>\n    <g id=\"ytick_7\">\n     <g id=\"line2d_13\">\n      <g>\n       <use xlink:href=\"#ma37b5aa3d2\" x=\"30.103125\" y=\"33.715103\" style=\"stroke: #000000; stroke-width: 0.8\"/>\n      </g>\n     </g>\n     <g id=\"text_13\">\n      <!-- 0.9 -->\n      <g transform=\"translate(7.2 37.514321) scale(0.1 -0.1)\">\n       <defs>\n        <path id=\"DejaVuSans-39\" d=\"M 703 97 \nL 703 672 \nQ 941 559 1184 500 \nQ 1428 441 1663 441 \nQ 2288 441 2617 861 \nQ 2947 1281 2994 2138 \nQ 2813 1869 2534 1725 \nQ 2256 1581 1919 1581 \nQ 1219 1581 811 2004 \nQ 403 2428 403 3163 \nQ 403 3881 828 4315 \nQ 1253 4750 1959 4750 \nQ 2769 4750 3195 4129 \nQ 3622 3509 3622 2328 \nQ 3622 1225 3098 567 \nQ 2575 -91 1691 -91 \nQ 1453 -91 1209 -44 \nQ 966 3 703 97 \nz\nM 1959 2075 \nQ 2384 2075 2632 2365 \nQ 2881 2656 2881 3163 \nQ 2881 3666 2632 3958 \nQ 2384 4250 1959 4250 \nQ 1534 4250 1286 3958 \nQ 1038 3666 1038 3163 \nQ 1038 2656 1286 2365 \nQ 1534 2075 1959 2075 \nz\n\" transform=\"scale(0.015625)\"/>\n       </defs>\n       <use xlink:href=\"#DejaVuSans-30\"/>\n       <use xlink:href=\"#DejaVuSans-2e\" x=\"63.623047\"/>\n       <use xlink:href=\"#DejaVuSans-39\" x=\"95.410156\"/>\n      </g>\n     </g>\n    </g>\n    <g id=\"ytick_8\">\n     <g id=\"line2d_14\">\n      <g>\n       <use xlink:href=\"#ma37b5aa3d2\" x=\"30.103125\" y=\"11.674286\" style=\"stroke: #000000; stroke-width: 0.8\"/>\n      </g>\n     </g>\n     <g id=\"text_14\">\n      <!-- 1.0 -->\n      <g transform=\"translate(7.2 15.473505) scale(0.1 -0.1)\">\n       <use xlink:href=\"#DejaVuSans-31\"/>\n       <use xlink:href=\"#DejaVuSans-2e\" x=\"63.623047\"/>\n       <use xlink:href=\"#DejaVuSans-30\" x=\"95.410156\"/>\n      </g>\n     </g>\n    </g>\n   </g>\n   <g id=\"patch_3\">\n    <path d=\"M 30.103125 173.52 \nL 30.103125 7.2 \n\" style=\"fill: none; stroke: #000000; stroke-width: 0.8; stroke-linejoin: miter; stroke-linecap: square\"/>\n   </g>\n   <g id=\"patch_4\">\n    <path d=\"M 309.103125 173.52 \nL 309.103125 7.2 \n\" style=\"fill: none; stroke: #000000; stroke-width: 0.8; stroke-linejoin: miter; stroke-linecap: square\"/>\n   </g>\n   <g id=\"patch_5\">\n    <path d=\"M 30.103125 173.52 \nL 309.103125 173.52 \n\" style=\"fill: none; stroke: #000000; stroke-width: 0.8; stroke-linejoin: miter; stroke-linecap: square\"/>\n   </g>\n   <g id=\"patch_6\">\n    <path d=\"M 30.103125 7.2 \nL 309.103125 7.2 \n\" style=\"fill: none; stroke: #000000; stroke-width: 0.8; stroke-linejoin: miter; stroke-linecap: square\"/>\n   </g>\n   <g id=\"legend_1\">\n    <g id=\"patch_7\">\n     <path d=\"M 39.903125 59.49875 \nL 175.919688 59.49875 \nQ 178.719688 59.49875 178.719688 56.69875 \nL 178.719688 17 \nQ 178.719688 14.2 175.919688 14.2 \nL 39.903125 14.2 \nQ 37.103125 14.2 37.103125 17 \nL 37.103125 56.69875 \nQ 37.103125 59.49875 39.903125 59.49875 \nz\n\" style=\"fill: #ffffff; opacity: 0.8; stroke: #cccccc; stroke-linejoin: miter\"/>\n    </g>\n    <g id=\"PathCollection_3\">\n     <g>\n      <use xlink:href=\"#m183f421879\" x=\"56.703125\" y=\"26.762813\" style=\"fill: #0000ff; stroke: #0000ff\"/>\n     </g>\n    </g>\n    <g id=\"text_15\">\n     <!-- Training data -->\n     <g transform=\"translate(81.903125 30.437813) scale(0.14 -0.14)\">\n      <defs>\n       <path id=\"DejaVuSans-54\" d=\"M -19 4666 \nL 3928 4666 \nL 3928 4134 \nL 2272 4134 \nL 2272 0 \nL 1638 0 \nL 1638 4134 \nL -19 4134 \nL -19 4666 \nz\n\" transform=\"scale(0.015625)\"/>\n       <path id=\"DejaVuSans-72\" d=\"M 2631 2963 \nQ 2534 3019 2420 3045 \nQ 2306 3072 2169 3072 \nQ 1681 3072 1420 2755 \nQ 1159 2438 1159 1844 \nL 1159 0 \nL 581 0 \nL 581 3500 \nL 1159 3500 \nL 1159 2956 \nQ 1341 3275 1631 3429 \nQ 1922 3584 2338 3584 \nQ 2397 3584 2469 3576 \nQ 2541 3569 2628 3553 \nL 2631 2963 \nz\n\" transform=\"scale(0.015625)\"/>\n       <path id=\"DejaVuSans-61\" d=\"M 2194 1759 \nQ 1497 1759 1228 1600 \nQ 959 1441 959 1056 \nQ 959 750 1161 570 \nQ 1363 391 1709 391 \nQ 2188 391 2477 730 \nQ 2766 1069 2766 1631 \nL 2766 1759 \nL 2194 1759 \nz\nM 3341 1997 \nL 3341 0 \nL 2766 0 \nL 2766 531 \nQ 2569 213 2275 61 \nQ 1981 -91 1556 -91 \nQ 1019 -91 701 211 \nQ 384 513 384 1019 \nQ 384 1609 779 1909 \nQ 1175 2209 1959 2209 \nL 2766 2209 \nL 2766 2266 \nQ 2766 2663 2505 2880 \nQ 2244 3097 1772 3097 \nQ 1472 3097 1187 3025 \nQ 903 2953 641 2809 \nL 641 3341 \nQ 956 3463 1253 3523 \nQ 1550 3584 1831 3584 \nQ 2591 3584 2966 3190 \nQ 3341 2797 3341 1997 \nz\n\" transform=\"scale(0.015625)\"/>\n       <path id=\"DejaVuSans-69\" d=\"M 603 3500 \nL 1178 3500 \nL 1178 0 \nL 603 0 \nL 603 3500 \nz\nM 603 4863 \nL 1178 4863 \nL 1178 4134 \nL 603 4134 \nL 603 4863 \nz\n\" transform=\"scale(0.015625)\"/>\n       <path id=\"DejaVuSans-6e\" d=\"M 3513 2113 \nL 3513 0 \nL 2938 0 \nL 2938 2094 \nQ 2938 2591 2744 2837 \nQ 2550 3084 2163 3084 \nQ 1697 3084 1428 2787 \nQ 1159 2491 1159 1978 \nL 1159 0 \nL 581 0 \nL 581 3500 \nL 1159 3500 \nL 1159 2956 \nQ 1366 3272 1645 3428 \nQ 1925 3584 2291 3584 \nQ 2894 3584 3203 3211 \nQ 3513 2838 3513 2113 \nz\n\" transform=\"scale(0.015625)\"/>\n       <path id=\"DejaVuSans-67\" d=\"M 2906 1791 \nQ 2906 2416 2648 2759 \nQ 2391 3103 1925 3103 \nQ 1463 3103 1205 2759 \nQ 947 2416 947 1791 \nQ 947 1169 1205 825 \nQ 1463 481 1925 481 \nQ 2391 481 2648 825 \nQ 2906 1169 2906 1791 \nz\nM 3481 434 \nQ 3481 -459 3084 -895 \nQ 2688 -1331 1869 -1331 \nQ 1566 -1331 1297 -1286 \nQ 1028 -1241 775 -1147 \nL 775 -588 \nQ 1028 -725 1275 -790 \nQ 1522 -856 1778 -856 \nQ 2344 -856 2625 -561 \nQ 2906 -266 2906 331 \nL 2906 616 \nQ 2728 306 2450 153 \nQ 2172 0 1784 0 \nQ 1141 0 747 490 \nQ 353 981 353 1791 \nQ 353 2603 747 3093 \nQ 1141 3584 1784 3584 \nQ 2172 3584 2450 3431 \nQ 2728 3278 2906 2969 \nL 2906 3500 \nL 3481 3500 \nL 3481 434 \nz\n\" transform=\"scale(0.015625)\"/>\n       <path id=\"DejaVuSans-20\" transform=\"scale(0.015625)\"/>\n       <path id=\"DejaVuSans-64\" d=\"M 2906 2969 \nL 2906 4863 \nL 3481 4863 \nL 3481 0 \nL 2906 0 \nL 2906 525 \nQ 2725 213 2448 61 \nQ 2172 -91 1784 -91 \nQ 1150 -91 751 415 \nQ 353 922 353 1747 \nQ 353 2572 751 3078 \nQ 1150 3584 1784 3584 \nQ 2172 3584 2448 3432 \nQ 2725 3281 2906 2969 \nz\nM 947 1747 \nQ 947 1113 1208 752 \nQ 1469 391 1925 391 \nQ 2381 391 2643 752 \nQ 2906 1113 2906 1747 \nQ 2906 2381 2643 2742 \nQ 2381 3103 1925 3103 \nQ 1469 3103 1208 2742 \nQ 947 2381 947 1747 \nz\n\" transform=\"scale(0.015625)\"/>\n       <path id=\"DejaVuSans-74\" d=\"M 1172 4494 \nL 1172 3500 \nL 2356 3500 \nL 2356 3053 \nL 1172 3053 \nL 1172 1153 \nQ 1172 725 1289 603 \nQ 1406 481 1766 481 \nL 2356 481 \nL 2356 0 \nL 1766 0 \nQ 1100 0 847 248 \nQ 594 497 594 1153 \nL 594 3053 \nL 172 3053 \nL 172 3500 \nL 594 3500 \nL 594 4494 \nL 1172 4494 \nz\n\" transform=\"scale(0.015625)\"/>\n      </defs>\n      <use xlink:href=\"#DejaVuSans-54\"/>\n      <use xlink:href=\"#DejaVuSans-72\" x=\"46.333984\"/>\n      <use xlink:href=\"#DejaVuSans-61\" x=\"87.447266\"/>\n      <use xlink:href=\"#DejaVuSans-69\" x=\"148.726562\"/>\n      <use xlink:href=\"#DejaVuSans-6e\" x=\"176.509766\"/>\n      <use xlink:href=\"#DejaVuSans-69\" x=\"239.888672\"/>\n      <use xlink:href=\"#DejaVuSans-6e\" x=\"267.671875\"/>\n      <use xlink:href=\"#DejaVuSans-67\" x=\"331.050781\"/>\n      <use xlink:href=\"#DejaVuSans-20\" x=\"394.527344\"/>\n      <use xlink:href=\"#DejaVuSans-64\" x=\"426.314453\"/>\n      <use xlink:href=\"#DejaVuSans-61\" x=\"489.791016\"/>\n      <use xlink:href=\"#DejaVuSans-74\" x=\"551.070312\"/>\n      <use xlink:href=\"#DejaVuSans-61\" x=\"590.279297\"/>\n     </g>\n    </g>\n    <g id=\"PathCollection_4\">\n     <g>\n      <use xlink:href=\"#m3058cfc862\" x=\"56.703125\" y=\"47.312188\" style=\"fill: #008000; stroke: #008000\"/>\n     </g>\n    </g>\n    <g id=\"text_16\">\n     <!-- Testing data -->\n     <g transform=\"translate(81.903125 50.987188) scale(0.14 -0.14)\">\n      <defs>\n       <path id=\"DejaVuSans-65\" d=\"M 3597 1894 \nL 3597 1613 \nL 953 1613 \nQ 991 1019 1311 708 \nQ 1631 397 2203 397 \nQ 2534 397 2845 478 \nQ 3156 559 3463 722 \nL 3463 178 \nQ 3153 47 2828 -22 \nQ 2503 -91 2169 -91 \nQ 1331 -91 842 396 \nQ 353 884 353 1716 \nQ 353 2575 817 3079 \nQ 1281 3584 2069 3584 \nQ 2775 3584 3186 3129 \nQ 3597 2675 3597 1894 \nz\nM 3022 2063 \nQ 3016 2534 2758 2815 \nQ 2500 3097 2075 3097 \nQ 1594 3097 1305 2825 \nQ 1016 2553 972 2059 \nL 3022 2063 \nz\n\" transform=\"scale(0.015625)\"/>\n       <path id=\"DejaVuSans-73\" d=\"M 2834 3397 \nL 2834 2853 \nQ 2591 2978 2328 3040 \nQ 2066 3103 1784 3103 \nQ 1356 3103 1142 2972 \nQ 928 2841 928 2578 \nQ 928 2378 1081 2264 \nQ 1234 2150 1697 2047 \nL 1894 2003 \nQ 2506 1872 2764 1633 \nQ 3022 1394 3022 966 \nQ 3022 478 2636 193 \nQ 2250 -91 1575 -91 \nQ 1294 -91 989 -36 \nQ 684 19 347 128 \nL 347 722 \nQ 666 556 975 473 \nQ 1284 391 1588 391 \nQ 1994 391 2212 530 \nQ 2431 669 2431 922 \nQ 2431 1156 2273 1281 \nQ 2116 1406 1581 1522 \nL 1381 1569 \nQ 847 1681 609 1914 \nQ 372 2147 372 2553 \nQ 372 3047 722 3315 \nQ 1072 3584 1716 3584 \nQ 2034 3584 2315 3537 \nQ 2597 3491 2834 3397 \nz\n\" transform=\"scale(0.015625)\"/>\n      </defs>\n      <use xlink:href=\"#DejaVuSans-54\"/>\n      <use xlink:href=\"#DejaVuSans-65\" x=\"44.083984\"/>\n      <use xlink:href=\"#DejaVuSans-73\" x=\"105.607422\"/>\n      <use xlink:href=\"#DejaVuSans-74\" x=\"157.707031\"/>\n      <use xlink:href=\"#DejaVuSans-69\" x=\"196.916016\"/>\n      <use xlink:href=\"#DejaVuSans-6e\" x=\"224.699219\"/>\n      <use xlink:href=\"#DejaVuSans-67\" x=\"288.078125\"/>\n      <use xlink:href=\"#DejaVuSans-20\" x=\"351.554688\"/>\n      <use xlink:href=\"#DejaVuSans-64\" x=\"383.341797\"/>\n      <use xlink:href=\"#DejaVuSans-61\" x=\"446.818359\"/>\n      <use xlink:href=\"#DejaVuSans-74\" x=\"508.097656\"/>\n      <use xlink:href=\"#DejaVuSans-61\" x=\"547.306641\"/>\n     </g>\n    </g>\n   </g>\n  </g>\n </g>\n <defs>\n  <clipPath id=\"p32dd1496aa\">\n   <rect x=\"30.103125\" y=\"7.2\" width=\"279\" height=\"166.32\"/>\n  </clipPath>\n </defs>\n</svg>\n"
     },
     "metadata": {},
     "output_type": "display_data"
    }
   ],
   "source": [
    "plot_model_predictions()"
   ]
  },
  {
   "cell_type": "markdown",
   "id": "5a8d207a-eba7-4f54-bfd4-37c5c4cc475f",
   "metadata": {},
   "source": [
    "## Building linear regression model"
   ]
  },
  {
   "cell_type": "code",
   "execution_count": 32,
   "id": "7cee2f8c-000f-433d-a612-385eb3cec811",
   "metadata": {
    "ExecuteTime": {
     "end_time": "2023-09-22T14:54:19.807227300Z",
     "start_time": "2023-09-22T14:54:19.792224300Z"
    }
   },
   "outputs": [],
   "source": [
    "from torch import nn\n",
    "\n",
    "class LinearRegressionModel(nn.Module):\n",
    "    def __init__(self):\n",
    "        super().__init__()\n",
    "        \n",
    "        self.weights = nn.Parameter(torch.randn(1,\n",
    "                                                requires_grad = True,\n",
    "                                                dtype         = torch.float))\n",
    "        self.bias    = nn.Parameter(torch.randn(1,\n",
    "                                                requires_grad = True,\n",
    "                                                dtype         = torch.float))\n",
    "        \n",
    "    def forward(self, x: torch.Tensor) -> torch.Tensor:\n",
    "        return x * self.weights + self.bias"
   ]
  },
  {
   "cell_type": "code",
   "execution_count": 33,
   "id": "3eb8acb5-6b08-4402-8a54-74dc1341748e",
   "metadata": {
    "ExecuteTime": {
     "end_time": "2023-09-22T14:54:20.638732500Z",
     "start_time": "2023-09-22T14:54:20.621728500Z"
    }
   },
   "outputs": [
    {
     "data": {
      "text/plain": "[Parameter containing:\n tensor([0.3367], requires_grad=True),\n Parameter containing:\n tensor([0.1288], requires_grad=True)]"
     },
     "execution_count": 33,
     "metadata": {},
     "output_type": "execute_result"
    }
   ],
   "source": [
    "#Create a random seed \n",
    "torch.manual_seed(42)\n",
    "\n",
    "model_0 = LinearRegressionModel()\n",
    "\n",
    "list(model_0.parameters())"
   ]
  },
  {
   "cell_type": "code",
   "execution_count": 34,
   "id": "cb658f96-f1f6-4948-bda3-ffbd1d9aab77",
   "metadata": {
    "ExecuteTime": {
     "end_time": "2023-09-22T14:54:21.519203900Z",
     "start_time": "2023-09-22T14:54:21.507202300Z"
    }
   },
   "outputs": [
    {
     "data": {
      "text/plain": "OrderedDict([('weights', tensor([0.3367])), ('bias', tensor([0.1288]))])"
     },
     "execution_count": 34,
     "metadata": {},
     "output_type": "execute_result"
    }
   ],
   "source": [
    "model_0.state_dict()"
   ]
  },
  {
   "cell_type": "markdown",
   "id": "a0a16071-c4bf-4e58-b531-c5993a5c0548",
   "metadata": {},
   "source": [
    "# Making predictions without being trained"
   ]
  },
  {
   "cell_type": "code",
   "execution_count": 35,
   "id": "440c3607-a14c-4815-b935-a9148baf0294",
   "metadata": {
    "ExecuteTime": {
     "end_time": "2023-09-22T14:54:31.047860300Z",
     "start_time": "2023-09-22T14:54:31.025855300Z"
    }
   },
   "outputs": [
    {
     "data": {
      "text/plain": "(tensor([[0.8000],\n         [0.8200],\n         [0.8400],\n         [0.8600],\n         [0.8800],\n         [0.9000],\n         [0.9200],\n         [0.9400],\n         [0.9600],\n         [0.9800]]),\n tensor([[0.8600],\n         [0.8740],\n         [0.8880],\n         [0.9020],\n         [0.9160],\n         [0.9300],\n         [0.9440],\n         [0.9580],\n         [0.9720],\n         [0.9860]]))"
     },
     "execution_count": 35,
     "metadata": {},
     "output_type": "execute_result"
    }
   ],
   "source": [
    "X_test, y_test"
   ]
  },
  {
   "cell_type": "code",
   "execution_count": 36,
   "id": "b1225a47-37d7-4efc-8d80-c6b7125780d5",
   "metadata": {
    "ExecuteTime": {
     "end_time": "2023-09-22T14:54:32.440584300Z",
     "start_time": "2023-09-22T14:54:32.435583Z"
    }
   },
   "outputs": [
    {
     "data": {
      "text/plain": "tensor([[0.3982],\n        [0.4049],\n        [0.4116],\n        [0.4184],\n        [0.4251],\n        [0.4318],\n        [0.4386],\n        [0.4453],\n        [0.4520],\n        [0.4588]])"
     },
     "execution_count": 36,
     "metadata": {},
     "output_type": "execute_result"
    }
   ],
   "source": [
    "with torch.inference_mode():\n",
    "    y_preds = model_0(X_test)\n",
    "\n",
    "y_preds"
   ]
  },
  {
   "cell_type": "code",
   "execution_count": 37,
   "id": "22c0cadf-daef-4ea9-b3b7-f804976677d8",
   "metadata": {
    "ExecuteTime": {
     "end_time": "2023-09-22T14:54:33.585704300Z",
     "start_time": "2023-09-22T14:54:33.422393200Z"
    }
   },
   "outputs": [
    {
     "data": {
      "text/plain": "<Figure size 500x300 with 1 Axes>",
      "image/svg+xml": "<?xml version=\"1.0\" encoding=\"utf-8\" standalone=\"no\"?>\n<!DOCTYPE svg PUBLIC \"-//W3C//DTD SVG 1.1//EN\"\n  \"http://www.w3.org/Graphics/SVG/1.1/DTD/svg11.dtd\">\n<svg xmlns:xlink=\"http://www.w3.org/1999/xlink\" width=\"316.749117pt\" height=\"197.398125pt\" viewBox=\"0 0 316.749117 197.398125\" xmlns=\"http://www.w3.org/2000/svg\" version=\"1.1\">\n <metadata>\n  <rdf:RDF xmlns:dc=\"http://purl.org/dc/elements/1.1/\" xmlns:cc=\"http://creativecommons.org/ns#\" xmlns:rdf=\"http://www.w3.org/1999/02/22-rdf-syntax-ns#\">\n   <cc:Work>\n    <dc:type rdf:resource=\"http://purl.org/dc/dcmitype/StillImage\"/>\n    <dc:date>2023-09-22T17:54:33.529681</dc:date>\n    <dc:format>image/svg+xml</dc:format>\n    <dc:creator>\n     <cc:Agent>\n      <dc:title>Matplotlib v3.8.0, https://matplotlib.org/</dc:title>\n     </cc:Agent>\n    </dc:creator>\n   </cc:Work>\n  </rdf:RDF>\n </metadata>\n <defs>\n  <style type=\"text/css\">*{stroke-linejoin: round; stroke-linecap: butt}</style>\n </defs>\n <g id=\"figure_1\">\n  <g id=\"patch_1\">\n   <path d=\"M 0 197.398125 \nL 316.749117 197.398125 \nL 316.749117 0 \nL 0 0 \nz\n\" style=\"fill: #ffffff\"/>\n  </g>\n  <g id=\"axes_1\">\n   <g id=\"patch_2\">\n    <path d=\"M 30.103125 173.52 \nL 309.103125 173.52 \nL 309.103125 7.2 \nL 30.103125 7.2 \nz\n\" style=\"fill: #ffffff\"/>\n   </g>\n   <g id=\"PathCollection_1\">\n    <defs>\n     <path id=\"m5bb288e818\" d=\"M 0 1 \nC 0.265203 1 0.51958 0.894634 0.707107 0.707107 \nC 0.894634 0.51958 1 0.265203 1 0 \nC 1 -0.265203 0.894634 -0.51958 0.707107 -0.707107 \nC 0.51958 -0.894634 0.265203 -1 0 -1 \nC -0.265203 -1 -0.51958 -0.894634 -0.707107 -0.707107 \nC -0.894634 -0.51958 -1 -0.265203 -1 0 \nC -1 0.265203 -0.894634 0.51958 -0.707107 0.707107 \nC -0.51958 0.894634 -0.265203 1 0 1 \nz\n\" style=\"stroke: #0000ff\"/>\n    </defs>\n    <g clip-path=\"url(#p6f1b3ef839)\">\n     <use xlink:href=\"#m5bb288e818\" x=\"42.784943\" y=\"165.96\" style=\"fill: #0000ff; stroke: #0000ff\"/>\n     <use xlink:href=\"#m5bb288e818\" x=\"47.961195\" y=\"162.874286\" style=\"fill: #0000ff; stroke: #0000ff\"/>\n     <use xlink:href=\"#m5bb288e818\" x=\"53.137447\" y=\"159.788572\" style=\"fill: #0000ff; stroke: #0000ff\"/>\n     <use xlink:href=\"#m5bb288e818\" x=\"58.313699\" y=\"156.702858\" style=\"fill: #0000ff; stroke: #0000ff\"/>\n     <use xlink:href=\"#m5bb288e818\" x=\"63.489952\" y=\"153.617144\" style=\"fill: #0000ff; stroke: #0000ff\"/>\n     <use xlink:href=\"#m5bb288e818\" x=\"68.666205\" y=\"150.53143\" style=\"fill: #0000ff; stroke: #0000ff\"/>\n     <use xlink:href=\"#m5bb288e818\" x=\"73.842456\" y=\"147.445716\" style=\"fill: #0000ff; stroke: #0000ff\"/>\n     <use xlink:href=\"#m5bb288e818\" x=\"79.018709\" y=\"144.360002\" style=\"fill: #0000ff; stroke: #0000ff\"/>\n     <use xlink:href=\"#m5bb288e818\" x=\"84.19496\" y=\"141.274288\" style=\"fill: #0000ff; stroke: #0000ff\"/>\n     <use xlink:href=\"#m5bb288e818\" x=\"89.371211\" y=\"138.188574\" style=\"fill: #0000ff; stroke: #0000ff\"/>\n     <use xlink:href=\"#m5bb288e818\" x=\"94.547466\" y=\"135.10286\" style=\"fill: #0000ff; stroke: #0000ff\"/>\n     <use xlink:href=\"#m5bb288e818\" x=\"99.723717\" y=\"132.017146\" style=\"fill: #0000ff; stroke: #0000ff\"/>\n     <use xlink:href=\"#m5bb288e818\" x=\"104.899968\" y=\"128.931432\" style=\"fill: #0000ff; stroke: #0000ff\"/>\n     <use xlink:href=\"#m5bb288e818\" x=\"110.07622\" y=\"125.845718\" style=\"fill: #0000ff; stroke: #0000ff\"/>\n     <use xlink:href=\"#m5bb288e818\" x=\"115.252475\" y=\"122.760004\" style=\"fill: #0000ff; stroke: #0000ff\"/>\n     <use xlink:href=\"#m5bb288e818\" x=\"120.428722\" y=\"119.67429\" style=\"fill: #0000ff; stroke: #0000ff\"/>\n     <use xlink:href=\"#m5bb288e818\" x=\"125.604977\" y=\"116.588576\" style=\"fill: #0000ff; stroke: #0000ff\"/>\n     <use xlink:href=\"#m5bb288e818\" x=\"130.781232\" y=\"113.502862\" style=\"fill: #0000ff; stroke: #0000ff\"/>\n     <use xlink:href=\"#m5bb288e818\" x=\"135.957479\" y=\"110.417148\" style=\"fill: #0000ff; stroke: #0000ff\"/>\n     <use xlink:href=\"#m5bb288e818\" x=\"141.133734\" y=\"107.331434\" style=\"fill: #0000ff; stroke: #0000ff\"/>\n     <use xlink:href=\"#m5bb288e818\" x=\"146.309989\" y=\"104.245707\" style=\"fill: #0000ff; stroke: #0000ff\"/>\n     <use xlink:href=\"#m5bb288e818\" x=\"151.486236\" y=\"101.160006\" style=\"fill: #0000ff; stroke: #0000ff\"/>\n     <use xlink:href=\"#m5bb288e818\" x=\"156.662491\" y=\"98.074278\" style=\"fill: #0000ff; stroke: #0000ff\"/>\n     <use xlink:href=\"#m5bb288e818\" x=\"161.838739\" y=\"94.988578\" style=\"fill: #0000ff; stroke: #0000ff\"/>\n     <use xlink:href=\"#m5bb288e818\" x=\"167.014994\" y=\"91.90285\" style=\"fill: #0000ff; stroke: #0000ff\"/>\n     <use xlink:href=\"#m5bb288e818\" x=\"172.191249\" y=\"88.81715\" style=\"fill: #0000ff; stroke: #0000ff\"/>\n     <use xlink:href=\"#m5bb288e818\" x=\"177.367496\" y=\"85.731422\" style=\"fill: #0000ff; stroke: #0000ff\"/>\n     <use xlink:href=\"#m5bb288e818\" x=\"182.543743\" y=\"82.645722\" style=\"fill: #0000ff; stroke: #0000ff\"/>\n     <use xlink:href=\"#m5bb288e818\" x=\"187.720006\" y=\"79.559994\" style=\"fill: #0000ff; stroke: #0000ff\"/>\n     <use xlink:href=\"#m5bb288e818\" x=\"192.896253\" y=\"76.474293\" style=\"fill: #0000ff; stroke: #0000ff\"/>\n     <use xlink:href=\"#m5bb288e818\" x=\"198.0725\" y=\"73.388579\" style=\"fill: #0000ff; stroke: #0000ff\"/>\n     <use xlink:href=\"#m5bb288e818\" x=\"203.248763\" y=\"70.302865\" style=\"fill: #0000ff; stroke: #0000ff\"/>\n     <use xlink:href=\"#m5bb288e818\" x=\"208.42501\" y=\"67.217138\" style=\"fill: #0000ff; stroke: #0000ff\"/>\n     <use xlink:href=\"#m5bb288e818\" x=\"213.601258\" y=\"64.131437\" style=\"fill: #0000ff; stroke: #0000ff\"/>\n     <use xlink:href=\"#m5bb288e818\" x=\"218.77752\" y=\"61.04571\" style=\"fill: #0000ff; stroke: #0000ff\"/>\n     <use xlink:href=\"#m5bb288e818\" x=\"223.953768\" y=\"57.960009\" style=\"fill: #0000ff; stroke: #0000ff\"/>\n     <use xlink:href=\"#m5bb288e818\" x=\"229.130015\" y=\"54.874295\" style=\"fill: #0000ff; stroke: #0000ff\"/>\n     <use xlink:href=\"#m5bb288e818\" x=\"234.306278\" y=\"51.788568\" style=\"fill: #0000ff; stroke: #0000ff\"/>\n     <use xlink:href=\"#m5bb288e818\" x=\"239.482525\" y=\"48.702854\" style=\"fill: #0000ff; stroke: #0000ff\"/>\n     <use xlink:href=\"#m5bb288e818\" x=\"244.658772\" y=\"45.617153\" style=\"fill: #0000ff; stroke: #0000ff\"/>\n    </g>\n   </g>\n   <g id=\"PathCollection_2\">\n    <defs>\n     <path id=\"mff71a58fea\" d=\"M 0 1 \nC 0.265203 1 0.51958 0.894634 0.707107 0.707107 \nC 0.894634 0.51958 1 0.265203 1 0 \nC 1 -0.265203 0.894634 -0.51958 0.707107 -0.707107 \nC 0.51958 -0.894634 0.265203 -1 0 -1 \nC -0.265203 -1 -0.51958 -0.894634 -0.707107 -0.707107 \nC -0.894634 -0.51958 -1 -0.265203 -1 0 \nC -1 0.265203 -0.894634 0.51958 -0.707107 0.707107 \nC -0.51958 0.894634 -0.265203 1 0 1 \nz\n\" style=\"stroke: #008000\"/>\n    </defs>\n    <g clip-path=\"url(#p6f1b3ef839)\">\n     <use xlink:href=\"#mff71a58fea\" x=\"249.835035\" y=\"42.531426\" style=\"fill: #008000; stroke: #008000\"/>\n     <use xlink:href=\"#mff71a58fea\" x=\"255.011282\" y=\"39.445712\" style=\"fill: #008000; stroke: #008000\"/>\n     <use xlink:href=\"#mff71a58fea\" x=\"260.187545\" y=\"36.359998\" style=\"fill: #008000; stroke: #008000\"/>\n     <use xlink:href=\"#mff71a58fea\" x=\"265.363792\" y=\"33.274284\" style=\"fill: #008000; stroke: #008000\"/>\n     <use xlink:href=\"#mff71a58fea\" x=\"270.54004\" y=\"30.18857\" style=\"fill: #008000; stroke: #008000\"/>\n     <use xlink:href=\"#mff71a58fea\" x=\"275.716302\" y=\"27.102856\" style=\"fill: #008000; stroke: #008000\"/>\n     <use xlink:href=\"#mff71a58fea\" x=\"280.89255\" y=\"24.017142\" style=\"fill: #008000; stroke: #008000\"/>\n     <use xlink:href=\"#mff71a58fea\" x=\"286.068797\" y=\"20.931428\" style=\"fill: #008000; stroke: #008000\"/>\n     <use xlink:href=\"#mff71a58fea\" x=\"291.245044\" y=\"17.845714\" style=\"fill: #008000; stroke: #008000\"/>\n     <use xlink:href=\"#mff71a58fea\" x=\"296.421307\" y=\"14.76\" style=\"fill: #008000; stroke: #008000\"/>\n    </g>\n   </g>\n   <g id=\"PathCollection_3\">\n    <defs>\n     <path id=\"mec76f5b3e2\" d=\"M 0 1 \nC 0.265203 1 0.51958 0.894634 0.707107 0.707107 \nC 0.894634 0.51958 1 0.265203 1 0 \nC 1 -0.265203 0.894634 -0.51958 0.707107 -0.707107 \nC 0.51958 -0.894634 0.265203 -1 0 -1 \nC -0.265203 -1 -0.51958 -0.894634 -0.707107 -0.707107 \nC -0.894634 -0.51958 -1 -0.265203 -1 0 \nC -1 0.265203 -0.894634 0.51958 -0.707107 0.707107 \nC -0.51958 0.894634 -0.265203 1 0 1 \nz\n\" style=\"stroke: #ff0000\"/>\n    </defs>\n    <g clip-path=\"url(#p6f1b3ef839)\">\n     <use xlink:href=\"#mec76f5b3e2\" x=\"249.835035\" y=\"144.32436\" style=\"fill: #ff0000; stroke: #ff0000\"/>\n     <use xlink:href=\"#mec76f5b3e2\" x=\"255.011282\" y=\"142.840181\" style=\"fill: #ff0000; stroke: #ff0000\"/>\n     <use xlink:href=\"#mec76f5b3e2\" x=\"260.187545\" y=\"141.355989\" style=\"fill: #ff0000; stroke: #ff0000\"/>\n     <use xlink:href=\"#mec76f5b3e2\" x=\"265.363792\" y=\"139.871797\" style=\"fill: #ff0000; stroke: #ff0000\"/>\n     <use xlink:href=\"#mec76f5b3e2\" x=\"270.54004\" y=\"138.387618\" style=\"fill: #ff0000; stroke: #ff0000\"/>\n     <use xlink:href=\"#mec76f5b3e2\" x=\"275.716302\" y=\"136.903426\" style=\"fill: #ff0000; stroke: #ff0000\"/>\n     <use xlink:href=\"#mec76f5b3e2\" x=\"280.89255\" y=\"135.419247\" style=\"fill: #ff0000; stroke: #ff0000\"/>\n     <use xlink:href=\"#mec76f5b3e2\" x=\"286.068797\" y=\"133.935054\" style=\"fill: #ff0000; stroke: #ff0000\"/>\n     <use xlink:href=\"#mec76f5b3e2\" x=\"291.245044\" y=\"132.450875\" style=\"fill: #ff0000; stroke: #ff0000\"/>\n     <use xlink:href=\"#mec76f5b3e2\" x=\"296.421307\" y=\"130.966683\" style=\"fill: #ff0000; stroke: #ff0000\"/>\n    </g>\n   </g>\n   <g id=\"matplotlib.axis_1\">\n    <g id=\"xtick_1\">\n     <g id=\"line2d_1\">\n      <defs>\n       <path id=\"m53ab0b9b91\" d=\"M 0 0 \nL 0 3.5 \n\" style=\"stroke: #000000; stroke-width: 0.8\"/>\n      </defs>\n      <g>\n       <use xlink:href=\"#m53ab0b9b91\" x=\"42.784943\" y=\"173.52\" style=\"stroke: #000000; stroke-width: 0.8\"/>\n      </g>\n     </g>\n     <g id=\"text_1\">\n      <!-- 0.0 -->\n      <g transform=\"translate(34.833381 188.118438) scale(0.1 -0.1)\">\n       <defs>\n        <path id=\"DejaVuSans-30\" d=\"M 2034 4250 \nQ 1547 4250 1301 3770 \nQ 1056 3291 1056 2328 \nQ 1056 1369 1301 889 \nQ 1547 409 2034 409 \nQ 2525 409 2770 889 \nQ 3016 1369 3016 2328 \nQ 3016 3291 2770 3770 \nQ 2525 4250 2034 4250 \nz\nM 2034 4750 \nQ 2819 4750 3233 4129 \nQ 3647 3509 3647 2328 \nQ 3647 1150 3233 529 \nQ 2819 -91 2034 -91 \nQ 1250 -91 836 529 \nQ 422 1150 422 2328 \nQ 422 3509 836 4129 \nQ 1250 4750 2034 4750 \nz\n\" transform=\"scale(0.015625)\"/>\n        <path id=\"DejaVuSans-2e\" d=\"M 684 794 \nL 1344 794 \nL 1344 0 \nL 684 0 \nL 684 794 \nz\n\" transform=\"scale(0.015625)\"/>\n       </defs>\n       <use xlink:href=\"#DejaVuSans-30\"/>\n       <use xlink:href=\"#DejaVuSans-2e\" x=\"63.623047\"/>\n       <use xlink:href=\"#DejaVuSans-30\" x=\"95.410156\"/>\n      </g>\n     </g>\n    </g>\n    <g id=\"xtick_2\">\n     <g id=\"line2d_2\">\n      <g>\n       <use xlink:href=\"#m53ab0b9b91\" x=\"94.547465\" y=\"173.52\" style=\"stroke: #000000; stroke-width: 0.8\"/>\n      </g>\n     </g>\n     <g id=\"text_2\">\n      <!-- 0.2 -->\n      <g transform=\"translate(86.595903 188.118438) scale(0.1 -0.1)\">\n       <defs>\n        <path id=\"DejaVuSans-32\" d=\"M 1228 531 \nL 3431 531 \nL 3431 0 \nL 469 0 \nL 469 531 \nQ 828 903 1448 1529 \nQ 2069 2156 2228 2338 \nQ 2531 2678 2651 2914 \nQ 2772 3150 2772 3378 \nQ 2772 3750 2511 3984 \nQ 2250 4219 1831 4219 \nQ 1534 4219 1204 4116 \nQ 875 4013 500 3803 \nL 500 4441 \nQ 881 4594 1212 4672 \nQ 1544 4750 1819 4750 \nQ 2544 4750 2975 4387 \nQ 3406 4025 3406 3419 \nQ 3406 3131 3298 2873 \nQ 3191 2616 2906 2266 \nQ 2828 2175 2409 1742 \nQ 1991 1309 1228 531 \nz\n\" transform=\"scale(0.015625)\"/>\n       </defs>\n       <use xlink:href=\"#DejaVuSans-30\"/>\n       <use xlink:href=\"#DejaVuSans-2e\" x=\"63.623047\"/>\n       <use xlink:href=\"#DejaVuSans-32\" x=\"95.410156\"/>\n      </g>\n     </g>\n    </g>\n    <g id=\"xtick_3\">\n     <g id=\"line2d_3\">\n      <g>\n       <use xlink:href=\"#m53ab0b9b91\" x=\"146.309988\" y=\"173.52\" style=\"stroke: #000000; stroke-width: 0.8\"/>\n      </g>\n     </g>\n     <g id=\"text_3\">\n      <!-- 0.4 -->\n      <g transform=\"translate(138.358425 188.118438) scale(0.1 -0.1)\">\n       <defs>\n        <path id=\"DejaVuSans-34\" d=\"M 2419 4116 \nL 825 1625 \nL 2419 1625 \nL 2419 4116 \nz\nM 2253 4666 \nL 3047 4666 \nL 3047 1625 \nL 3713 1625 \nL 3713 1100 \nL 3047 1100 \nL 3047 0 \nL 2419 0 \nL 2419 1100 \nL 313 1100 \nL 313 1709 \nL 2253 4666 \nz\n\" transform=\"scale(0.015625)\"/>\n       </defs>\n       <use xlink:href=\"#DejaVuSans-30\"/>\n       <use xlink:href=\"#DejaVuSans-2e\" x=\"63.623047\"/>\n       <use xlink:href=\"#DejaVuSans-34\" x=\"95.410156\"/>\n      </g>\n     </g>\n    </g>\n    <g id=\"xtick_4\">\n     <g id=\"line2d_4\">\n      <g>\n       <use xlink:href=\"#m53ab0b9b91\" x=\"198.07251\" y=\"173.52\" style=\"stroke: #000000; stroke-width: 0.8\"/>\n      </g>\n     </g>\n     <g id=\"text_4\">\n      <!-- 0.6 -->\n      <g transform=\"translate(190.120947 188.118438) scale(0.1 -0.1)\">\n       <defs>\n        <path id=\"DejaVuSans-36\" d=\"M 2113 2584 \nQ 1688 2584 1439 2293 \nQ 1191 2003 1191 1497 \nQ 1191 994 1439 701 \nQ 1688 409 2113 409 \nQ 2538 409 2786 701 \nQ 3034 994 3034 1497 \nQ 3034 2003 2786 2293 \nQ 2538 2584 2113 2584 \nz\nM 3366 4563 \nL 3366 3988 \nQ 3128 4100 2886 4159 \nQ 2644 4219 2406 4219 \nQ 1781 4219 1451 3797 \nQ 1122 3375 1075 2522 \nQ 1259 2794 1537 2939 \nQ 1816 3084 2150 3084 \nQ 2853 3084 3261 2657 \nQ 3669 2231 3669 1497 \nQ 3669 778 3244 343 \nQ 2819 -91 2113 -91 \nQ 1303 -91 875 529 \nQ 447 1150 447 2328 \nQ 447 3434 972 4092 \nQ 1497 4750 2381 4750 \nQ 2619 4750 2861 4703 \nQ 3103 4656 3366 4563 \nz\n\" transform=\"scale(0.015625)\"/>\n       </defs>\n       <use xlink:href=\"#DejaVuSans-30\"/>\n       <use xlink:href=\"#DejaVuSans-2e\" x=\"63.623047\"/>\n       <use xlink:href=\"#DejaVuSans-36\" x=\"95.410156\"/>\n      </g>\n     </g>\n    </g>\n    <g id=\"xtick_5\">\n     <g id=\"line2d_5\">\n      <g>\n       <use xlink:href=\"#m53ab0b9b91\" x=\"249.835032\" y=\"173.52\" style=\"stroke: #000000; stroke-width: 0.8\"/>\n      </g>\n     </g>\n     <g id=\"text_5\">\n      <!-- 0.8 -->\n      <g transform=\"translate(241.883469 188.118438) scale(0.1 -0.1)\">\n       <defs>\n        <path id=\"DejaVuSans-38\" d=\"M 2034 2216 \nQ 1584 2216 1326 1975 \nQ 1069 1734 1069 1313 \nQ 1069 891 1326 650 \nQ 1584 409 2034 409 \nQ 2484 409 2743 651 \nQ 3003 894 3003 1313 \nQ 3003 1734 2745 1975 \nQ 2488 2216 2034 2216 \nz\nM 1403 2484 \nQ 997 2584 770 2862 \nQ 544 3141 544 3541 \nQ 544 4100 942 4425 \nQ 1341 4750 2034 4750 \nQ 2731 4750 3128 4425 \nQ 3525 4100 3525 3541 \nQ 3525 3141 3298 2862 \nQ 3072 2584 2669 2484 \nQ 3125 2378 3379 2068 \nQ 3634 1759 3634 1313 \nQ 3634 634 3220 271 \nQ 2806 -91 2034 -91 \nQ 1263 -91 848 271 \nQ 434 634 434 1313 \nQ 434 1759 690 2068 \nQ 947 2378 1403 2484 \nz\nM 1172 3481 \nQ 1172 3119 1398 2916 \nQ 1625 2713 2034 2713 \nQ 2441 2713 2670 2916 \nQ 2900 3119 2900 3481 \nQ 2900 3844 2670 4047 \nQ 2441 4250 2034 4250 \nQ 1625 4250 1398 4047 \nQ 1172 3844 1172 3481 \nz\n\" transform=\"scale(0.015625)\"/>\n       </defs>\n       <use xlink:href=\"#DejaVuSans-30\"/>\n       <use xlink:href=\"#DejaVuSans-2e\" x=\"63.623047\"/>\n       <use xlink:href=\"#DejaVuSans-38\" x=\"95.410156\"/>\n      </g>\n     </g>\n    </g>\n    <g id=\"xtick_6\">\n     <g id=\"line2d_6\">\n      <g>\n       <use xlink:href=\"#m53ab0b9b91\" x=\"301.597554\" y=\"173.52\" style=\"stroke: #000000; stroke-width: 0.8\"/>\n      </g>\n     </g>\n     <g id=\"text_6\">\n      <!-- 1.0 -->\n      <g transform=\"translate(293.645992 188.118438) scale(0.1 -0.1)\">\n       <defs>\n        <path id=\"DejaVuSans-31\" d=\"M 794 531 \nL 1825 531 \nL 1825 4091 \nL 703 3866 \nL 703 4441 \nL 1819 4666 \nL 2450 4666 \nL 2450 531 \nL 3481 531 \nL 3481 0 \nL 794 0 \nL 794 531 \nz\n\" transform=\"scale(0.015625)\"/>\n       </defs>\n       <use xlink:href=\"#DejaVuSans-31\"/>\n       <use xlink:href=\"#DejaVuSans-2e\" x=\"63.623047\"/>\n       <use xlink:href=\"#DejaVuSans-30\" x=\"95.410156\"/>\n      </g>\n     </g>\n    </g>\n   </g>\n   <g id=\"matplotlib.axis_2\">\n    <g id=\"ytick_1\">\n     <g id=\"line2d_7\">\n      <defs>\n       <path id=\"m3a2fffcbf3\" d=\"M 0 0 \nL -3.5 0 \n\" style=\"stroke: #000000; stroke-width: 0.8\"/>\n      </defs>\n      <g>\n       <use xlink:href=\"#m3a2fffcbf3\" x=\"30.103125\" y=\"165.960003\" style=\"stroke: #000000; stroke-width: 0.8\"/>\n      </g>\n     </g>\n     <g id=\"text_7\">\n      <!-- 0.3 -->\n      <g transform=\"translate(7.2 169.759221) scale(0.1 -0.1)\">\n       <defs>\n        <path id=\"DejaVuSans-33\" d=\"M 2597 2516 \nQ 3050 2419 3304 2112 \nQ 3559 1806 3559 1356 \nQ 3559 666 3084 287 \nQ 2609 -91 1734 -91 \nQ 1441 -91 1130 -33 \nQ 819 25 488 141 \nL 488 750 \nQ 750 597 1062 519 \nQ 1375 441 1716 441 \nQ 2309 441 2620 675 \nQ 2931 909 2931 1356 \nQ 2931 1769 2642 2001 \nQ 2353 2234 1838 2234 \nL 1294 2234 \nL 1294 2753 \nL 1863 2753 \nQ 2328 2753 2575 2939 \nQ 2822 3125 2822 3475 \nQ 2822 3834 2567 4026 \nQ 2313 4219 1838 4219 \nQ 1578 4219 1281 4162 \nQ 984 4106 628 3988 \nL 628 4550 \nQ 988 4650 1302 4700 \nQ 1616 4750 1894 4750 \nQ 2613 4750 3031 4423 \nQ 3450 4097 3450 3541 \nQ 3450 3153 3228 2886 \nQ 3006 2619 2597 2516 \nz\n\" transform=\"scale(0.015625)\"/>\n       </defs>\n       <use xlink:href=\"#DejaVuSans-30\"/>\n       <use xlink:href=\"#DejaVuSans-2e\" x=\"63.623047\"/>\n       <use xlink:href=\"#DejaVuSans-33\" x=\"95.410156\"/>\n      </g>\n     </g>\n    </g>\n    <g id=\"ytick_2\">\n     <g id=\"line2d_8\">\n      <g>\n       <use xlink:href=\"#m3a2fffcbf3\" x=\"30.103125\" y=\"143.919186\" style=\"stroke: #000000; stroke-width: 0.8\"/>\n      </g>\n     </g>\n     <g id=\"text_8\">\n      <!-- 0.4 -->\n      <g transform=\"translate(7.2 147.718405) scale(0.1 -0.1)\">\n       <use xlink:href=\"#DejaVuSans-30\"/>\n       <use xlink:href=\"#DejaVuSans-2e\" x=\"63.623047\"/>\n       <use xlink:href=\"#DejaVuSans-34\" x=\"95.410156\"/>\n      </g>\n     </g>\n    </g>\n    <g id=\"ytick_3\">\n     <g id=\"line2d_9\">\n      <g>\n       <use xlink:href=\"#m3a2fffcbf3\" x=\"30.103125\" y=\"121.878369\" style=\"stroke: #000000; stroke-width: 0.8\"/>\n      </g>\n     </g>\n     <g id=\"text_9\">\n      <!-- 0.5 -->\n      <g transform=\"translate(7.2 125.677588) scale(0.1 -0.1)\">\n       <defs>\n        <path id=\"DejaVuSans-35\" d=\"M 691 4666 \nL 3169 4666 \nL 3169 4134 \nL 1269 4134 \nL 1269 2991 \nQ 1406 3038 1543 3061 \nQ 1681 3084 1819 3084 \nQ 2600 3084 3056 2656 \nQ 3513 2228 3513 1497 \nQ 3513 744 3044 326 \nQ 2575 -91 1722 -91 \nQ 1428 -91 1123 -41 \nQ 819 9 494 109 \nL 494 744 \nQ 775 591 1075 516 \nQ 1375 441 1709 441 \nQ 2250 441 2565 725 \nQ 2881 1009 2881 1497 \nQ 2881 1984 2565 2268 \nQ 2250 2553 1709 2553 \nQ 1456 2553 1204 2497 \nQ 953 2441 691 2322 \nL 691 4666 \nz\n\" transform=\"scale(0.015625)\"/>\n       </defs>\n       <use xlink:href=\"#DejaVuSans-30\"/>\n       <use xlink:href=\"#DejaVuSans-2e\" x=\"63.623047\"/>\n       <use xlink:href=\"#DejaVuSans-35\" x=\"95.410156\"/>\n      </g>\n     </g>\n    </g>\n    <g id=\"ytick_4\">\n     <g id=\"line2d_10\">\n      <g>\n       <use xlink:href=\"#m3a2fffcbf3\" x=\"30.103125\" y=\"99.837553\" style=\"stroke: #000000; stroke-width: 0.8\"/>\n      </g>\n     </g>\n     <g id=\"text_10\">\n      <!-- 0.6 -->\n      <g transform=\"translate(7.2 103.636771) scale(0.1 -0.1)\">\n       <use xlink:href=\"#DejaVuSans-30\"/>\n       <use xlink:href=\"#DejaVuSans-2e\" x=\"63.623047\"/>\n       <use xlink:href=\"#DejaVuSans-36\" x=\"95.410156\"/>\n      </g>\n     </g>\n    </g>\n    <g id=\"ytick_5\">\n     <g id=\"line2d_11\">\n      <g>\n       <use xlink:href=\"#m3a2fffcbf3\" x=\"30.103125\" y=\"77.796736\" style=\"stroke: #000000; stroke-width: 0.8\"/>\n      </g>\n     </g>\n     <g id=\"text_11\">\n      <!-- 0.7 -->\n      <g transform=\"translate(7.2 81.595955) scale(0.1 -0.1)\">\n       <defs>\n        <path id=\"DejaVuSans-37\" d=\"M 525 4666 \nL 3525 4666 \nL 3525 4397 \nL 1831 0 \nL 1172 0 \nL 2766 4134 \nL 525 4134 \nL 525 4666 \nz\n\" transform=\"scale(0.015625)\"/>\n       </defs>\n       <use xlink:href=\"#DejaVuSans-30\"/>\n       <use xlink:href=\"#DejaVuSans-2e\" x=\"63.623047\"/>\n       <use xlink:href=\"#DejaVuSans-37\" x=\"95.410156\"/>\n      </g>\n     </g>\n    </g>\n    <g id=\"ytick_6\">\n     <g id=\"line2d_12\">\n      <g>\n       <use xlink:href=\"#m3a2fffcbf3\" x=\"30.103125\" y=\"55.755919\" style=\"stroke: #000000; stroke-width: 0.8\"/>\n      </g>\n     </g>\n     <g id=\"text_12\">\n      <!-- 0.8 -->\n      <g transform=\"translate(7.2 59.555138) scale(0.1 -0.1)\">\n       <use xlink:href=\"#DejaVuSans-30\"/>\n       <use xlink:href=\"#DejaVuSans-2e\" x=\"63.623047\"/>\n       <use xlink:href=\"#DejaVuSans-38\" x=\"95.410156\"/>\n      </g>\n     </g>\n    </g>\n    <g id=\"ytick_7\">\n     <g id=\"line2d_13\">\n      <g>\n       <use xlink:href=\"#m3a2fffcbf3\" x=\"30.103125\" y=\"33.715103\" style=\"stroke: #000000; stroke-width: 0.8\"/>\n      </g>\n     </g>\n     <g id=\"text_13\">\n      <!-- 0.9 -->\n      <g transform=\"translate(7.2 37.514321) scale(0.1 -0.1)\">\n       <defs>\n        <path id=\"DejaVuSans-39\" d=\"M 703 97 \nL 703 672 \nQ 941 559 1184 500 \nQ 1428 441 1663 441 \nQ 2288 441 2617 861 \nQ 2947 1281 2994 2138 \nQ 2813 1869 2534 1725 \nQ 2256 1581 1919 1581 \nQ 1219 1581 811 2004 \nQ 403 2428 403 3163 \nQ 403 3881 828 4315 \nQ 1253 4750 1959 4750 \nQ 2769 4750 3195 4129 \nQ 3622 3509 3622 2328 \nQ 3622 1225 3098 567 \nQ 2575 -91 1691 -91 \nQ 1453 -91 1209 -44 \nQ 966 3 703 97 \nz\nM 1959 2075 \nQ 2384 2075 2632 2365 \nQ 2881 2656 2881 3163 \nQ 2881 3666 2632 3958 \nQ 2384 4250 1959 4250 \nQ 1534 4250 1286 3958 \nQ 1038 3666 1038 3163 \nQ 1038 2656 1286 2365 \nQ 1534 2075 1959 2075 \nz\n\" transform=\"scale(0.015625)\"/>\n       </defs>\n       <use xlink:href=\"#DejaVuSans-30\"/>\n       <use xlink:href=\"#DejaVuSans-2e\" x=\"63.623047\"/>\n       <use xlink:href=\"#DejaVuSans-39\" x=\"95.410156\"/>\n      </g>\n     </g>\n    </g>\n    <g id=\"ytick_8\">\n     <g id=\"line2d_14\">\n      <g>\n       <use xlink:href=\"#m3a2fffcbf3\" x=\"30.103125\" y=\"11.674286\" style=\"stroke: #000000; stroke-width: 0.8\"/>\n      </g>\n     </g>\n     <g id=\"text_14\">\n      <!-- 1.0 -->\n      <g transform=\"translate(7.2 15.473505) scale(0.1 -0.1)\">\n       <use xlink:href=\"#DejaVuSans-31\"/>\n       <use xlink:href=\"#DejaVuSans-2e\" x=\"63.623047\"/>\n       <use xlink:href=\"#DejaVuSans-30\" x=\"95.410156\"/>\n      </g>\n     </g>\n    </g>\n   </g>\n   <g id=\"patch_3\">\n    <path d=\"M 30.103125 173.52 \nL 30.103125 7.2 \n\" style=\"fill: none; stroke: #000000; stroke-width: 0.8; stroke-linejoin: miter; stroke-linecap: square\"/>\n   </g>\n   <g id=\"patch_4\">\n    <path d=\"M 309.103125 173.52 \nL 309.103125 7.2 \n\" style=\"fill: none; stroke: #000000; stroke-width: 0.8; stroke-linejoin: miter; stroke-linecap: square\"/>\n   </g>\n   <g id=\"patch_5\">\n    <path d=\"M 30.103125 173.52 \nL 309.103125 173.52 \n\" style=\"fill: none; stroke: #000000; stroke-width: 0.8; stroke-linejoin: miter; stroke-linecap: square\"/>\n   </g>\n   <g id=\"patch_6\">\n    <path d=\"M 30.103125 7.2 \nL 309.103125 7.2 \n\" style=\"fill: none; stroke: #000000; stroke-width: 0.8; stroke-linejoin: miter; stroke-linecap: square\"/>\n   </g>\n   <g id=\"legend_1\">\n    <g id=\"patch_7\">\n     <path d=\"M 39.903125 80.048125 \nL 216.01 80.048125 \nQ 218.81 80.048125 218.81 77.248125 \nL 218.81 17 \nQ 218.81 14.2 216.01 14.2 \nL 39.903125 14.2 \nQ 37.103125 14.2 37.103125 17 \nL 37.103125 77.248125 \nQ 37.103125 80.048125 39.903125 80.048125 \nz\n\" style=\"fill: #ffffff; opacity: 0.8; stroke: #cccccc; stroke-linejoin: miter\"/>\n    </g>\n    <g id=\"PathCollection_4\">\n     <g>\n      <use xlink:href=\"#m5bb288e818\" x=\"56.703125\" y=\"26.762813\" style=\"fill: #0000ff; stroke: #0000ff\"/>\n     </g>\n    </g>\n    <g id=\"text_15\">\n     <!-- Training data -->\n     <g transform=\"translate(81.903125 30.437813) scale(0.14 -0.14)\">\n      <defs>\n       <path id=\"DejaVuSans-54\" d=\"M -19 4666 \nL 3928 4666 \nL 3928 4134 \nL 2272 4134 \nL 2272 0 \nL 1638 0 \nL 1638 4134 \nL -19 4134 \nL -19 4666 \nz\n\" transform=\"scale(0.015625)\"/>\n       <path id=\"DejaVuSans-72\" d=\"M 2631 2963 \nQ 2534 3019 2420 3045 \nQ 2306 3072 2169 3072 \nQ 1681 3072 1420 2755 \nQ 1159 2438 1159 1844 \nL 1159 0 \nL 581 0 \nL 581 3500 \nL 1159 3500 \nL 1159 2956 \nQ 1341 3275 1631 3429 \nQ 1922 3584 2338 3584 \nQ 2397 3584 2469 3576 \nQ 2541 3569 2628 3553 \nL 2631 2963 \nz\n\" transform=\"scale(0.015625)\"/>\n       <path id=\"DejaVuSans-61\" d=\"M 2194 1759 \nQ 1497 1759 1228 1600 \nQ 959 1441 959 1056 \nQ 959 750 1161 570 \nQ 1363 391 1709 391 \nQ 2188 391 2477 730 \nQ 2766 1069 2766 1631 \nL 2766 1759 \nL 2194 1759 \nz\nM 3341 1997 \nL 3341 0 \nL 2766 0 \nL 2766 531 \nQ 2569 213 2275 61 \nQ 1981 -91 1556 -91 \nQ 1019 -91 701 211 \nQ 384 513 384 1019 \nQ 384 1609 779 1909 \nQ 1175 2209 1959 2209 \nL 2766 2209 \nL 2766 2266 \nQ 2766 2663 2505 2880 \nQ 2244 3097 1772 3097 \nQ 1472 3097 1187 3025 \nQ 903 2953 641 2809 \nL 641 3341 \nQ 956 3463 1253 3523 \nQ 1550 3584 1831 3584 \nQ 2591 3584 2966 3190 \nQ 3341 2797 3341 1997 \nz\n\" transform=\"scale(0.015625)\"/>\n       <path id=\"DejaVuSans-69\" d=\"M 603 3500 \nL 1178 3500 \nL 1178 0 \nL 603 0 \nL 603 3500 \nz\nM 603 4863 \nL 1178 4863 \nL 1178 4134 \nL 603 4134 \nL 603 4863 \nz\n\" transform=\"scale(0.015625)\"/>\n       <path id=\"DejaVuSans-6e\" d=\"M 3513 2113 \nL 3513 0 \nL 2938 0 \nL 2938 2094 \nQ 2938 2591 2744 2837 \nQ 2550 3084 2163 3084 \nQ 1697 3084 1428 2787 \nQ 1159 2491 1159 1978 \nL 1159 0 \nL 581 0 \nL 581 3500 \nL 1159 3500 \nL 1159 2956 \nQ 1366 3272 1645 3428 \nQ 1925 3584 2291 3584 \nQ 2894 3584 3203 3211 \nQ 3513 2838 3513 2113 \nz\n\" transform=\"scale(0.015625)\"/>\n       <path id=\"DejaVuSans-67\" d=\"M 2906 1791 \nQ 2906 2416 2648 2759 \nQ 2391 3103 1925 3103 \nQ 1463 3103 1205 2759 \nQ 947 2416 947 1791 \nQ 947 1169 1205 825 \nQ 1463 481 1925 481 \nQ 2391 481 2648 825 \nQ 2906 1169 2906 1791 \nz\nM 3481 434 \nQ 3481 -459 3084 -895 \nQ 2688 -1331 1869 -1331 \nQ 1566 -1331 1297 -1286 \nQ 1028 -1241 775 -1147 \nL 775 -588 \nQ 1028 -725 1275 -790 \nQ 1522 -856 1778 -856 \nQ 2344 -856 2625 -561 \nQ 2906 -266 2906 331 \nL 2906 616 \nQ 2728 306 2450 153 \nQ 2172 0 1784 0 \nQ 1141 0 747 490 \nQ 353 981 353 1791 \nQ 353 2603 747 3093 \nQ 1141 3584 1784 3584 \nQ 2172 3584 2450 3431 \nQ 2728 3278 2906 2969 \nL 2906 3500 \nL 3481 3500 \nL 3481 434 \nz\n\" transform=\"scale(0.015625)\"/>\n       <path id=\"DejaVuSans-20\" transform=\"scale(0.015625)\"/>\n       <path id=\"DejaVuSans-64\" d=\"M 2906 2969 \nL 2906 4863 \nL 3481 4863 \nL 3481 0 \nL 2906 0 \nL 2906 525 \nQ 2725 213 2448 61 \nQ 2172 -91 1784 -91 \nQ 1150 -91 751 415 \nQ 353 922 353 1747 \nQ 353 2572 751 3078 \nQ 1150 3584 1784 3584 \nQ 2172 3584 2448 3432 \nQ 2725 3281 2906 2969 \nz\nM 947 1747 \nQ 947 1113 1208 752 \nQ 1469 391 1925 391 \nQ 2381 391 2643 752 \nQ 2906 1113 2906 1747 \nQ 2906 2381 2643 2742 \nQ 2381 3103 1925 3103 \nQ 1469 3103 1208 2742 \nQ 947 2381 947 1747 \nz\n\" transform=\"scale(0.015625)\"/>\n       <path id=\"DejaVuSans-74\" d=\"M 1172 4494 \nL 1172 3500 \nL 2356 3500 \nL 2356 3053 \nL 1172 3053 \nL 1172 1153 \nQ 1172 725 1289 603 \nQ 1406 481 1766 481 \nL 2356 481 \nL 2356 0 \nL 1766 0 \nQ 1100 0 847 248 \nQ 594 497 594 1153 \nL 594 3053 \nL 172 3053 \nL 172 3500 \nL 594 3500 \nL 594 4494 \nL 1172 4494 \nz\n\" transform=\"scale(0.015625)\"/>\n      </defs>\n      <use xlink:href=\"#DejaVuSans-54\"/>\n      <use xlink:href=\"#DejaVuSans-72\" x=\"46.333984\"/>\n      <use xlink:href=\"#DejaVuSans-61\" x=\"87.447266\"/>\n      <use xlink:href=\"#DejaVuSans-69\" x=\"148.726562\"/>\n      <use xlink:href=\"#DejaVuSans-6e\" x=\"176.509766\"/>\n      <use xlink:href=\"#DejaVuSans-69\" x=\"239.888672\"/>\n      <use xlink:href=\"#DejaVuSans-6e\" x=\"267.671875\"/>\n      <use xlink:href=\"#DejaVuSans-67\" x=\"331.050781\"/>\n      <use xlink:href=\"#DejaVuSans-20\" x=\"394.527344\"/>\n      <use xlink:href=\"#DejaVuSans-64\" x=\"426.314453\"/>\n      <use xlink:href=\"#DejaVuSans-61\" x=\"489.791016\"/>\n      <use xlink:href=\"#DejaVuSans-74\" x=\"551.070312\"/>\n      <use xlink:href=\"#DejaVuSans-61\" x=\"590.279297\"/>\n     </g>\n    </g>\n    <g id=\"PathCollection_5\">\n     <g>\n      <use xlink:href=\"#mff71a58fea\" x=\"56.703125\" y=\"47.312188\" style=\"fill: #008000; stroke: #008000\"/>\n     </g>\n    </g>\n    <g id=\"text_16\">\n     <!-- Testing data -->\n     <g transform=\"translate(81.903125 50.987188) scale(0.14 -0.14)\">\n      <defs>\n       <path id=\"DejaVuSans-65\" d=\"M 3597 1894 \nL 3597 1613 \nL 953 1613 \nQ 991 1019 1311 708 \nQ 1631 397 2203 397 \nQ 2534 397 2845 478 \nQ 3156 559 3463 722 \nL 3463 178 \nQ 3153 47 2828 -22 \nQ 2503 -91 2169 -91 \nQ 1331 -91 842 396 \nQ 353 884 353 1716 \nQ 353 2575 817 3079 \nQ 1281 3584 2069 3584 \nQ 2775 3584 3186 3129 \nQ 3597 2675 3597 1894 \nz\nM 3022 2063 \nQ 3016 2534 2758 2815 \nQ 2500 3097 2075 3097 \nQ 1594 3097 1305 2825 \nQ 1016 2553 972 2059 \nL 3022 2063 \nz\n\" transform=\"scale(0.015625)\"/>\n       <path id=\"DejaVuSans-73\" d=\"M 2834 3397 \nL 2834 2853 \nQ 2591 2978 2328 3040 \nQ 2066 3103 1784 3103 \nQ 1356 3103 1142 2972 \nQ 928 2841 928 2578 \nQ 928 2378 1081 2264 \nQ 1234 2150 1697 2047 \nL 1894 2003 \nQ 2506 1872 2764 1633 \nQ 3022 1394 3022 966 \nQ 3022 478 2636 193 \nQ 2250 -91 1575 -91 \nQ 1294 -91 989 -36 \nQ 684 19 347 128 \nL 347 722 \nQ 666 556 975 473 \nQ 1284 391 1588 391 \nQ 1994 391 2212 530 \nQ 2431 669 2431 922 \nQ 2431 1156 2273 1281 \nQ 2116 1406 1581 1522 \nL 1381 1569 \nQ 847 1681 609 1914 \nQ 372 2147 372 2553 \nQ 372 3047 722 3315 \nQ 1072 3584 1716 3584 \nQ 2034 3584 2315 3537 \nQ 2597 3491 2834 3397 \nz\n\" transform=\"scale(0.015625)\"/>\n      </defs>\n      <use xlink:href=\"#DejaVuSans-54\"/>\n      <use xlink:href=\"#DejaVuSans-65\" x=\"44.083984\"/>\n      <use xlink:href=\"#DejaVuSans-73\" x=\"105.607422\"/>\n      <use xlink:href=\"#DejaVuSans-74\" x=\"157.707031\"/>\n      <use xlink:href=\"#DejaVuSans-69\" x=\"196.916016\"/>\n      <use xlink:href=\"#DejaVuSans-6e\" x=\"224.699219\"/>\n      <use xlink:href=\"#DejaVuSans-67\" x=\"288.078125\"/>\n      <use xlink:href=\"#DejaVuSans-20\" x=\"351.554688\"/>\n      <use xlink:href=\"#DejaVuSans-64\" x=\"383.341797\"/>\n      <use xlink:href=\"#DejaVuSans-61\" x=\"446.818359\"/>\n      <use xlink:href=\"#DejaVuSans-74\" x=\"508.097656\"/>\n      <use xlink:href=\"#DejaVuSans-61\" x=\"547.306641\"/>\n     </g>\n    </g>\n    <g id=\"PathCollection_6\">\n     <g>\n      <use xlink:href=\"#mec76f5b3e2\" x=\"56.703125\" y=\"67.861563\" style=\"fill: #ff0000; stroke: #ff0000\"/>\n     </g>\n    </g>\n    <g id=\"text_17\">\n     <!-- Models predictions -->\n     <g transform=\"translate(81.903125 71.536563) scale(0.14 -0.14)\">\n      <defs>\n       <path id=\"DejaVuSans-4d\" d=\"M 628 4666 \nL 1569 4666 \nL 2759 1491 \nL 3956 4666 \nL 4897 4666 \nL 4897 0 \nL 4281 0 \nL 4281 4097 \nL 3078 897 \nL 2444 897 \nL 1241 4097 \nL 1241 0 \nL 628 0 \nL 628 4666 \nz\n\" transform=\"scale(0.015625)\"/>\n       <path id=\"DejaVuSans-6f\" d=\"M 1959 3097 \nQ 1497 3097 1228 2736 \nQ 959 2375 959 1747 \nQ 959 1119 1226 758 \nQ 1494 397 1959 397 \nQ 2419 397 2687 759 \nQ 2956 1122 2956 1747 \nQ 2956 2369 2687 2733 \nQ 2419 3097 1959 3097 \nz\nM 1959 3584 \nQ 2709 3584 3137 3096 \nQ 3566 2609 3566 1747 \nQ 3566 888 3137 398 \nQ 2709 -91 1959 -91 \nQ 1206 -91 779 398 \nQ 353 888 353 1747 \nQ 353 2609 779 3096 \nQ 1206 3584 1959 3584 \nz\n\" transform=\"scale(0.015625)\"/>\n       <path id=\"DejaVuSans-6c\" d=\"M 603 4863 \nL 1178 4863 \nL 1178 0 \nL 603 0 \nL 603 4863 \nz\n\" transform=\"scale(0.015625)\"/>\n       <path id=\"DejaVuSans-70\" d=\"M 1159 525 \nL 1159 -1331 \nL 581 -1331 \nL 581 3500 \nL 1159 3500 \nL 1159 2969 \nQ 1341 3281 1617 3432 \nQ 1894 3584 2278 3584 \nQ 2916 3584 3314 3078 \nQ 3713 2572 3713 1747 \nQ 3713 922 3314 415 \nQ 2916 -91 2278 -91 \nQ 1894 -91 1617 61 \nQ 1341 213 1159 525 \nz\nM 3116 1747 \nQ 3116 2381 2855 2742 \nQ 2594 3103 2138 3103 \nQ 1681 3103 1420 2742 \nQ 1159 2381 1159 1747 \nQ 1159 1113 1420 752 \nQ 1681 391 2138 391 \nQ 2594 391 2855 752 \nQ 3116 1113 3116 1747 \nz\n\" transform=\"scale(0.015625)\"/>\n       <path id=\"DejaVuSans-63\" d=\"M 3122 3366 \nL 3122 2828 \nQ 2878 2963 2633 3030 \nQ 2388 3097 2138 3097 \nQ 1578 3097 1268 2742 \nQ 959 2388 959 1747 \nQ 959 1106 1268 751 \nQ 1578 397 2138 397 \nQ 2388 397 2633 464 \nQ 2878 531 3122 666 \nL 3122 134 \nQ 2881 22 2623 -34 \nQ 2366 -91 2075 -91 \nQ 1284 -91 818 406 \nQ 353 903 353 1747 \nQ 353 2603 823 3093 \nQ 1294 3584 2113 3584 \nQ 2378 3584 2631 3529 \nQ 2884 3475 3122 3366 \nz\n\" transform=\"scale(0.015625)\"/>\n      </defs>\n      <use xlink:href=\"#DejaVuSans-4d\"/>\n      <use xlink:href=\"#DejaVuSans-6f\" x=\"86.279297\"/>\n      <use xlink:href=\"#DejaVuSans-64\" x=\"147.460938\"/>\n      <use xlink:href=\"#DejaVuSans-65\" x=\"210.9375\"/>\n      <use xlink:href=\"#DejaVuSans-6c\" x=\"272.460938\"/>\n      <use xlink:href=\"#DejaVuSans-73\" x=\"300.244141\"/>\n      <use xlink:href=\"#DejaVuSans-20\" x=\"352.34375\"/>\n      <use xlink:href=\"#DejaVuSans-70\" x=\"384.130859\"/>\n      <use xlink:href=\"#DejaVuSans-72\" x=\"447.607422\"/>\n      <use xlink:href=\"#DejaVuSans-65\" x=\"486.470703\"/>\n      <use xlink:href=\"#DejaVuSans-64\" x=\"547.994141\"/>\n      <use xlink:href=\"#DejaVuSans-69\" x=\"611.470703\"/>\n      <use xlink:href=\"#DejaVuSans-63\" x=\"639.253906\"/>\n      <use xlink:href=\"#DejaVuSans-74\" x=\"694.234375\"/>\n      <use xlink:href=\"#DejaVuSans-69\" x=\"733.443359\"/>\n      <use xlink:href=\"#DejaVuSans-6f\" x=\"761.226562\"/>\n      <use xlink:href=\"#DejaVuSans-6e\" x=\"822.408203\"/>\n      <use xlink:href=\"#DejaVuSans-73\" x=\"885.787109\"/>\n     </g>\n    </g>\n   </g>\n  </g>\n </g>\n <defs>\n  <clipPath id=\"p6f1b3ef839\">\n   <rect x=\"30.103125\" y=\"7.2\" width=\"279\" height=\"166.32\"/>\n  </clipPath>\n </defs>\n</svg>\n"
     },
     "metadata": {},
     "output_type": "display_data"
    }
   ],
   "source": [
    "plot_model_predictions(predictions=y_preds)"
   ]
  },
  {
   "cell_type": "markdown",
   "id": "78a4ab88-cda2-409e-9b6f-20cad949910f",
   "metadata": {},
   "source": [
    "## Training the model"
   ]
  },
  {
   "cell_type": "code",
   "execution_count": 38,
   "id": "c3057bbb-6030-4783-9cd6-49beb9967ae8",
   "metadata": {
    "ExecuteTime": {
     "end_time": "2023-09-22T14:54:37.089876500Z",
     "start_time": "2023-09-22T14:54:37.075878Z"
    }
   },
   "outputs": [],
   "source": [
    "#Setup a loss function\n",
    "loss_fn = nn.L1Loss()\n",
    "\n",
    "#Setup an optimizer\n",
    "optimizer = torch.optim.SGD(params = model_0.parameters(),\n",
    "                            lr = 0.01)"
   ]
  },
  {
   "cell_type": "code",
   "execution_count": 39,
   "id": "4ec00f35-6f76-435e-a7e2-c8f9199ff464",
   "metadata": {
    "ExecuteTime": {
     "end_time": "2023-09-22T14:54:38.119220800Z",
     "start_time": "2023-09-22T14:54:38.084213300Z"
    }
   },
   "outputs": [
    {
     "name": "stdout",
     "output_type": "stream",
     "text": [
      "Epoch: 0 | Loss: 0.31288138031959534 | Test loss: 0.48106518387794495\n",
      "OrderedDict([('weights', tensor([0.3406])), ('bias', tensor([0.1388]))])\n",
      "Epoch: 10 | Loss: 0.1976713240146637 | Test loss: 0.3463551998138428\n",
      "OrderedDict([('weights', tensor([0.3796])), ('bias', tensor([0.2388]))])\n",
      "Epoch: 20 | Loss: 0.08908725529909134 | Test loss: 0.21729660034179688\n",
      "OrderedDict([('weights', tensor([0.4184])), ('bias', tensor([0.3333]))])\n",
      "Epoch: 30 | Loss: 0.053148526698350906 | Test loss: 0.14464017748832703\n",
      "OrderedDict([('weights', tensor([0.4512])), ('bias', tensor([0.3768]))])\n",
      "Epoch: 40 | Loss: 0.04543796554207802 | Test loss: 0.11360953003168106\n",
      "OrderedDict([('weights', tensor([0.4748])), ('bias', tensor([0.3868]))])\n",
      "Epoch: 50 | Loss: 0.04167863354086876 | Test loss: 0.09919948130846024\n",
      "OrderedDict([('weights', tensor([0.4938])), ('bias', tensor([0.3843]))])\n",
      "Epoch: 60 | Loss: 0.03818932920694351 | Test loss: 0.08886633068323135\n",
      "OrderedDict([('weights', tensor([0.5116])), ('bias', tensor([0.3788]))])\n",
      "Epoch: 70 | Loss: 0.03476089984178543 | Test loss: 0.0805937647819519\n",
      "OrderedDict([('weights', tensor([0.5288])), ('bias', tensor([0.3718]))])\n",
      "Epoch: 80 | Loss: 0.03132382780313492 | Test loss: 0.07232122868299484\n",
      "OrderedDict([('weights', tensor([0.5459])), ('bias', tensor([0.3648]))])\n",
      "Epoch: 90 | Loss: 0.02788739837706089 | Test loss: 0.06473556160926819\n",
      "OrderedDict([('weights', tensor([0.5629])), ('bias', tensor([0.3573]))])\n"
     ]
    }
   ],
   "source": [
    "# An epoch is one loop through the data\n",
    "epochs = 100\n",
    "\n",
    "# epoch_count = []\n",
    "# loss_values = []\n",
    "# test_loss_values = []\n",
    "\n",
    "for epoch in range(epochs):\n",
    "    \n",
    "    model_0.train()\n",
    "    \n",
    "    y_preds = model_0(X_train)\n",
    "    \n",
    "    loss = loss_fn(y_preds, y_train)\n",
    "    \n",
    "    optimizer.zero_grad()\n",
    "    \n",
    "    loss.backward()\n",
    "    \n",
    "    optimizer.step()\n",
    "    \n",
    "    model_0.eval()\n",
    "    \n",
    "    with torch.inference_mode():\n",
    "        test_pred = model_0(X_test)\n",
    "        test_loss = loss_fn(test_pred, y_test)\n",
    "        \n",
    "    if epoch % 10 == 0:    \n",
    "        print(f'Epoch: {epoch} | Loss: {loss} | Test loss: {test_loss}')\n",
    "        print(model_0.state_dict())"
   ]
  },
  {
   "cell_type": "code",
   "execution_count": 40,
   "id": "940ecea2-3020-4f94-ad8e-4a9b238de668",
   "metadata": {
    "ExecuteTime": {
     "end_time": "2023-09-22T14:54:41.549230500Z",
     "start_time": "2023-09-22T14:54:41.544229600Z"
    }
   },
   "outputs": [],
   "source": [
    "with torch.inference_mode():\n",
    "    test_preds = model_0(X_test)"
   ]
  },
  {
   "cell_type": "code",
   "execution_count": 41,
   "id": "efc29629-02e6-4727-9073-0ff386753007",
   "metadata": {
    "ExecuteTime": {
     "end_time": "2023-09-22T14:54:43.620791700Z",
     "start_time": "2023-09-22T14:54:43.458471100Z"
    }
   },
   "outputs": [
    {
     "data": {
      "text/plain": "<Figure size 500x300 with 1 Axes>",
      "image/svg+xml": "<?xml version=\"1.0\" encoding=\"utf-8\" standalone=\"no\"?>\n<!DOCTYPE svg PUBLIC \"-//W3C//DTD SVG 1.1//EN\"\n  \"http://www.w3.org/Graphics/SVG/1.1/DTD/svg11.dtd\">\n<svg xmlns:xlink=\"http://www.w3.org/1999/xlink\" width=\"316.749117pt\" height=\"197.398125pt\" viewBox=\"0 0 316.749117 197.398125\" xmlns=\"http://www.w3.org/2000/svg\" version=\"1.1\">\n <metadata>\n  <rdf:RDF xmlns:dc=\"http://purl.org/dc/elements/1.1/\" xmlns:cc=\"http://creativecommons.org/ns#\" xmlns:rdf=\"http://www.w3.org/1999/02/22-rdf-syntax-ns#\">\n   <cc:Work>\n    <dc:type rdf:resource=\"http://purl.org/dc/dcmitype/StillImage\"/>\n    <dc:date>2023-09-22T17:54:43.567496</dc:date>\n    <dc:format>image/svg+xml</dc:format>\n    <dc:creator>\n     <cc:Agent>\n      <dc:title>Matplotlib v3.8.0, https://matplotlib.org/</dc:title>\n     </cc:Agent>\n    </dc:creator>\n   </cc:Work>\n  </rdf:RDF>\n </metadata>\n <defs>\n  <style type=\"text/css\">*{stroke-linejoin: round; stroke-linecap: butt}</style>\n </defs>\n <g id=\"figure_1\">\n  <g id=\"patch_1\">\n   <path d=\"M 0 197.398125 \nL 316.749117 197.398125 \nL 316.749117 0 \nL 0 0 \nz\n\" style=\"fill: #ffffff\"/>\n  </g>\n  <g id=\"axes_1\">\n   <g id=\"patch_2\">\n    <path d=\"M 30.103125 173.52 \nL 309.103125 173.52 \nL 309.103125 7.2 \nL 30.103125 7.2 \nz\n\" style=\"fill: #ffffff\"/>\n   </g>\n   <g id=\"PathCollection_1\">\n    <defs>\n     <path id=\"m72676208b8\" d=\"M 0 1 \nC 0.265203 1 0.51958 0.894634 0.707107 0.707107 \nC 0.894634 0.51958 1 0.265203 1 0 \nC 1 -0.265203 0.894634 -0.51958 0.707107 -0.707107 \nC 0.51958 -0.894634 0.265203 -1 0 -1 \nC -0.265203 -1 -0.51958 -0.894634 -0.707107 -0.707107 \nC -0.894634 -0.51958 -1 -0.265203 -1 0 \nC -1 0.265203 -0.894634 0.51958 -0.707107 0.707107 \nC -0.51958 0.894634 -0.265203 1 0 1 \nz\n\" style=\"stroke: #0000ff\"/>\n    </defs>\n    <g clip-path=\"url(#pdf5d279c01)\">\n     <use xlink:href=\"#m72676208b8\" x=\"42.784943\" y=\"165.96\" style=\"fill: #0000ff; stroke: #0000ff\"/>\n     <use xlink:href=\"#m72676208b8\" x=\"47.961195\" y=\"162.874286\" style=\"fill: #0000ff; stroke: #0000ff\"/>\n     <use xlink:href=\"#m72676208b8\" x=\"53.137447\" y=\"159.788572\" style=\"fill: #0000ff; stroke: #0000ff\"/>\n     <use xlink:href=\"#m72676208b8\" x=\"58.313699\" y=\"156.702858\" style=\"fill: #0000ff; stroke: #0000ff\"/>\n     <use xlink:href=\"#m72676208b8\" x=\"63.489952\" y=\"153.617144\" style=\"fill: #0000ff; stroke: #0000ff\"/>\n     <use xlink:href=\"#m72676208b8\" x=\"68.666205\" y=\"150.53143\" style=\"fill: #0000ff; stroke: #0000ff\"/>\n     <use xlink:href=\"#m72676208b8\" x=\"73.842456\" y=\"147.445716\" style=\"fill: #0000ff; stroke: #0000ff\"/>\n     <use xlink:href=\"#m72676208b8\" x=\"79.018709\" y=\"144.360002\" style=\"fill: #0000ff; stroke: #0000ff\"/>\n     <use xlink:href=\"#m72676208b8\" x=\"84.19496\" y=\"141.274288\" style=\"fill: #0000ff; stroke: #0000ff\"/>\n     <use xlink:href=\"#m72676208b8\" x=\"89.371211\" y=\"138.188574\" style=\"fill: #0000ff; stroke: #0000ff\"/>\n     <use xlink:href=\"#m72676208b8\" x=\"94.547466\" y=\"135.10286\" style=\"fill: #0000ff; stroke: #0000ff\"/>\n     <use xlink:href=\"#m72676208b8\" x=\"99.723717\" y=\"132.017146\" style=\"fill: #0000ff; stroke: #0000ff\"/>\n     <use xlink:href=\"#m72676208b8\" x=\"104.899968\" y=\"128.931432\" style=\"fill: #0000ff; stroke: #0000ff\"/>\n     <use xlink:href=\"#m72676208b8\" x=\"110.07622\" y=\"125.845718\" style=\"fill: #0000ff; stroke: #0000ff\"/>\n     <use xlink:href=\"#m72676208b8\" x=\"115.252475\" y=\"122.760004\" style=\"fill: #0000ff; stroke: #0000ff\"/>\n     <use xlink:href=\"#m72676208b8\" x=\"120.428722\" y=\"119.67429\" style=\"fill: #0000ff; stroke: #0000ff\"/>\n     <use xlink:href=\"#m72676208b8\" x=\"125.604977\" y=\"116.588576\" style=\"fill: #0000ff; stroke: #0000ff\"/>\n     <use xlink:href=\"#m72676208b8\" x=\"130.781232\" y=\"113.502862\" style=\"fill: #0000ff; stroke: #0000ff\"/>\n     <use xlink:href=\"#m72676208b8\" x=\"135.957479\" y=\"110.417148\" style=\"fill: #0000ff; stroke: #0000ff\"/>\n     <use xlink:href=\"#m72676208b8\" x=\"141.133734\" y=\"107.331434\" style=\"fill: #0000ff; stroke: #0000ff\"/>\n     <use xlink:href=\"#m72676208b8\" x=\"146.309989\" y=\"104.245707\" style=\"fill: #0000ff; stroke: #0000ff\"/>\n     <use xlink:href=\"#m72676208b8\" x=\"151.486236\" y=\"101.160006\" style=\"fill: #0000ff; stroke: #0000ff\"/>\n     <use xlink:href=\"#m72676208b8\" x=\"156.662491\" y=\"98.074278\" style=\"fill: #0000ff; stroke: #0000ff\"/>\n     <use xlink:href=\"#m72676208b8\" x=\"161.838739\" y=\"94.988578\" style=\"fill: #0000ff; stroke: #0000ff\"/>\n     <use xlink:href=\"#m72676208b8\" x=\"167.014994\" y=\"91.90285\" style=\"fill: #0000ff; stroke: #0000ff\"/>\n     <use xlink:href=\"#m72676208b8\" x=\"172.191249\" y=\"88.81715\" style=\"fill: #0000ff; stroke: #0000ff\"/>\n     <use xlink:href=\"#m72676208b8\" x=\"177.367496\" y=\"85.731422\" style=\"fill: #0000ff; stroke: #0000ff\"/>\n     <use xlink:href=\"#m72676208b8\" x=\"182.543743\" y=\"82.645722\" style=\"fill: #0000ff; stroke: #0000ff\"/>\n     <use xlink:href=\"#m72676208b8\" x=\"187.720006\" y=\"79.559994\" style=\"fill: #0000ff; stroke: #0000ff\"/>\n     <use xlink:href=\"#m72676208b8\" x=\"192.896253\" y=\"76.474293\" style=\"fill: #0000ff; stroke: #0000ff\"/>\n     <use xlink:href=\"#m72676208b8\" x=\"198.0725\" y=\"73.388579\" style=\"fill: #0000ff; stroke: #0000ff\"/>\n     <use xlink:href=\"#m72676208b8\" x=\"203.248763\" y=\"70.302865\" style=\"fill: #0000ff; stroke: #0000ff\"/>\n     <use xlink:href=\"#m72676208b8\" x=\"208.42501\" y=\"67.217138\" style=\"fill: #0000ff; stroke: #0000ff\"/>\n     <use xlink:href=\"#m72676208b8\" x=\"213.601258\" y=\"64.131437\" style=\"fill: #0000ff; stroke: #0000ff\"/>\n     <use xlink:href=\"#m72676208b8\" x=\"218.77752\" y=\"61.04571\" style=\"fill: #0000ff; stroke: #0000ff\"/>\n     <use xlink:href=\"#m72676208b8\" x=\"223.953768\" y=\"57.960009\" style=\"fill: #0000ff; stroke: #0000ff\"/>\n     <use xlink:href=\"#m72676208b8\" x=\"229.130015\" y=\"54.874295\" style=\"fill: #0000ff; stroke: #0000ff\"/>\n     <use xlink:href=\"#m72676208b8\" x=\"234.306278\" y=\"51.788568\" style=\"fill: #0000ff; stroke: #0000ff\"/>\n     <use xlink:href=\"#m72676208b8\" x=\"239.482525\" y=\"48.702854\" style=\"fill: #0000ff; stroke: #0000ff\"/>\n     <use xlink:href=\"#m72676208b8\" x=\"244.658772\" y=\"45.617153\" style=\"fill: #0000ff; stroke: #0000ff\"/>\n    </g>\n   </g>\n   <g id=\"PathCollection_2\">\n    <defs>\n     <path id=\"m1c253f1774\" d=\"M 0 1 \nC 0.265203 1 0.51958 0.894634 0.707107 0.707107 \nC 0.894634 0.51958 1 0.265203 1 0 \nC 1 -0.265203 0.894634 -0.51958 0.707107 -0.707107 \nC 0.51958 -0.894634 0.265203 -1 0 -1 \nC -0.265203 -1 -0.51958 -0.894634 -0.707107 -0.707107 \nC -0.894634 -0.51958 -1 -0.265203 -1 0 \nC -1 0.265203 -0.894634 0.51958 -0.707107 0.707107 \nC -0.51958 0.894634 -0.265203 1 0 1 \nz\n\" style=\"stroke: #008000\"/>\n    </defs>\n    <g clip-path=\"url(#pdf5d279c01)\">\n     <use xlink:href=\"#m1c253f1774\" x=\"249.835035\" y=\"42.531426\" style=\"fill: #008000; stroke: #008000\"/>\n     <use xlink:href=\"#m1c253f1774\" x=\"255.011282\" y=\"39.445712\" style=\"fill: #008000; stroke: #008000\"/>\n     <use xlink:href=\"#m1c253f1774\" x=\"260.187545\" y=\"36.359998\" style=\"fill: #008000; stroke: #008000\"/>\n     <use xlink:href=\"#m1c253f1774\" x=\"265.363792\" y=\"33.274284\" style=\"fill: #008000; stroke: #008000\"/>\n     <use xlink:href=\"#m1c253f1774\" x=\"270.54004\" y=\"30.18857\" style=\"fill: #008000; stroke: #008000\"/>\n     <use xlink:href=\"#m1c253f1774\" x=\"275.716302\" y=\"27.102856\" style=\"fill: #008000; stroke: #008000\"/>\n     <use xlink:href=\"#m1c253f1774\" x=\"280.89255\" y=\"24.017142\" style=\"fill: #008000; stroke: #008000\"/>\n     <use xlink:href=\"#m1c253f1774\" x=\"286.068797\" y=\"20.931428\" style=\"fill: #008000; stroke: #008000\"/>\n     <use xlink:href=\"#m1c253f1774\" x=\"291.245044\" y=\"17.845714\" style=\"fill: #008000; stroke: #008000\"/>\n     <use xlink:href=\"#m1c253f1774\" x=\"296.421307\" y=\"14.76\" style=\"fill: #008000; stroke: #008000\"/>\n    </g>\n   </g>\n   <g id=\"PathCollection_3\">\n    <defs>\n     <path id=\"m354b04bbd6\" d=\"M 0 1 \nC 0.265203 1 0.51958 0.894634 0.707107 0.707107 \nC 0.894634 0.51958 1 0.265203 1 0 \nC 1 -0.265203 0.894634 -0.51958 0.707107 -0.707107 \nC 0.51958 -0.894634 0.265203 -1 0 -1 \nC -0.265203 -1 -0.51958 -0.894634 -0.707107 -0.707107 \nC -0.894634 -0.51958 -1 -0.265203 -1 0 \nC -1 0.265203 -0.894634 0.51958 -0.707107 0.707107 \nC -0.51958 0.894634 -0.265203 1 0 1 \nz\n\" style=\"stroke: #ff0000\"/>\n    </defs>\n    <g clip-path=\"url(#pdf5d279c01)\">\n     <use xlink:href=\"#m354b04bbd6\" x=\"249.835035\" y=\"52.656487\" style=\"fill: #ff0000; stroke: #ff0000\"/>\n     <use xlink:href=\"#m354b04bbd6\" x=\"255.011282\" y=\"50.106633\" style=\"fill: #ff0000; stroke: #ff0000\"/>\n     <use xlink:href=\"#m354b04bbd6\" x=\"260.187545\" y=\"47.556778\" style=\"fill: #ff0000; stroke: #ff0000\"/>\n     <use xlink:href=\"#m354b04bbd6\" x=\"265.363792\" y=\"45.00691\" style=\"fill: #ff0000; stroke: #ff0000\"/>\n     <use xlink:href=\"#m354b04bbd6\" x=\"270.54004\" y=\"42.457042\" style=\"fill: #ff0000; stroke: #ff0000\"/>\n     <use xlink:href=\"#m354b04bbd6\" x=\"275.716302\" y=\"39.907188\" style=\"fill: #ff0000; stroke: #ff0000\"/>\n     <use xlink:href=\"#m354b04bbd6\" x=\"280.89255\" y=\"37.357333\" style=\"fill: #ff0000; stroke: #ff0000\"/>\n     <use xlink:href=\"#m354b04bbd6\" x=\"286.068797\" y=\"34.807479\" style=\"fill: #ff0000; stroke: #ff0000\"/>\n     <use xlink:href=\"#m354b04bbd6\" x=\"291.245044\" y=\"32.257624\" style=\"fill: #ff0000; stroke: #ff0000\"/>\n     <use xlink:href=\"#m354b04bbd6\" x=\"296.421307\" y=\"29.707743\" style=\"fill: #ff0000; stroke: #ff0000\"/>\n    </g>\n   </g>\n   <g id=\"matplotlib.axis_1\">\n    <g id=\"xtick_1\">\n     <g id=\"line2d_1\">\n      <defs>\n       <path id=\"m73d2a7301a\" d=\"M 0 0 \nL 0 3.5 \n\" style=\"stroke: #000000; stroke-width: 0.8\"/>\n      </defs>\n      <g>\n       <use xlink:href=\"#m73d2a7301a\" x=\"42.784943\" y=\"173.52\" style=\"stroke: #000000; stroke-width: 0.8\"/>\n      </g>\n     </g>\n     <g id=\"text_1\">\n      <!-- 0.0 -->\n      <g transform=\"translate(34.833381 188.118438) scale(0.1 -0.1)\">\n       <defs>\n        <path id=\"DejaVuSans-30\" d=\"M 2034 4250 \nQ 1547 4250 1301 3770 \nQ 1056 3291 1056 2328 \nQ 1056 1369 1301 889 \nQ 1547 409 2034 409 \nQ 2525 409 2770 889 \nQ 3016 1369 3016 2328 \nQ 3016 3291 2770 3770 \nQ 2525 4250 2034 4250 \nz\nM 2034 4750 \nQ 2819 4750 3233 4129 \nQ 3647 3509 3647 2328 \nQ 3647 1150 3233 529 \nQ 2819 -91 2034 -91 \nQ 1250 -91 836 529 \nQ 422 1150 422 2328 \nQ 422 3509 836 4129 \nQ 1250 4750 2034 4750 \nz\n\" transform=\"scale(0.015625)\"/>\n        <path id=\"DejaVuSans-2e\" d=\"M 684 794 \nL 1344 794 \nL 1344 0 \nL 684 0 \nL 684 794 \nz\n\" transform=\"scale(0.015625)\"/>\n       </defs>\n       <use xlink:href=\"#DejaVuSans-30\"/>\n       <use xlink:href=\"#DejaVuSans-2e\" x=\"63.623047\"/>\n       <use xlink:href=\"#DejaVuSans-30\" x=\"95.410156\"/>\n      </g>\n     </g>\n    </g>\n    <g id=\"xtick_2\">\n     <g id=\"line2d_2\">\n      <g>\n       <use xlink:href=\"#m73d2a7301a\" x=\"94.547465\" y=\"173.52\" style=\"stroke: #000000; stroke-width: 0.8\"/>\n      </g>\n     </g>\n     <g id=\"text_2\">\n      <!-- 0.2 -->\n      <g transform=\"translate(86.595903 188.118438) scale(0.1 -0.1)\">\n       <defs>\n        <path id=\"DejaVuSans-32\" d=\"M 1228 531 \nL 3431 531 \nL 3431 0 \nL 469 0 \nL 469 531 \nQ 828 903 1448 1529 \nQ 2069 2156 2228 2338 \nQ 2531 2678 2651 2914 \nQ 2772 3150 2772 3378 \nQ 2772 3750 2511 3984 \nQ 2250 4219 1831 4219 \nQ 1534 4219 1204 4116 \nQ 875 4013 500 3803 \nL 500 4441 \nQ 881 4594 1212 4672 \nQ 1544 4750 1819 4750 \nQ 2544 4750 2975 4387 \nQ 3406 4025 3406 3419 \nQ 3406 3131 3298 2873 \nQ 3191 2616 2906 2266 \nQ 2828 2175 2409 1742 \nQ 1991 1309 1228 531 \nz\n\" transform=\"scale(0.015625)\"/>\n       </defs>\n       <use xlink:href=\"#DejaVuSans-30\"/>\n       <use xlink:href=\"#DejaVuSans-2e\" x=\"63.623047\"/>\n       <use xlink:href=\"#DejaVuSans-32\" x=\"95.410156\"/>\n      </g>\n     </g>\n    </g>\n    <g id=\"xtick_3\">\n     <g id=\"line2d_3\">\n      <g>\n       <use xlink:href=\"#m73d2a7301a\" x=\"146.309988\" y=\"173.52\" style=\"stroke: #000000; stroke-width: 0.8\"/>\n      </g>\n     </g>\n     <g id=\"text_3\">\n      <!-- 0.4 -->\n      <g transform=\"translate(138.358425 188.118438) scale(0.1 -0.1)\">\n       <defs>\n        <path id=\"DejaVuSans-34\" d=\"M 2419 4116 \nL 825 1625 \nL 2419 1625 \nL 2419 4116 \nz\nM 2253 4666 \nL 3047 4666 \nL 3047 1625 \nL 3713 1625 \nL 3713 1100 \nL 3047 1100 \nL 3047 0 \nL 2419 0 \nL 2419 1100 \nL 313 1100 \nL 313 1709 \nL 2253 4666 \nz\n\" transform=\"scale(0.015625)\"/>\n       </defs>\n       <use xlink:href=\"#DejaVuSans-30\"/>\n       <use xlink:href=\"#DejaVuSans-2e\" x=\"63.623047\"/>\n       <use xlink:href=\"#DejaVuSans-34\" x=\"95.410156\"/>\n      </g>\n     </g>\n    </g>\n    <g id=\"xtick_4\">\n     <g id=\"line2d_4\">\n      <g>\n       <use xlink:href=\"#m73d2a7301a\" x=\"198.07251\" y=\"173.52\" style=\"stroke: #000000; stroke-width: 0.8\"/>\n      </g>\n     </g>\n     <g id=\"text_4\">\n      <!-- 0.6 -->\n      <g transform=\"translate(190.120947 188.118438) scale(0.1 -0.1)\">\n       <defs>\n        <path id=\"DejaVuSans-36\" d=\"M 2113 2584 \nQ 1688 2584 1439 2293 \nQ 1191 2003 1191 1497 \nQ 1191 994 1439 701 \nQ 1688 409 2113 409 \nQ 2538 409 2786 701 \nQ 3034 994 3034 1497 \nQ 3034 2003 2786 2293 \nQ 2538 2584 2113 2584 \nz\nM 3366 4563 \nL 3366 3988 \nQ 3128 4100 2886 4159 \nQ 2644 4219 2406 4219 \nQ 1781 4219 1451 3797 \nQ 1122 3375 1075 2522 \nQ 1259 2794 1537 2939 \nQ 1816 3084 2150 3084 \nQ 2853 3084 3261 2657 \nQ 3669 2231 3669 1497 \nQ 3669 778 3244 343 \nQ 2819 -91 2113 -91 \nQ 1303 -91 875 529 \nQ 447 1150 447 2328 \nQ 447 3434 972 4092 \nQ 1497 4750 2381 4750 \nQ 2619 4750 2861 4703 \nQ 3103 4656 3366 4563 \nz\n\" transform=\"scale(0.015625)\"/>\n       </defs>\n       <use xlink:href=\"#DejaVuSans-30\"/>\n       <use xlink:href=\"#DejaVuSans-2e\" x=\"63.623047\"/>\n       <use xlink:href=\"#DejaVuSans-36\" x=\"95.410156\"/>\n      </g>\n     </g>\n    </g>\n    <g id=\"xtick_5\">\n     <g id=\"line2d_5\">\n      <g>\n       <use xlink:href=\"#m73d2a7301a\" x=\"249.835032\" y=\"173.52\" style=\"stroke: #000000; stroke-width: 0.8\"/>\n      </g>\n     </g>\n     <g id=\"text_5\">\n      <!-- 0.8 -->\n      <g transform=\"translate(241.883469 188.118438) scale(0.1 -0.1)\">\n       <defs>\n        <path id=\"DejaVuSans-38\" d=\"M 2034 2216 \nQ 1584 2216 1326 1975 \nQ 1069 1734 1069 1313 \nQ 1069 891 1326 650 \nQ 1584 409 2034 409 \nQ 2484 409 2743 651 \nQ 3003 894 3003 1313 \nQ 3003 1734 2745 1975 \nQ 2488 2216 2034 2216 \nz\nM 1403 2484 \nQ 997 2584 770 2862 \nQ 544 3141 544 3541 \nQ 544 4100 942 4425 \nQ 1341 4750 2034 4750 \nQ 2731 4750 3128 4425 \nQ 3525 4100 3525 3541 \nQ 3525 3141 3298 2862 \nQ 3072 2584 2669 2484 \nQ 3125 2378 3379 2068 \nQ 3634 1759 3634 1313 \nQ 3634 634 3220 271 \nQ 2806 -91 2034 -91 \nQ 1263 -91 848 271 \nQ 434 634 434 1313 \nQ 434 1759 690 2068 \nQ 947 2378 1403 2484 \nz\nM 1172 3481 \nQ 1172 3119 1398 2916 \nQ 1625 2713 2034 2713 \nQ 2441 2713 2670 2916 \nQ 2900 3119 2900 3481 \nQ 2900 3844 2670 4047 \nQ 2441 4250 2034 4250 \nQ 1625 4250 1398 4047 \nQ 1172 3844 1172 3481 \nz\n\" transform=\"scale(0.015625)\"/>\n       </defs>\n       <use xlink:href=\"#DejaVuSans-30\"/>\n       <use xlink:href=\"#DejaVuSans-2e\" x=\"63.623047\"/>\n       <use xlink:href=\"#DejaVuSans-38\" x=\"95.410156\"/>\n      </g>\n     </g>\n    </g>\n    <g id=\"xtick_6\">\n     <g id=\"line2d_6\">\n      <g>\n       <use xlink:href=\"#m73d2a7301a\" x=\"301.597554\" y=\"173.52\" style=\"stroke: #000000; stroke-width: 0.8\"/>\n      </g>\n     </g>\n     <g id=\"text_6\">\n      <!-- 1.0 -->\n      <g transform=\"translate(293.645992 188.118438) scale(0.1 -0.1)\">\n       <defs>\n        <path id=\"DejaVuSans-31\" d=\"M 794 531 \nL 1825 531 \nL 1825 4091 \nL 703 3866 \nL 703 4441 \nL 1819 4666 \nL 2450 4666 \nL 2450 531 \nL 3481 531 \nL 3481 0 \nL 794 0 \nL 794 531 \nz\n\" transform=\"scale(0.015625)\"/>\n       </defs>\n       <use xlink:href=\"#DejaVuSans-31\"/>\n       <use xlink:href=\"#DejaVuSans-2e\" x=\"63.623047\"/>\n       <use xlink:href=\"#DejaVuSans-30\" x=\"95.410156\"/>\n      </g>\n     </g>\n    </g>\n   </g>\n   <g id=\"matplotlib.axis_2\">\n    <g id=\"ytick_1\">\n     <g id=\"line2d_7\">\n      <defs>\n       <path id=\"mfe105a69df\" d=\"M 0 0 \nL -3.5 0 \n\" style=\"stroke: #000000; stroke-width: 0.8\"/>\n      </defs>\n      <g>\n       <use xlink:href=\"#mfe105a69df\" x=\"30.103125\" y=\"165.960003\" style=\"stroke: #000000; stroke-width: 0.8\"/>\n      </g>\n     </g>\n     <g id=\"text_7\">\n      <!-- 0.3 -->\n      <g transform=\"translate(7.2 169.759221) scale(0.1 -0.1)\">\n       <defs>\n        <path id=\"DejaVuSans-33\" d=\"M 2597 2516 \nQ 3050 2419 3304 2112 \nQ 3559 1806 3559 1356 \nQ 3559 666 3084 287 \nQ 2609 -91 1734 -91 \nQ 1441 -91 1130 -33 \nQ 819 25 488 141 \nL 488 750 \nQ 750 597 1062 519 \nQ 1375 441 1716 441 \nQ 2309 441 2620 675 \nQ 2931 909 2931 1356 \nQ 2931 1769 2642 2001 \nQ 2353 2234 1838 2234 \nL 1294 2234 \nL 1294 2753 \nL 1863 2753 \nQ 2328 2753 2575 2939 \nQ 2822 3125 2822 3475 \nQ 2822 3834 2567 4026 \nQ 2313 4219 1838 4219 \nQ 1578 4219 1281 4162 \nQ 984 4106 628 3988 \nL 628 4550 \nQ 988 4650 1302 4700 \nQ 1616 4750 1894 4750 \nQ 2613 4750 3031 4423 \nQ 3450 4097 3450 3541 \nQ 3450 3153 3228 2886 \nQ 3006 2619 2597 2516 \nz\n\" transform=\"scale(0.015625)\"/>\n       </defs>\n       <use xlink:href=\"#DejaVuSans-30\"/>\n       <use xlink:href=\"#DejaVuSans-2e\" x=\"63.623047\"/>\n       <use xlink:href=\"#DejaVuSans-33\" x=\"95.410156\"/>\n      </g>\n     </g>\n    </g>\n    <g id=\"ytick_2\">\n     <g id=\"line2d_8\">\n      <g>\n       <use xlink:href=\"#mfe105a69df\" x=\"30.103125\" y=\"143.919186\" style=\"stroke: #000000; stroke-width: 0.8\"/>\n      </g>\n     </g>\n     <g id=\"text_8\">\n      <!-- 0.4 -->\n      <g transform=\"translate(7.2 147.718405) scale(0.1 -0.1)\">\n       <use xlink:href=\"#DejaVuSans-30\"/>\n       <use xlink:href=\"#DejaVuSans-2e\" x=\"63.623047\"/>\n       <use xlink:href=\"#DejaVuSans-34\" x=\"95.410156\"/>\n      </g>\n     </g>\n    </g>\n    <g id=\"ytick_3\">\n     <g id=\"line2d_9\">\n      <g>\n       <use xlink:href=\"#mfe105a69df\" x=\"30.103125\" y=\"121.878369\" style=\"stroke: #000000; stroke-width: 0.8\"/>\n      </g>\n     </g>\n     <g id=\"text_9\">\n      <!-- 0.5 -->\n      <g transform=\"translate(7.2 125.677588) scale(0.1 -0.1)\">\n       <defs>\n        <path id=\"DejaVuSans-35\" d=\"M 691 4666 \nL 3169 4666 \nL 3169 4134 \nL 1269 4134 \nL 1269 2991 \nQ 1406 3038 1543 3061 \nQ 1681 3084 1819 3084 \nQ 2600 3084 3056 2656 \nQ 3513 2228 3513 1497 \nQ 3513 744 3044 326 \nQ 2575 -91 1722 -91 \nQ 1428 -91 1123 -41 \nQ 819 9 494 109 \nL 494 744 \nQ 775 591 1075 516 \nQ 1375 441 1709 441 \nQ 2250 441 2565 725 \nQ 2881 1009 2881 1497 \nQ 2881 1984 2565 2268 \nQ 2250 2553 1709 2553 \nQ 1456 2553 1204 2497 \nQ 953 2441 691 2322 \nL 691 4666 \nz\n\" transform=\"scale(0.015625)\"/>\n       </defs>\n       <use xlink:href=\"#DejaVuSans-30\"/>\n       <use xlink:href=\"#DejaVuSans-2e\" x=\"63.623047\"/>\n       <use xlink:href=\"#DejaVuSans-35\" x=\"95.410156\"/>\n      </g>\n     </g>\n    </g>\n    <g id=\"ytick_4\">\n     <g id=\"line2d_10\">\n      <g>\n       <use xlink:href=\"#mfe105a69df\" x=\"30.103125\" y=\"99.837553\" style=\"stroke: #000000; stroke-width: 0.8\"/>\n      </g>\n     </g>\n     <g id=\"text_10\">\n      <!-- 0.6 -->\n      <g transform=\"translate(7.2 103.636771) scale(0.1 -0.1)\">\n       <use xlink:href=\"#DejaVuSans-30\"/>\n       <use xlink:href=\"#DejaVuSans-2e\" x=\"63.623047\"/>\n       <use xlink:href=\"#DejaVuSans-36\" x=\"95.410156\"/>\n      </g>\n     </g>\n    </g>\n    <g id=\"ytick_5\">\n     <g id=\"line2d_11\">\n      <g>\n       <use xlink:href=\"#mfe105a69df\" x=\"30.103125\" y=\"77.796736\" style=\"stroke: #000000; stroke-width: 0.8\"/>\n      </g>\n     </g>\n     <g id=\"text_11\">\n      <!-- 0.7 -->\n      <g transform=\"translate(7.2 81.595955) scale(0.1 -0.1)\">\n       <defs>\n        <path id=\"DejaVuSans-37\" d=\"M 525 4666 \nL 3525 4666 \nL 3525 4397 \nL 1831 0 \nL 1172 0 \nL 2766 4134 \nL 525 4134 \nL 525 4666 \nz\n\" transform=\"scale(0.015625)\"/>\n       </defs>\n       <use xlink:href=\"#DejaVuSans-30\"/>\n       <use xlink:href=\"#DejaVuSans-2e\" x=\"63.623047\"/>\n       <use xlink:href=\"#DejaVuSans-37\" x=\"95.410156\"/>\n      </g>\n     </g>\n    </g>\n    <g id=\"ytick_6\">\n     <g id=\"line2d_12\">\n      <g>\n       <use xlink:href=\"#mfe105a69df\" x=\"30.103125\" y=\"55.755919\" style=\"stroke: #000000; stroke-width: 0.8\"/>\n      </g>\n     </g>\n     <g id=\"text_12\">\n      <!-- 0.8 -->\n      <g transform=\"translate(7.2 59.555138) scale(0.1 -0.1)\">\n       <use xlink:href=\"#DejaVuSans-30\"/>\n       <use xlink:href=\"#DejaVuSans-2e\" x=\"63.623047\"/>\n       <use xlink:href=\"#DejaVuSans-38\" x=\"95.410156\"/>\n      </g>\n     </g>\n    </g>\n    <g id=\"ytick_7\">\n     <g id=\"line2d_13\">\n      <g>\n       <use xlink:href=\"#mfe105a69df\" x=\"30.103125\" y=\"33.715103\" style=\"stroke: #000000; stroke-width: 0.8\"/>\n      </g>\n     </g>\n     <g id=\"text_13\">\n      <!-- 0.9 -->\n      <g transform=\"translate(7.2 37.514321) scale(0.1 -0.1)\">\n       <defs>\n        <path id=\"DejaVuSans-39\" d=\"M 703 97 \nL 703 672 \nQ 941 559 1184 500 \nQ 1428 441 1663 441 \nQ 2288 441 2617 861 \nQ 2947 1281 2994 2138 \nQ 2813 1869 2534 1725 \nQ 2256 1581 1919 1581 \nQ 1219 1581 811 2004 \nQ 403 2428 403 3163 \nQ 403 3881 828 4315 \nQ 1253 4750 1959 4750 \nQ 2769 4750 3195 4129 \nQ 3622 3509 3622 2328 \nQ 3622 1225 3098 567 \nQ 2575 -91 1691 -91 \nQ 1453 -91 1209 -44 \nQ 966 3 703 97 \nz\nM 1959 2075 \nQ 2384 2075 2632 2365 \nQ 2881 2656 2881 3163 \nQ 2881 3666 2632 3958 \nQ 2384 4250 1959 4250 \nQ 1534 4250 1286 3958 \nQ 1038 3666 1038 3163 \nQ 1038 2656 1286 2365 \nQ 1534 2075 1959 2075 \nz\n\" transform=\"scale(0.015625)\"/>\n       </defs>\n       <use xlink:href=\"#DejaVuSans-30\"/>\n       <use xlink:href=\"#DejaVuSans-2e\" x=\"63.623047\"/>\n       <use xlink:href=\"#DejaVuSans-39\" x=\"95.410156\"/>\n      </g>\n     </g>\n    </g>\n    <g id=\"ytick_8\">\n     <g id=\"line2d_14\">\n      <g>\n       <use xlink:href=\"#mfe105a69df\" x=\"30.103125\" y=\"11.674286\" style=\"stroke: #000000; stroke-width: 0.8\"/>\n      </g>\n     </g>\n     <g id=\"text_14\">\n      <!-- 1.0 -->\n      <g transform=\"translate(7.2 15.473505) scale(0.1 -0.1)\">\n       <use xlink:href=\"#DejaVuSans-31\"/>\n       <use xlink:href=\"#DejaVuSans-2e\" x=\"63.623047\"/>\n       <use xlink:href=\"#DejaVuSans-30\" x=\"95.410156\"/>\n      </g>\n     </g>\n    </g>\n   </g>\n   <g id=\"patch_3\">\n    <path d=\"M 30.103125 173.52 \nL 30.103125 7.2 \n\" style=\"fill: none; stroke: #000000; stroke-width: 0.8; stroke-linejoin: miter; stroke-linecap: square\"/>\n   </g>\n   <g id=\"patch_4\">\n    <path d=\"M 309.103125 173.52 \nL 309.103125 7.2 \n\" style=\"fill: none; stroke: #000000; stroke-width: 0.8; stroke-linejoin: miter; stroke-linecap: square\"/>\n   </g>\n   <g id=\"patch_5\">\n    <path d=\"M 30.103125 173.52 \nL 309.103125 173.52 \n\" style=\"fill: none; stroke: #000000; stroke-width: 0.8; stroke-linejoin: miter; stroke-linecap: square\"/>\n   </g>\n   <g id=\"patch_6\">\n    <path d=\"M 30.103125 7.2 \nL 309.103125 7.2 \n\" style=\"fill: none; stroke: #000000; stroke-width: 0.8; stroke-linejoin: miter; stroke-linecap: square\"/>\n   </g>\n   <g id=\"legend_1\">\n    <g id=\"patch_7\">\n     <path d=\"M 39.903125 80.048125 \nL 216.01 80.048125 \nQ 218.81 80.048125 218.81 77.248125 \nL 218.81 17 \nQ 218.81 14.2 216.01 14.2 \nL 39.903125 14.2 \nQ 37.103125 14.2 37.103125 17 \nL 37.103125 77.248125 \nQ 37.103125 80.048125 39.903125 80.048125 \nz\n\" style=\"fill: #ffffff; opacity: 0.8; stroke: #cccccc; stroke-linejoin: miter\"/>\n    </g>\n    <g id=\"PathCollection_4\">\n     <g>\n      <use xlink:href=\"#m72676208b8\" x=\"56.703125\" y=\"26.762813\" style=\"fill: #0000ff; stroke: #0000ff\"/>\n     </g>\n    </g>\n    <g id=\"text_15\">\n     <!-- Training data -->\n     <g transform=\"translate(81.903125 30.437813) scale(0.14 -0.14)\">\n      <defs>\n       <path id=\"DejaVuSans-54\" d=\"M -19 4666 \nL 3928 4666 \nL 3928 4134 \nL 2272 4134 \nL 2272 0 \nL 1638 0 \nL 1638 4134 \nL -19 4134 \nL -19 4666 \nz\n\" transform=\"scale(0.015625)\"/>\n       <path id=\"DejaVuSans-72\" d=\"M 2631 2963 \nQ 2534 3019 2420 3045 \nQ 2306 3072 2169 3072 \nQ 1681 3072 1420 2755 \nQ 1159 2438 1159 1844 \nL 1159 0 \nL 581 0 \nL 581 3500 \nL 1159 3500 \nL 1159 2956 \nQ 1341 3275 1631 3429 \nQ 1922 3584 2338 3584 \nQ 2397 3584 2469 3576 \nQ 2541 3569 2628 3553 \nL 2631 2963 \nz\n\" transform=\"scale(0.015625)\"/>\n       <path id=\"DejaVuSans-61\" d=\"M 2194 1759 \nQ 1497 1759 1228 1600 \nQ 959 1441 959 1056 \nQ 959 750 1161 570 \nQ 1363 391 1709 391 \nQ 2188 391 2477 730 \nQ 2766 1069 2766 1631 \nL 2766 1759 \nL 2194 1759 \nz\nM 3341 1997 \nL 3341 0 \nL 2766 0 \nL 2766 531 \nQ 2569 213 2275 61 \nQ 1981 -91 1556 -91 \nQ 1019 -91 701 211 \nQ 384 513 384 1019 \nQ 384 1609 779 1909 \nQ 1175 2209 1959 2209 \nL 2766 2209 \nL 2766 2266 \nQ 2766 2663 2505 2880 \nQ 2244 3097 1772 3097 \nQ 1472 3097 1187 3025 \nQ 903 2953 641 2809 \nL 641 3341 \nQ 956 3463 1253 3523 \nQ 1550 3584 1831 3584 \nQ 2591 3584 2966 3190 \nQ 3341 2797 3341 1997 \nz\n\" transform=\"scale(0.015625)\"/>\n       <path id=\"DejaVuSans-69\" d=\"M 603 3500 \nL 1178 3500 \nL 1178 0 \nL 603 0 \nL 603 3500 \nz\nM 603 4863 \nL 1178 4863 \nL 1178 4134 \nL 603 4134 \nL 603 4863 \nz\n\" transform=\"scale(0.015625)\"/>\n       <path id=\"DejaVuSans-6e\" d=\"M 3513 2113 \nL 3513 0 \nL 2938 0 \nL 2938 2094 \nQ 2938 2591 2744 2837 \nQ 2550 3084 2163 3084 \nQ 1697 3084 1428 2787 \nQ 1159 2491 1159 1978 \nL 1159 0 \nL 581 0 \nL 581 3500 \nL 1159 3500 \nL 1159 2956 \nQ 1366 3272 1645 3428 \nQ 1925 3584 2291 3584 \nQ 2894 3584 3203 3211 \nQ 3513 2838 3513 2113 \nz\n\" transform=\"scale(0.015625)\"/>\n       <path id=\"DejaVuSans-67\" d=\"M 2906 1791 \nQ 2906 2416 2648 2759 \nQ 2391 3103 1925 3103 \nQ 1463 3103 1205 2759 \nQ 947 2416 947 1791 \nQ 947 1169 1205 825 \nQ 1463 481 1925 481 \nQ 2391 481 2648 825 \nQ 2906 1169 2906 1791 \nz\nM 3481 434 \nQ 3481 -459 3084 -895 \nQ 2688 -1331 1869 -1331 \nQ 1566 -1331 1297 -1286 \nQ 1028 -1241 775 -1147 \nL 775 -588 \nQ 1028 -725 1275 -790 \nQ 1522 -856 1778 -856 \nQ 2344 -856 2625 -561 \nQ 2906 -266 2906 331 \nL 2906 616 \nQ 2728 306 2450 153 \nQ 2172 0 1784 0 \nQ 1141 0 747 490 \nQ 353 981 353 1791 \nQ 353 2603 747 3093 \nQ 1141 3584 1784 3584 \nQ 2172 3584 2450 3431 \nQ 2728 3278 2906 2969 \nL 2906 3500 \nL 3481 3500 \nL 3481 434 \nz\n\" transform=\"scale(0.015625)\"/>\n       <path id=\"DejaVuSans-20\" transform=\"scale(0.015625)\"/>\n       <path id=\"DejaVuSans-64\" d=\"M 2906 2969 \nL 2906 4863 \nL 3481 4863 \nL 3481 0 \nL 2906 0 \nL 2906 525 \nQ 2725 213 2448 61 \nQ 2172 -91 1784 -91 \nQ 1150 -91 751 415 \nQ 353 922 353 1747 \nQ 353 2572 751 3078 \nQ 1150 3584 1784 3584 \nQ 2172 3584 2448 3432 \nQ 2725 3281 2906 2969 \nz\nM 947 1747 \nQ 947 1113 1208 752 \nQ 1469 391 1925 391 \nQ 2381 391 2643 752 \nQ 2906 1113 2906 1747 \nQ 2906 2381 2643 2742 \nQ 2381 3103 1925 3103 \nQ 1469 3103 1208 2742 \nQ 947 2381 947 1747 \nz\n\" transform=\"scale(0.015625)\"/>\n       <path id=\"DejaVuSans-74\" d=\"M 1172 4494 \nL 1172 3500 \nL 2356 3500 \nL 2356 3053 \nL 1172 3053 \nL 1172 1153 \nQ 1172 725 1289 603 \nQ 1406 481 1766 481 \nL 2356 481 \nL 2356 0 \nL 1766 0 \nQ 1100 0 847 248 \nQ 594 497 594 1153 \nL 594 3053 \nL 172 3053 \nL 172 3500 \nL 594 3500 \nL 594 4494 \nL 1172 4494 \nz\n\" transform=\"scale(0.015625)\"/>\n      </defs>\n      <use xlink:href=\"#DejaVuSans-54\"/>\n      <use xlink:href=\"#DejaVuSans-72\" x=\"46.333984\"/>\n      <use xlink:href=\"#DejaVuSans-61\" x=\"87.447266\"/>\n      <use xlink:href=\"#DejaVuSans-69\" x=\"148.726562\"/>\n      <use xlink:href=\"#DejaVuSans-6e\" x=\"176.509766\"/>\n      <use xlink:href=\"#DejaVuSans-69\" x=\"239.888672\"/>\n      <use xlink:href=\"#DejaVuSans-6e\" x=\"267.671875\"/>\n      <use xlink:href=\"#DejaVuSans-67\" x=\"331.050781\"/>\n      <use xlink:href=\"#DejaVuSans-20\" x=\"394.527344\"/>\n      <use xlink:href=\"#DejaVuSans-64\" x=\"426.314453\"/>\n      <use xlink:href=\"#DejaVuSans-61\" x=\"489.791016\"/>\n      <use xlink:href=\"#DejaVuSans-74\" x=\"551.070312\"/>\n      <use xlink:href=\"#DejaVuSans-61\" x=\"590.279297\"/>\n     </g>\n    </g>\n    <g id=\"PathCollection_5\">\n     <g>\n      <use xlink:href=\"#m1c253f1774\" x=\"56.703125\" y=\"47.312188\" style=\"fill: #008000; stroke: #008000\"/>\n     </g>\n    </g>\n    <g id=\"text_16\">\n     <!-- Testing data -->\n     <g transform=\"translate(81.903125 50.987188) scale(0.14 -0.14)\">\n      <defs>\n       <path id=\"DejaVuSans-65\" d=\"M 3597 1894 \nL 3597 1613 \nL 953 1613 \nQ 991 1019 1311 708 \nQ 1631 397 2203 397 \nQ 2534 397 2845 478 \nQ 3156 559 3463 722 \nL 3463 178 \nQ 3153 47 2828 -22 \nQ 2503 -91 2169 -91 \nQ 1331 -91 842 396 \nQ 353 884 353 1716 \nQ 353 2575 817 3079 \nQ 1281 3584 2069 3584 \nQ 2775 3584 3186 3129 \nQ 3597 2675 3597 1894 \nz\nM 3022 2063 \nQ 3016 2534 2758 2815 \nQ 2500 3097 2075 3097 \nQ 1594 3097 1305 2825 \nQ 1016 2553 972 2059 \nL 3022 2063 \nz\n\" transform=\"scale(0.015625)\"/>\n       <path id=\"DejaVuSans-73\" d=\"M 2834 3397 \nL 2834 2853 \nQ 2591 2978 2328 3040 \nQ 2066 3103 1784 3103 \nQ 1356 3103 1142 2972 \nQ 928 2841 928 2578 \nQ 928 2378 1081 2264 \nQ 1234 2150 1697 2047 \nL 1894 2003 \nQ 2506 1872 2764 1633 \nQ 3022 1394 3022 966 \nQ 3022 478 2636 193 \nQ 2250 -91 1575 -91 \nQ 1294 -91 989 -36 \nQ 684 19 347 128 \nL 347 722 \nQ 666 556 975 473 \nQ 1284 391 1588 391 \nQ 1994 391 2212 530 \nQ 2431 669 2431 922 \nQ 2431 1156 2273 1281 \nQ 2116 1406 1581 1522 \nL 1381 1569 \nQ 847 1681 609 1914 \nQ 372 2147 372 2553 \nQ 372 3047 722 3315 \nQ 1072 3584 1716 3584 \nQ 2034 3584 2315 3537 \nQ 2597 3491 2834 3397 \nz\n\" transform=\"scale(0.015625)\"/>\n      </defs>\n      <use xlink:href=\"#DejaVuSans-54\"/>\n      <use xlink:href=\"#DejaVuSans-65\" x=\"44.083984\"/>\n      <use xlink:href=\"#DejaVuSans-73\" x=\"105.607422\"/>\n      <use xlink:href=\"#DejaVuSans-74\" x=\"157.707031\"/>\n      <use xlink:href=\"#DejaVuSans-69\" x=\"196.916016\"/>\n      <use xlink:href=\"#DejaVuSans-6e\" x=\"224.699219\"/>\n      <use xlink:href=\"#DejaVuSans-67\" x=\"288.078125\"/>\n      <use xlink:href=\"#DejaVuSans-20\" x=\"351.554688\"/>\n      <use xlink:href=\"#DejaVuSans-64\" x=\"383.341797\"/>\n      <use xlink:href=\"#DejaVuSans-61\" x=\"446.818359\"/>\n      <use xlink:href=\"#DejaVuSans-74\" x=\"508.097656\"/>\n      <use xlink:href=\"#DejaVuSans-61\" x=\"547.306641\"/>\n     </g>\n    </g>\n    <g id=\"PathCollection_6\">\n     <g>\n      <use xlink:href=\"#m354b04bbd6\" x=\"56.703125\" y=\"67.861563\" style=\"fill: #ff0000; stroke: #ff0000\"/>\n     </g>\n    </g>\n    <g id=\"text_17\">\n     <!-- Models predictions -->\n     <g transform=\"translate(81.903125 71.536563) scale(0.14 -0.14)\">\n      <defs>\n       <path id=\"DejaVuSans-4d\" d=\"M 628 4666 \nL 1569 4666 \nL 2759 1491 \nL 3956 4666 \nL 4897 4666 \nL 4897 0 \nL 4281 0 \nL 4281 4097 \nL 3078 897 \nL 2444 897 \nL 1241 4097 \nL 1241 0 \nL 628 0 \nL 628 4666 \nz\n\" transform=\"scale(0.015625)\"/>\n       <path id=\"DejaVuSans-6f\" d=\"M 1959 3097 \nQ 1497 3097 1228 2736 \nQ 959 2375 959 1747 \nQ 959 1119 1226 758 \nQ 1494 397 1959 397 \nQ 2419 397 2687 759 \nQ 2956 1122 2956 1747 \nQ 2956 2369 2687 2733 \nQ 2419 3097 1959 3097 \nz\nM 1959 3584 \nQ 2709 3584 3137 3096 \nQ 3566 2609 3566 1747 \nQ 3566 888 3137 398 \nQ 2709 -91 1959 -91 \nQ 1206 -91 779 398 \nQ 353 888 353 1747 \nQ 353 2609 779 3096 \nQ 1206 3584 1959 3584 \nz\n\" transform=\"scale(0.015625)\"/>\n       <path id=\"DejaVuSans-6c\" d=\"M 603 4863 \nL 1178 4863 \nL 1178 0 \nL 603 0 \nL 603 4863 \nz\n\" transform=\"scale(0.015625)\"/>\n       <path id=\"DejaVuSans-70\" d=\"M 1159 525 \nL 1159 -1331 \nL 581 -1331 \nL 581 3500 \nL 1159 3500 \nL 1159 2969 \nQ 1341 3281 1617 3432 \nQ 1894 3584 2278 3584 \nQ 2916 3584 3314 3078 \nQ 3713 2572 3713 1747 \nQ 3713 922 3314 415 \nQ 2916 -91 2278 -91 \nQ 1894 -91 1617 61 \nQ 1341 213 1159 525 \nz\nM 3116 1747 \nQ 3116 2381 2855 2742 \nQ 2594 3103 2138 3103 \nQ 1681 3103 1420 2742 \nQ 1159 2381 1159 1747 \nQ 1159 1113 1420 752 \nQ 1681 391 2138 391 \nQ 2594 391 2855 752 \nQ 3116 1113 3116 1747 \nz\n\" transform=\"scale(0.015625)\"/>\n       <path id=\"DejaVuSans-63\" d=\"M 3122 3366 \nL 3122 2828 \nQ 2878 2963 2633 3030 \nQ 2388 3097 2138 3097 \nQ 1578 3097 1268 2742 \nQ 959 2388 959 1747 \nQ 959 1106 1268 751 \nQ 1578 397 2138 397 \nQ 2388 397 2633 464 \nQ 2878 531 3122 666 \nL 3122 134 \nQ 2881 22 2623 -34 \nQ 2366 -91 2075 -91 \nQ 1284 -91 818 406 \nQ 353 903 353 1747 \nQ 353 2603 823 3093 \nQ 1294 3584 2113 3584 \nQ 2378 3584 2631 3529 \nQ 2884 3475 3122 3366 \nz\n\" transform=\"scale(0.015625)\"/>\n      </defs>\n      <use xlink:href=\"#DejaVuSans-4d\"/>\n      <use xlink:href=\"#DejaVuSans-6f\" x=\"86.279297\"/>\n      <use xlink:href=\"#DejaVuSans-64\" x=\"147.460938\"/>\n      <use xlink:href=\"#DejaVuSans-65\" x=\"210.9375\"/>\n      <use xlink:href=\"#DejaVuSans-6c\" x=\"272.460938\"/>\n      <use xlink:href=\"#DejaVuSans-73\" x=\"300.244141\"/>\n      <use xlink:href=\"#DejaVuSans-20\" x=\"352.34375\"/>\n      <use xlink:href=\"#DejaVuSans-70\" x=\"384.130859\"/>\n      <use xlink:href=\"#DejaVuSans-72\" x=\"447.607422\"/>\n      <use xlink:href=\"#DejaVuSans-65\" x=\"486.470703\"/>\n      <use xlink:href=\"#DejaVuSans-64\" x=\"547.994141\"/>\n      <use xlink:href=\"#DejaVuSans-69\" x=\"611.470703\"/>\n      <use xlink:href=\"#DejaVuSans-63\" x=\"639.253906\"/>\n      <use xlink:href=\"#DejaVuSans-74\" x=\"694.234375\"/>\n      <use xlink:href=\"#DejaVuSans-69\" x=\"733.443359\"/>\n      <use xlink:href=\"#DejaVuSans-6f\" x=\"761.226562\"/>\n      <use xlink:href=\"#DejaVuSans-6e\" x=\"822.408203\"/>\n      <use xlink:href=\"#DejaVuSans-73\" x=\"885.787109\"/>\n     </g>\n    </g>\n   </g>\n  </g>\n </g>\n <defs>\n  <clipPath id=\"pdf5d279c01\">\n   <rect x=\"30.103125\" y=\"7.2\" width=\"279\" height=\"166.32\"/>\n  </clipPath>\n </defs>\n</svg>\n"
     },
     "metadata": {},
     "output_type": "display_data"
    }
   ],
   "source": [
    "plot_model_predictions(predictions=test_preds)"
   ]
  },
  {
   "cell_type": "code",
   "execution_count": 41,
   "id": "40cdf064-323d-496a-afed-668d1cad241e",
   "metadata": {
    "ExecuteTime": {
     "end_time": "2023-09-22T14:54:45.039816600Z",
     "start_time": "2023-09-22T14:54:45.029814100Z"
    }
   },
   "outputs": [],
   "source": []
  }
 ],
 "metadata": {
  "kernelspec": {
   "name": "python3",
   "language": "python",
   "display_name": "Python 3 (ipykernel)"
  },
  "language_info": {
   "codemirror_mode": {
    "name": "ipython",
    "version": 3
   },
   "file_extension": ".py",
   "mimetype": "text/x-python",
   "name": "python",
   "nbconvert_exporter": "python",
   "pygments_lexer": "ipython3",
   "version": "3.11.4"
  }
 },
 "nbformat": 4,
 "nbformat_minor": 5
}
